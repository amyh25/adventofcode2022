{
 "cells": [
  {
   "cell_type": "markdown",
   "id": "3fccdeeb-5085-482e-b711-891311e6da43",
   "metadata": {},
   "source": [
    "# --- Day 5: Supply Stacks ---"
   ]
  },
  {
   "cell_type": "code",
   "execution_count": 75,
   "id": "3b87a288-e3bc-440c-bdc7-f38eb0ce5980",
   "metadata": {},
   "outputs": [
    {
     "name": "stdout",
     "output_type": "stream",
     "text": [
      "INITIAL HEAP:\n",
      "{0: ['S', 'Z', 'P', 'D', 'L', 'B', 'F', 'C'], 1: ['N', 'V', 'G', 'P', 'H', 'W', 'B'], 2: ['F', 'W', 'B', 'J', 'G'], 3: ['G', 'J', 'N', 'F', 'L', 'W', 'C', 'S'], 4: ['W', 'J', 'L', 'T', 'P', 'M', 'S', 'H'], 5: ['B', 'C', 'W', 'G', 'F', 'S'], 6: ['H', 'T', 'P', 'M', 'Q', 'B', 'W'], 7: ['F', 'S', 'W', 'T'], 8: ['N', 'C', 'R']}\n",
      "FINAL HEAP:\n",
      "{0: ['H', 'F'], 1: ['N', 'Q', 'J', 'W'], 2: ['C', 'R', 'T', 'F', 'C', 'N', 'S'], 3: ['S', 'H'], 4: ['B', 'W', 'Z', 'D', 'S', 'T', 'P', 'L', 'S'], 5: ['W', 'M', 'B', 'P'], 6: ['B', 'W', 'N', 'J'], 7: ['C', 'G', 'L', 'J', 'H', 'V', 'S', 'G', 'B', 'T', 'W', 'C', 'G', 'B', 'P', 'L', 'P', 'F', 'W', 'F', 'W'], 8: ['F', 'G', 'M']}\n"
     ]
    }
   ],
   "source": [
    "f = open('input5', 'r')\n",
    "\n",
    "heaps = {}\n",
    "for i in range(0, 9):\n",
    "    heaps[i] = []\n",
    "\n",
    "defining_heap = True\n",
    "while True: \n",
    "    line = f.readline()\n",
    "    if not line:\n",
    "        break\n",
    "    if line[0] == ' ': \n",
    "        defining_heap = False\n",
    "        tmp_heaps = {}\n",
    "        for i in range(0, 9):\n",
    "            tmp_heaps[i] = []\n",
    "        for key in heaps.keys():\n",
    "            heap_size = len(heaps[key])\n",
    "            for i in range(1, heap_size + 1):\n",
    "                tmp_heaps[key].append(heaps[key][heap_size - i])\n",
    "        heaps = tmp_heaps\n",
    "        print('INITIAL HEAP:')\n",
    "        print(heaps)\n",
    "    if defining_heap:\n",
    "        tkns = [line[i:i+4] for i in range(0, len(line), 4)]\n",
    "        for i, item in enumerate(tkns):\n",
    "            if i == 8:\n",
    "                item = item.replace('\\n', ' ')\n",
    "            if item != '    ': \n",
    "                heaps[i].append(item[1])\n",
    "    else: \n",
    "        if line[:4] == 'move': \n",
    "            line_split1 = line[5:-1].split(' from ')\n",
    "            n = int(line_split1[0])\n",
    "            line_split2 = line_split1[1].split(' to ')\n",
    "            cstart = int(line_split2[0])\n",
    "            cend = int(line_split2[1])\n",
    "            for i in range(0, n):\n",
    "                item = heaps[cstart - 1].pop()\n",
    "                heaps[cend - 1].append(item)\n",
    "        elif line[0] == ' ' or line[0] == '\\n':\n",
    "            pass\n",
    "        else: \n",
    "            break\n",
    "        \n",
    "print('FINAL HEAP:')\n",
    "print(heaps)"
   ]
  },
  {
   "cell_type": "code",
   "execution_count": 79,
   "id": "8aa59a70-ef2c-447d-9620-b0e2ae2022ed",
   "metadata": {},
   "outputs": [
    {
     "data": {
      "text/plain": [
       "'FWSHSPJWM'"
      ]
     },
     "execution_count": 79,
     "metadata": {},
     "output_type": "execute_result"
    }
   ],
   "source": [
    "answer = ''\n",
    "for key in heaps.keys():\n",
    "    heap_size = len(heaps[key])\n",
    "    answer = answer + str(heaps[key][heap_size - 1])\n",
    "answer"
   ]
  },
  {
   "cell_type": "markdown",
   "id": "2abe7486-da68-42bd-92ed-1f7c9346ee61",
   "metadata": {},
   "source": [
    "## --- Part Two ---"
   ]
  },
  {
   "cell_type": "code",
   "execution_count": 86,
   "id": "2cf78b6b-931c-4636-8986-caa02c9ec503",
   "metadata": {},
   "outputs": [
    {
     "name": "stdout",
     "output_type": "stream",
     "text": [
      "INITIAL HEAP:\n",
      "{0: ['S', 'Z', 'P', 'D', 'L', 'B', 'F', 'C'], 1: ['N', 'V', 'G', 'P', 'H', 'W', 'B'], 2: ['F', 'W', 'B', 'J', 'G'], 3: ['G', 'J', 'N', 'F', 'L', 'W', 'C', 'S'], 4: ['W', 'J', 'L', 'T', 'P', 'M', 'S', 'H'], 5: ['B', 'C', 'W', 'G', 'F', 'S'], 6: ['H', 'T', 'P', 'M', 'Q', 'B', 'W'], 7: ['F', 'S', 'W', 'T'], 8: ['N', 'C', 'R']}\n",
      "FINAL HEAP:\n",
      "{0: ['L', 'P'], 1: ['T', 'W', 'F', 'W'], 2: ['S', 'S', 'B', 'C', 'B', 'N', 'P'], 3: ['B', 'W'], 4: ['W', 'W', 'J', 'F', 'F', 'J', 'P', 'L', 'H'], 5: ['F', 'T', 'C', 'G'], 6: ['N', 'J', 'S', 'F'], 7: ['C', 'H', 'Q', 'R', 'B', 'V', 'G', 'T', 'G', 'W', 'P', 'S', 'H', 'D', 'M', 'N', 'B', 'G', 'W', 'L', 'Z'], 8: ['C', 'M', 'S']}\n"
     ]
    }
   ],
   "source": [
    "f = open('input5', 'r')\n",
    "\n",
    "heaps = {}\n",
    "for i in range(0, 9):\n",
    "    heaps[i] = []\n",
    "\n",
    "defining_heap = True\n",
    "while True: \n",
    "    line = f.readline()\n",
    "    if not line:\n",
    "        break\n",
    "    if line[0] == ' ': \n",
    "        defining_heap = False\n",
    "        tmp_heaps = {}\n",
    "        for i in range(0, 9):\n",
    "            tmp_heaps[i] = []\n",
    "        for key in heaps.keys():\n",
    "            heap_size = len(heaps[key])\n",
    "            for i in range(1, heap_size + 1):\n",
    "                tmp_heaps[key].append(heaps[key][heap_size - i])\n",
    "        heaps = tmp_heaps\n",
    "        print('INITIAL HEAP:')\n",
    "        print(heaps)\n",
    "    if defining_heap:\n",
    "        tkns = [line[i:i+4] for i in range(0, len(line), 4)]\n",
    "        for i, item in enumerate(tkns):\n",
    "            if i == 8:\n",
    "                item = item.replace('\\n', ' ')\n",
    "            if item != '    ': \n",
    "                heaps[i].append(item[1])\n",
    "    else: \n",
    "        if line[:4] == 'move': \n",
    "            line_split1 = line[5:-1].split(' from ')\n",
    "            n = int(line_split1[0])\n",
    "            line_split2 = line_split1[1].split(' to ')\n",
    "            cstart = int(line_split2[0])\n",
    "            cend = int(line_split2[1])\n",
    "            tmp_stack = []\n",
    "            for i in range(0, n):\n",
    "                item = heaps[cstart - 1].pop()\n",
    "                tmp_stack.append(item)\n",
    "            for i in range(1, len(tmp_stack) + 1): \n",
    "                heaps[cend - 1].append(tmp_stack[len(tmp_stack) - i])\n",
    "        elif line[0] == ' ' or line[0] == '\\n':\n",
    "            pass\n",
    "        else: \n",
    "            break\n",
    "        \n",
    "print('FINAL HEAP:')\n",
    "print(heaps)"
   ]
  },
  {
   "cell_type": "code",
   "execution_count": 87,
   "id": "633d85bb-d134-4277-87e6-5bf15373d6f4",
   "metadata": {},
   "outputs": [
    {
     "data": {
      "text/plain": [
       "'PWPWHGFZS'"
      ]
     },
     "execution_count": 87,
     "metadata": {},
     "output_type": "execute_result"
    }
   ],
   "source": [
    "answer = ''\n",
    "for key in heaps.keys():\n",
    "    heap_size = len(heaps[key])\n",
    "    answer = answer + str(heaps[key][heap_size - 1])\n",
    "answer"
   ]
  },
  {
   "cell_type": "code",
   "execution_count": null,
   "id": "7e551984-983f-40a2-a47d-780fa98b87df",
   "metadata": {},
   "outputs": [],
   "source": []
  }
 ],
 "metadata": {
  "kernelspec": {
   "display_name": "Python 3 (ipykernel)",
   "language": "python",
   "name": "python3"
  },
  "language_info": {
   "codemirror_mode": {
    "name": "ipython",
    "version": 3
   },
   "file_extension": ".py",
   "mimetype": "text/x-python",
   "name": "python",
   "nbconvert_exporter": "python",
   "pygments_lexer": "ipython3",
   "version": "3.10.4"
  }
 },
 "nbformat": 4,
 "nbformat_minor": 5
}
