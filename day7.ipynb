{
 "cells": [
  {
   "cell_type": "code",
   "execution_count": 2,
   "id": "62ab9774-4aea-4919-9f41-f686825fa25c",
   "metadata": {},
   "outputs": [],
   "source": [
    "import numpy as np\n",
    "import pandas as pd"
   ]
  },
  {
   "cell_type": "markdown",
   "id": "46294f06-d9ae-4fb5-88fa-6bbf7dcd680f",
   "metadata": {},
   "source": [
    "# --- Day 7: No Space Left On Device ---"
   ]
  },
  {
   "cell_type": "code",
   "execution_count": 163,
   "id": "0cf7c4c0-7b41-49db-b03d-c134b8a17c08",
   "metadata": {},
   "outputs": [],
   "source": [
    "class Directory: \n",
    "    def __init__(self):\n",
    "        self.contents = {}\n",
    "    \n",
    "    def add_content(self, stuff, name):\n",
    "        self.contents[name] = stuff\n",
    "    \n",
    "    def exists(self, name):\n",
    "        if name in self.contents.keys(): \n",
    "            return True\n",
    "        return False\n",
    "    \n",
    "    def calculate_size(self):\n",
    "        running_size_total = 0\n",
    "       \n",
    "        for k in self.contents.keys():\n",
    "            if isinstance(self.contents[k], File): \n",
    "                running_size_total += self.contents[k].size\n",
    "            elif isinstance(self.contents[k], Directory):\n",
    "                running_size_total += self.contents[k].calculate_size()\n",
    "            else:\n",
    "                print(\"you've made a size calculation mistake\")\n",
    "                \n",
    "        return running_size_total\n",
    "    \n",
    "    def __str__(self, prefix=''): \n",
    "        out = ''\n",
    "        for k in self.contents.keys():\n",
    "            out = out + prefix + k\n",
    "            c = self.contents[k]\n",
    "            if isinstance(c, File): \n",
    "                out = out + ' size: ' + str(c.size) + '\\n'\n",
    "            elif isinstance(c, Directory):\n",
    "                out = out + '\\n' + c.__str__(prefix + '|---')\n",
    "            else:\n",
    "                print(\"you've added something that's not a File or Directory? Weird. \")\n",
    "        return out\n",
    "        \n",
    "\n",
    "class File: \n",
    "    def __init__(self, size):\n",
    "        self.size = size\n"
   ]
  },
  {
   "cell_type": "code",
   "execution_count": 164,
   "id": "3b87a288-e3bc-440c-bdc7-f38eb0ce5980",
   "metadata": {},
   "outputs": [],
   "source": [
    "f = open('input7', 'r')\n",
    "\n",
    "elfDirectory = Directory()\n",
    "current_directory_location = []\n",
    "line_number = 0\n",
    "ls_mode = False\n",
    "\n",
    "while True: \n",
    "    line = f.readline()\n",
    "    if not line:\n",
    "        break\n",
    "    if line == '\\n': \n",
    "        break\n",
    "    if line == '$ cd /\\n':\n",
    "        continue\n",
    "    \n",
    "    # get to correct subdirectory\n",
    "    current_directory = elfDirectory\n",
    "    for d in current_directory_location: \n",
    "        current_directory = current_directory.contents[d]\n",
    "\n",
    "    # after an ls command is read, parse ls commands until done\n",
    "    if ls_mode: \n",
    "        if line[:3] == 'dir': \n",
    "            lsplit = line[:-1].split(' ')\n",
    "            dirname = lsplit[1]\n",
    "            if not current_directory.exists(dirname):\n",
    "                current_directory.add_content(Directory(), dirname)\n",
    "        elif line[0] == '$': \n",
    "            ls_mode = False\n",
    "        else: \n",
    "            lsplit = line[:-1].split(' ')\n",
    "            filesize = int(lsplit[0])\n",
    "            filename = lsplit[1]\n",
    "            if not current_directory.exists(filename):\n",
    "                current_directory.add_content(File(filesize), filename)\n",
    "\n",
    "    # read commands, not ls\n",
    "    if not ls_mode: \n",
    "        if line[:4] == '$ cd': \n",
    "            sym, cmd, dest = line[:-1].split(' ')\n",
    "            if dest == '..': \n",
    "                current_directory_location = current_directory_location[:-1]\n",
    "            elif dest == '/': \n",
    "                current_directory_location = []\n",
    "            else: \n",
    "                current_directory_location.append(dest)\n",
    "        elif line[:4] == '$ ls': \n",
    "            ls_mode = True\n",
    "            \n",
    "    #print(line)\n",
    "    \n",
    "    #line_number += 1\n",
    "    #if line_number > 25: \n",
    "        #break"
   ]
  },
  {
   "cell_type": "code",
   "execution_count": 165,
   "id": "3a475fc3-8ce1-4b4e-bd17-1084de657d2a",
   "metadata": {},
   "outputs": [
    {
     "data": {
      "text/plain": [
       "44274331"
      ]
     },
     "execution_count": 165,
     "metadata": {},
     "output_type": "execute_result"
    }
   ],
   "source": [
    "elfDirectory.calculate_size()"
   ]
  },
  {
   "cell_type": "code",
   "execution_count": 166,
   "id": "7a28ae29-f80f-40ea-8309-054a1eeae690",
   "metadata": {},
   "outputs": [],
   "source": [
    "# print(elfDirectory)"
   ]
  },
  {
   "cell_type": "code",
   "execution_count": 167,
   "id": "bd252d85-fea2-4262-830c-ffa5eebd2c62",
   "metadata": {},
   "outputs": [],
   "source": [
    "def get_sum(my_dir):\n",
    "    running_total = 0\n",
    "    for key in my_dir.contents.keys():\n",
    "        content = my_dir.contents[key]\n",
    "        if isinstance(content, Directory):\n",
    "            dirsize = content.calculate_size()\n",
    "            if dirsize <= 100000: \n",
    "                running_total += dirsize\n",
    "            running_total += get_sum(content)\n",
    "    return running_total"
   ]
  },
  {
   "cell_type": "code",
   "execution_count": 168,
   "id": "5c399a01-e088-4254-8c67-728062593f87",
   "metadata": {},
   "outputs": [
    {
     "data": {
      "text/plain": [
       "1915606"
      ]
     },
     "execution_count": 168,
     "metadata": {},
     "output_type": "execute_result"
    }
   ],
   "source": [
    "get_sum(elfDirectory)"
   ]
  },
  {
   "cell_type": "markdown",
   "id": "22cdc816-0be0-41c1-a6df-a35bbfece8fb",
   "metadata": {},
   "source": [
    "## --- Part Two ---"
   ]
  },
  {
   "cell_type": "code",
   "execution_count": 169,
   "id": "fce4ced0-effc-4da4-8ad2-d345ef8383b1",
   "metadata": {},
   "outputs": [
    {
     "data": {
      "text/plain": [
       "25725669"
      ]
     },
     "execution_count": 169,
     "metadata": {},
     "output_type": "execute_result"
    }
   ],
   "source": [
    "70000000 - 44274331"
   ]
  },
  {
   "cell_type": "code",
   "execution_count": 175,
   "id": "577f16b1-ad6a-42a7-b548-968c4bfe7354",
   "metadata": {},
   "outputs": [
    {
     "name": "stdout",
     "output_type": "stream",
     "text": [
      "4274331\n"
     ]
    }
   ],
   "source": [
    "# currently available space; we want it to be 30,000,000\n",
    "disk_size = 70000000\n",
    "sys_update_size = 30000000\n",
    "available_space = disk_size - elfDirectory.calculate_size()\n",
    "needs_to_free_space = sys_update_size - available_space\n",
    "print(needs_to_free_space)"
   ]
  },
  {
   "cell_type": "code",
   "execution_count": 178,
   "id": "3d5873d6-5d3b-4da1-b57d-c62feea16179",
   "metadata": {},
   "outputs": [
    {
     "data": {
      "text/plain": [
       "(5025657, 'rlbhdgm')"
      ]
     },
     "execution_count": 178,
     "metadata": {},
     "output_type": "execute_result"
    }
   ],
   "source": [
    "def get_smallest_gt_thresh(myDir, thresh=needs_to_free_space):\n",
    "    best_dirsize = disk_size\n",
    "    best_dirname = ''\n",
    "    for key in myDir.contents.keys(): \n",
    "        content = myDir.contents[key]\n",
    "        if isinstance(content, Directory):\n",
    "            dirsize = content.calculate_size()\n",
    "            if dirsize >= thresh and dirsize < best_dirsize:\n",
    "                best_dirsize = dirsize\n",
    "                best_dirname = key\n",
    "            subdir_best_dirsize, subdir_best_dirname = get_smallest_gt_thresh(content)\n",
    "            if subdir_best_dirsize >= thresh and subdir_best_dirsize < best_dirsize: \n",
    "                best_dirsize = subdir_best_dirsize\n",
    "                best_dirname = subdir_best_dirname\n",
    "    return best_dirsize, best_dirname\n",
    "\n",
    "get_smallest_gt_thresh(elfDirectory)"
   ]
  },
  {
   "cell_type": "markdown",
   "id": "6aa47780-9d19-4a31-8a72-ef91ec932cda",
   "metadata": {
    "tags": []
   },
   "source": [
    "# Chat GPT solution\n",
    "\n",
    "I asked the following: \n",
    "```\n",
    "Can you write me a solution to this problem in python: [Advent of Code Day 7 Part 1 Text]\n",
    "```\n",
    "\n",
    "Initially, ChatGPT wasn't able to finish printing the code -- I suspect that it just ran out of space. So after prompting it to continue a couple of times to little success, I asked it to give me the solution with no comments"
   ]
  },
  {
   "cell_type": "code",
   "execution_count": 213,
   "id": "0014bd9a-a8d5-4cf4-8fe3-cae0763336a9",
   "metadata": {},
   "outputs": [
    {
     "name": "stdout",
     "output_type": "stream",
     "text": [
      "0\n"
     ]
    }
   ],
   "source": [
    "class Directory:\n",
    "  def __init__(self, name):\n",
    "    self.name = name\n",
    "    self.files = []\n",
    "    self.directories = []\n",
    "\n",
    "  def total_size(self):\n",
    "    size = 0\n",
    "    for file in self.files:\n",
    "      size += file[1]\n",
    "    for directory in self.directories:\n",
    "      size += directory.total_size()\n",
    "    return size\n",
    "\n",
    "  def add_file(self, name, size):\n",
    "    self.files.append((name, size))\n",
    "\n",
    "  def add_directory(self, directory):\n",
    "    self.directories.append(directory)\n",
    "\n",
    "\n",
    "def parse_input(input_str):\n",
    "  root = Directory(\"/\")\n",
    "  current_directory = root\n",
    "\n",
    "  lines = input_str.strip().split(\"\\n\")\n",
    "  for line in lines:\n",
    "    if line.startswith(\"$\"):\n",
    "      parts = line.split()\n",
    "      if parts[0] == \"$ cd\":\n",
    "        if parts[1] == \"..\":\n",
    "          current_directory = current_directory.parent\n",
    "        elif parts[1] == \"/\":\n",
    "          current_directory = root\n",
    "        else:\n",
    "          for directory in current_directory.directories:\n",
    "            if directory.name == parts[1]:\n",
    "              current_directory = directory\n",
    "              break\n",
    "    else:\n",
    "      parts = line.split()\n",
    "      for i in range(0, len(parts), 2):\n",
    "        if parts[i] == \"dir\":\n",
    "          directory = Directory(parts[i + 1])\n",
    "          directory.parent = current_directory\n",
    "          current_directory.add_directory(directory)\n",
    "        else:\n",
    "          current_directory.add_file(parts[i + 1], int(parts[i]))\n",
    "\n",
    "  return root\n",
    "\n",
    "\n",
    "def solve(root):\n",
    "  result = 0\n",
    "\n",
    "  for directory in root.directories:\n",
    "    if directory.total_size() <= 100000:\n",
    "      result += directory.total_size()\n",
    "\n",
    "  return result\n",
    "\n",
    "\n",
    "input_str = \"\"\"\n",
    "$ cd /\n",
    "$ ls\n",
    "dir a\n",
    "14848514 b.txt\n",
    "8504156 c.dat\n",
    "dir d\n",
    "$ cd a\n",
    "$ ls\n",
    "dir e\n",
    "29116 f\n",
    "2557 g\n",
    "62596 h.lst\n",
    "$ cd e\n",
    "$ ls\n",
    "584 i\n",
    "$ cd ..\n",
    "$ cd ..\n",
    "$ cd d\n",
    "$ ls\n",
    "4060174 j\n",
    "8033020 d.log\n",
    "5626152 d.ext\n",
    "7214296 k\n",
    "\"\"\"\n",
    "\n",
    "root = parse_input(input_str)\n",
    "result = solve(root)\n",
    "print(result)\n"
   ]
  },
  {
   "cell_type": "markdown",
   "id": "4bd879d5-c719-4bc5-bc2b-3c6337c51126",
   "metadata": {},
   "source": [
    "Okay, clearly it's not a correct solution. Let's do a little troubleshooting to figure out what's happening. "
   ]
  },
  {
   "cell_type": "code",
   "execution_count": 214,
   "id": "39a374ed-d022-4b0c-8615-39982afdd68e",
   "metadata": {},
   "outputs": [
    {
     "data": {
      "text/plain": [
       "'/'"
      ]
     },
     "execution_count": 214,
     "metadata": {},
     "output_type": "execute_result"
    }
   ],
   "source": [
    "root.name"
   ]
  },
  {
   "cell_type": "code",
   "execution_count": 215,
   "id": "dc31edbb-5de9-4c2c-a3a9-0ab185a3015f",
   "metadata": {},
   "outputs": [
    {
     "data": {
      "text/plain": [
       "[('b.txt', 14848514),\n",
       " ('c.dat', 8504156),\n",
       " ('f', 29116),\n",
       " ('g', 2557),\n",
       " ('h.lst', 62596),\n",
       " ('i', 584),\n",
       " ('j', 4060174),\n",
       " ('d.log', 8033020),\n",
       " ('d.ext', 5626152),\n",
       " ('k', 7214296)]"
      ]
     },
     "execution_count": 215,
     "metadata": {},
     "output_type": "execute_result"
    }
   ],
   "source": [
    "root.files"
   ]
  },
  {
   "cell_type": "code",
   "execution_count": 216,
   "id": "beb56a61-7c7f-4fd5-901f-c4921f236f49",
   "metadata": {},
   "outputs": [
    {
     "data": {
      "text/plain": [
       "['a', 'd', 'e']"
      ]
     },
     "execution_count": 216,
     "metadata": {},
     "output_type": "execute_result"
    }
   ],
   "source": [
    "[x.name for x in root.directories]"
   ]
  },
  {
   "cell_type": "markdown",
   "id": "eaaab71a-0d12-4e70-a1b6-9aa95a1f0792",
   "metadata": {},
   "source": [
    "It didn't correctly parse the tree structure of the directory... so I asked it this:\n",
    "```\n",
    "Good attempt, but the tree structure is not parsed correctly in the above code. In the given example, directory `e` should be nested within directory `a`. Could you try again?\n",
    "```\n",
    "\n",
    "And it responded: \n",
    "```\n",
    "Sure, here is a revised solution that correctly parses the tree structure:\n",
    "```"
   ]
  },
  {
   "cell_type": "code",
   "execution_count": 224,
   "id": "a6d9a41e-89be-408e-8276-334814ed528f",
   "metadata": {},
   "outputs": [
    {
     "name": "stdout",
     "output_type": "stream",
     "text": [
      "0\n"
     ]
    }
   ],
   "source": [
    "class Directory:\n",
    "  def __init__(self, name):\n",
    "    self.name = name\n",
    "    self.files = []\n",
    "    self.directories = []\n",
    "\n",
    "  def total_size(self):\n",
    "    size = 0\n",
    "    for file in self.files:\n",
    "      size += file[1]\n",
    "    for directory in self.directories:\n",
    "      size += directory.total_size()\n",
    "    return size\n",
    "\n",
    "  def add_file(self, name, size):\n",
    "    self.files.append((name, size))\n",
    "\n",
    "  def add_directory(self, directory):\n",
    "    self.directories.append(directory)\n",
    "\n",
    "\n",
    "def parse_input(input_str):\n",
    "  root = Directory(\"/\")\n",
    "  current_directory = root\n",
    "\n",
    "  lines = input_str.strip().split(\"\\n\")\n",
    "  for line in lines:\n",
    "    if line.startswith(\"$\"):\n",
    "      parts = line.split()\n",
    "      if parts[0] == \"$ cd\":\n",
    "        if parts[1] == \"..\":\n",
    "          current_directory = current_directory.parent\n",
    "        elif parts[1] == \"/\":\n",
    "          current_directory = root\n",
    "        else:\n",
    "          found = False\n",
    "          for directory in current_directory.directories:\n",
    "            if directory.name == parts[1]:\n",
    "              current_directory = directory\n",
    "              found = True\n",
    "              break\n",
    "          if not found:\n",
    "            new_directory = Directory(parts[1])\n",
    "            new_directory.parent = current_directory\n",
    "            current_directory.add_directory(new_directory)\n",
    "            current_directory = new_directory\n",
    "    else:\n",
    "      parts = line.split()\n",
    "      for i in range(0, len(parts), 2):\n",
    "        if parts[i] == \"dir\":\n",
    "          directory = Directory(parts[i + 1])\n",
    "          directory.parent = current_directory\n",
    "          current_directory.add_directory(directory)\n",
    "        else:\n",
    "          current_directory.add_file(parts[i + 1], int(parts[i]))\n",
    "\n",
    "  return root\n",
    "\n",
    "\n",
    "def solve(root):\n",
    "  result = 0\n",
    "\n",
    "  for directory in root.directories:\n",
    "    if directory.total_size() <= 100000:\n",
    "      result += directory.total_size()\n",
    "\n",
    "  return result\n",
    "\n",
    "\n",
    "input_str = \"\"\"\n",
    "$ cd /\n",
    "$ ls\n",
    "dir a\n",
    "14848514 b.txt\n",
    "8504156 c.dat\n",
    "dir d\n",
    "$ cd a\n",
    "$ ls\n",
    "dir e\n",
    "29116 f\n",
    "2557 g\n",
    "62596 h.lst\n",
    "$ cd e\n",
    "$ ls\n",
    "584 i\n",
    "$ cd ..\n",
    "$ cd ..\n",
    "$ cd d\n",
    "$ ls\n",
    "4060174 j\n",
    "8033020 d.log\n",
    "5626152 d.ext\n",
    "7214296 k\n",
    "\"\"\"\n",
    "\n",
    "root = parse_input(input_str)\n",
    "result = solve(root)\n",
    "print(result)\n"
   ]
  },
  {
   "cell_type": "code",
   "execution_count": 225,
   "id": "af7284f8-8a7a-475a-a2e2-33fc4ce8e90c",
   "metadata": {},
   "outputs": [
    {
     "data": {
      "text/plain": [
       "['a', 'd', 'e']"
      ]
     },
     "execution_count": 225,
     "metadata": {},
     "output_type": "execute_result"
    }
   ],
   "source": [
    "[x.name for x in root.directories]"
   ]
  },
  {
   "cell_type": "markdown",
   "id": "50310939-9635-4f61-bf4d-58ed883e10d3",
   "metadata": {},
   "source": [
    "It's lying to me! This isn't correct. I'll try this again fresh later. "
   ]
  },
  {
   "cell_type": "code",
   "execution_count": null,
   "id": "b5d84e2e-7449-4627-b35b-a24b6c791e25",
   "metadata": {},
   "outputs": [],
   "source": []
  }
 ],
 "metadata": {
  "kernelspec": {
   "display_name": "Python 3 (ipykernel)",
   "language": "python",
   "name": "python3"
  },
  "language_info": {
   "codemirror_mode": {
    "name": "ipython",
    "version": 3
   },
   "file_extension": ".py",
   "mimetype": "text/x-python",
   "name": "python",
   "nbconvert_exporter": "python",
   "pygments_lexer": "ipython3",
   "version": "3.10.4"
  }
 },
 "nbformat": 4,
 "nbformat_minor": 5
}
