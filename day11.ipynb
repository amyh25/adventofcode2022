{
 "cells": [
  {
   "cell_type": "markdown",
   "id": "5a639ede-5f31-4b43-aec9-43c73abb884a",
   "metadata": {},
   "source": [
    "# Day 11\n",
    "\n",
    "## Part 1"
   ]
  },
  {
   "cell_type": "code",
   "execution_count": 1,
   "id": "c950f4e5-1e98-497f-8e84-84abafef6874",
   "metadata": {},
   "outputs": [],
   "source": [
    "import functools\n",
    "from math import floor"
   ]
  },
  {
   "cell_type": "code",
   "execution_count": 2,
   "id": "71302901-114f-4ca4-94c8-426882a635e1",
   "metadata": {},
   "outputs": [],
   "source": [
    "\n",
    "class Monkey: \n",
    "    def __init__(self, m_in):\n",
    "        self.num = m_in['num']\n",
    "        self.items = m_in['starting_items']\n",
    "        self.operation = m_in['operation']\n",
    "        self.test = m_in['test']\n",
    "        self.inspections = 0\n",
    "        \n",
    "    def __repr__(self):\n",
    "        out = str(self.num)\n",
    "        out += ': '\n",
    "        for item in self.items: \n",
    "            out += str(item) + ' '\n",
    "        out += '\\n'\n",
    "        return(out)\n",
    "        \n",
    "\n",
    "class MonkeyGroup: \n",
    "    def __init__(self): \n",
    "        self.monkeys = {}\n",
    "            \n",
    "    def __repr__(self):\n",
    "        out = 'MonkeyGroup\\n'\n",
    "        for key, value in self.monkeys.items(): \n",
    "            out += value.__repr__()\n",
    "        return(out)\n",
    "        \n",
    "    def add_monkey(self, m): \n",
    "        self.monkeys[m.num] = m\n",
    "    \n",
    "    def pass_item(self, monkey_num, verbose=False): \n",
    "        if len(self.monkeys[monkey_num].items) > 0: \n",
    "            self.monkeys[monkey_num].inspections += 1\n",
    "            \n",
    "            item = self.monkeys[monkey_num].items.pop(0)\n",
    "            new_item = self.monkeys[monkey_num].operation(item)\n",
    "            new_item = floor(new_item / 3)\n",
    "            new_monkey = self.monkeys[monkey_num].test(new_item)\n",
    "            self.monkeys[new_monkey].items.append(new_item)\n",
    "            if verbose: \n",
    "                print('---')\n",
    "                print(item)\n",
    "                print(new_item)\n",
    "                print(new_monkey)\n",
    "                print('---')\n",
    "            return 1\n",
    "        else: \n",
    "            if verbose: \n",
    "                print('No more items!')\n",
    "            return 0"
   ]
  },
  {
   "cell_type": "code",
   "execution_count": 3,
   "id": "480296b0-704f-4b60-b5c7-9ca8b1ff4e59",
   "metadata": {},
   "outputs": [],
   "source": [
    "# parse monkeys\n",
    "def monkey_setup(input_file):         \n",
    "    f = open(input_file, 'r')\n",
    "\n",
    "    monkeys = MonkeyGroup()\n",
    "    monkey_input = {}\n",
    "    parsing_test = 0\n",
    "    test_input = {}\n",
    "\n",
    "    while True: \n",
    "        line = f.readline()\n",
    "        if not line:\n",
    "            out_true = test_input['true']\n",
    "            out_divis = test_input['divis_by']\n",
    "            out_false = test_input['false']\n",
    "            monkey_input['test'] = functools.partial(lambda x, out_true=out_true, out_divis=out_divis, out_false=out_false: out_true if ((x % out_divis) == 0) else out_false)\n",
    "\n",
    "            break\n",
    "        if parsing_test == 1: \n",
    "            if line == '\\n': \n",
    "                parsing_test = 0\n",
    "\n",
    "                out_true = test_input['true']\n",
    "                out_divis = test_input['divis_by']\n",
    "                out_false = test_input['false']\n",
    "                monkey_input['test'] = functools.partial(lambda x, out_true=out_true, out_divis=out_divis, out_false=out_false: out_true if ((x % out_divis) == 0) else out_false)\n",
    "\n",
    "                test_input = {}\n",
    "            elif 'true' in line: \n",
    "                test_input['true'] = int(line[:-1].split(' ')[-1])\n",
    "            else: \n",
    "                test_input['false'] = int(line[:-1].split(' ')[-1])\n",
    "        elif 'Monkey' in line: \n",
    "            if not monkey_input == {}:\n",
    "                m = Monkey(monkey_input)\n",
    "                monkeys.add_monkey(m)\n",
    "            monkey_input = {}\n",
    "            monkey_input['num'] = int(line[-3:-2])\n",
    "        elif 'Starting items:' in line: \n",
    "            monkey_input['starting_items'] = [int(x) for x in line[18:-1].split(', ')]\n",
    "            # monkey_input['starting_items'].reverse()\n",
    "        elif 'Operation:' in line: \n",
    "            split_line = line[13:-1].split(' ')\n",
    "            v2 = split_line[4]\n",
    "            if split_line[3] == '*': \n",
    "                if v2 == 'old': \n",
    "                    monkey_input['operation'] = lambda x: x * x\n",
    "                else: \n",
    "                    v2 = int(v2)\n",
    "                    monkey_input['operation'] = functools.partial(lambda x, v2=v2: x * v2)\n",
    "            elif split_line[3] == '+': \n",
    "                if v2 == 'old': \n",
    "                    monkey_input['operation'] = lambda x: x + x\n",
    "                else: \n",
    "                    v2 = int(v2)\n",
    "                    monkey_input['operation'] = functools.partial(lambda x, v2=v2: x + v2)\n",
    "            else: \n",
    "                print('You forgot to consider something')\n",
    "        elif 'Test' in line: \n",
    "            parsing_test = 1\n",
    "            test_input['divis_by'] = int(line[8:-1].split(' ')[2])\n",
    "\n",
    "    m = Monkey(monkey_input)\n",
    "    monkeys.add_monkey(m)\n",
    "    \n",
    "    return(monkeys)"
   ]
  },
  {
   "cell_type": "code",
   "execution_count": 4,
   "id": "fcb90e5b-233c-40de-bd57-78801803c6cd",
   "metadata": {},
   "outputs": [
    {
     "name": "stdout",
     "output_type": "stream",
     "text": [
      "MonkeyGroup\n",
      "0: 79 98 \n",
      "1: 54 65 75 74 \n",
      "2: 79 60 97 \n",
      "3: 74 \n",
      "\n",
      "MonkeyGroup\n",
      "0: 10 12 14 26 34 \n",
      "1: 245 93 53 199 115 \n",
      "2: \n",
      "3: \n",
      "\n",
      "[101, 95, 7, 105]\n"
     ]
    }
   ],
   "source": [
    "monkeys = monkey_setup('example11')\n",
    "print(monkeys)\n",
    "for round in range(20):\n",
    "    for i in range(len(monkeys.monkeys)): \n",
    "        while True: \n",
    "            out = monkeys.pass_item(i)\n",
    "            if out == 0: \n",
    "                break\n",
    "print(monkeys)\n",
    "print([m.inspections for key, m in monkeys.monkeys.items()])"
   ]
  },
  {
   "cell_type": "code",
   "execution_count": 5,
   "id": "d6981156-bd17-400e-b756-c8f07f1e996f",
   "metadata": {},
   "outputs": [
    {
     "data": {
      "text/plain": [
       "10605"
      ]
     },
     "execution_count": 5,
     "metadata": {},
     "output_type": "execute_result"
    }
   ],
   "source": [
    "101*105"
   ]
  },
  {
   "cell_type": "markdown",
   "id": "81f22076-18b0-40f9-ba1a-cf5b6dc0e7d8",
   "metadata": {},
   "source": [
    "Now to do the real thing!"
   ]
  },
  {
   "cell_type": "code",
   "execution_count": 6,
   "id": "6f4eb586-e9ee-4449-bd30-55a4d336a77d",
   "metadata": {},
   "outputs": [
    {
     "name": "stdout",
     "output_type": "stream",
     "text": [
      "MonkeyGroup\n",
      "0: 93 54 69 66 71 \n",
      "1: 89 51 80 66 \n",
      "2: 90 92 63 91 96 63 64 \n",
      "3: 65 77 \n",
      "4: 76 68 94 \n",
      "5: 86 65 66 97 73 83 \n",
      "6: 78 \n",
      "7: 89 57 59 61 87 55 55 88 \n",
      "\n",
      "MonkeyGroup\n",
      "0: \n",
      "1: 2 2 2 2 2 2 2 2 2 2 2 2 2 \n",
      "2: \n",
      "3: 4 4 4 4 4 4 4 4 4 4 4 4 956 \n",
      "4: \n",
      "5: 6 6 6 6 6 6 6 6 6 6 \n",
      "6: \n",
      "7: \n",
      "\n",
      "[14, 239, 22, 238, 25, 231, 236, 246]\n"
     ]
    }
   ],
   "source": [
    "monkeys = monkey_setup('input11')\n",
    "print(monkeys)\n",
    "for round in range(20):\n",
    "    for i in range(len(monkeys.monkeys)): \n",
    "        while True: \n",
    "            out = monkeys.pass_item(i)\n",
    "            if out == 0: \n",
    "                break\n",
    "print(monkeys)\n",
    "print([m.inspections for key, m in monkeys.monkeys.items()])\n"
   ]
  },
  {
   "cell_type": "code",
   "execution_count": 7,
   "id": "6eb1cc71-ab8d-4b1b-bdae-400ed05fdb45",
   "metadata": {},
   "outputs": [
    {
     "data": {
      "text/plain": [
       "58794"
      ]
     },
     "execution_count": 7,
     "metadata": {},
     "output_type": "execute_result"
    }
   ],
   "source": [
    "246 * 239"
   ]
  },
  {
   "cell_type": "markdown",
   "id": "9ec527c6-1efa-4b7a-a8b3-1134330f3187",
   "metadata": {},
   "source": [
    "## Troubleshooting lambda functions\n",
    "\n",
    "The first iteration of these lambda functions that I wrote didn't work, so I got ChatGPT to help me solve it! I asked it: \n",
    "\n",
    "```\n",
    "Hey ChatGPT! I'm trying to solve a coding problem where I assign lambda functions to objects. However, I'm running into a problem because I'm using a variable to assign values to the lambda functions (see the example below) and the value of the variable is changing; I want it to be fixed. How can I solve this problem?\n",
    "```"
   ]
  },
  {
   "cell_type": "code",
   "execution_count": 8,
   "id": "fba56109-8c91-4627-82c6-045b20e600fb",
   "metadata": {},
   "outputs": [
    {
     "data": {
      "text/plain": [
       "[8, 8, 8, 8, 8]"
      ]
     },
     "execution_count": 8,
     "metadata": {},
     "output_type": "execute_result"
    }
   ],
   "source": [
    "class Tester: \n",
    "    def __init__(self, operation): \n",
    "        self.operation = operation\n",
    "\n",
    "testers = {}\n",
    "for i in range(5): \n",
    "    op = lambda x: x + i\n",
    "    testers[i] = Tester(op)\n",
    "    \n",
    "[x.operation(4) for x in testers.values()]"
   ]
  },
  {
   "cell_type": "markdown",
   "id": "b0d0a3d2-f62d-4057-899c-0ae9cf72ab56",
   "metadata": {},
   "source": [
    "And it responded: \n",
    "```\n",
    "In the example you provided, the problem is that the value of the variable i changes in each iteration of the loop, and the lambda function defined within the loop captures the value of i at the time it is defined. As a result, all of the lambda functions will have the same value of i when they are called, which is the value of i in the final iteration of the loop.\n",
    "\n",
    "To fix this problem, you can use the functools.partial function from the functools module to create a new function that has a fixed value for the parameter i. Here's how you can do it:\n",
    "```"
   ]
  },
  {
   "cell_type": "code",
   "execution_count": 9,
   "id": "2324bf1a-5792-4491-bfac-e111ea63b3bd",
   "metadata": {},
   "outputs": [
    {
     "data": {
      "text/plain": [
       "[4, 5, 6, 7, 8]"
      ]
     },
     "execution_count": 9,
     "metadata": {},
     "output_type": "execute_result"
    }
   ],
   "source": [
    "import functools\n",
    "\n",
    "class Tester: \n",
    "    def __init__(self, operation): \n",
    "        self.operation = operation\n",
    "\n",
    "testers = {}\n",
    "for i in range(5): \n",
    "    op = functools.partial(lambda x, i=i: x + i)\n",
    "    testers[i] = Tester(op)\n",
    "    \n",
    "[x.operation(4) for x in testers.values()]\n"
   ]
  },
  {
   "cell_type": "markdown",
   "id": "f0fa075a-0142-4bb7-9b86-22f2e8bf5e44",
   "metadata": {},
   "source": [
    "The functools.partial function creates a new function that takes a single argument, x, and has a fixed value for the parameter i. This new function is then passed to the Tester constructor and assigned to the operation attribute. When the lambda function is called, it will use the fixed value of i that was specified when the function was created."
   ]
  },
  {
   "cell_type": "markdown",
   "id": "bfbb40e8-676f-4cfc-b374-c335e8875232",
   "metadata": {},
   "source": [
    "I have no idea if the explanation it gave is correct but the code works. "
   ]
  },
  {
   "cell_type": "markdown",
   "id": "1d524400-256c-412a-b371-892ae7fbcc16",
   "metadata": {},
   "source": [
    "## Part 2\n",
    "\n",
    "The problem with Part 2 is that you no longer get to divide the \"worry level\" of the item by 3, which causes the values to balloon rapidly out of control, such that simulating even 1000 passes (which is trivial in Part 1) is difficult in part 2. However, due to the properties of mods, we can simply mod the values by a lowest common divisor which will keep the values within a reasonable range. \n",
    "\n",
    "For instance, if the rules for monkeys 1, 2, and 3 are 'divisible by 12', 'divisible by 29', and 'divisible by 21', then I can just multiple 12, 29, and 21 together, mod every monkey item by that, and still retain accurate calculations even across thousands of iterations. Yay!"
   ]
  },
  {
   "cell_type": "code",
   "execution_count": 22,
   "id": "ff240401-cf10-4eb9-b1fb-a9a526dfca9e",
   "metadata": {},
   "outputs": [],
   "source": [
    "\n",
    "class Monkey: \n",
    "    def __init__(self, m_in):\n",
    "        self.num = m_in['num']\n",
    "        self.items = m_in['starting_items']\n",
    "        self.operation = m_in['operation']\n",
    "        self.test = m_in['test']\n",
    "        self.inspections = 0\n",
    "        self.divisor = m_in['divisor']\n",
    "        \n",
    "    def __repr__(self):\n",
    "        out = str(self.num)\n",
    "        out += ': '\n",
    "        for item in self.items: \n",
    "            out += str(item) + ' '\n",
    "        out += '\\n'\n",
    "        return(out)\n",
    "        \n",
    "\n",
    "class MonkeyGroup: \n",
    "    def __init__(self): \n",
    "        self.monkeys = {}\n",
    "        self.lcdivisor = 1\n",
    "            \n",
    "    def __repr__(self):\n",
    "        out = 'MonkeyGroup\\n'\n",
    "        for key, value in self.monkeys.items(): \n",
    "            out += value.__repr__()\n",
    "        return(out)\n",
    "        \n",
    "    def add_monkey(self, m): \n",
    "        self.monkeys[m.num] = m\n",
    "        self.lcdivisor = self.lcdivisor*m.divisor\n",
    "    \n",
    "    def pass_item(self, monkey_num, verbose=False): \n",
    "        if len(self.monkeys[monkey_num].items) > 0: \n",
    "            self.monkeys[monkey_num].inspections += 1\n",
    "            \n",
    "            item = self.monkeys[monkey_num].items.pop(0)\n",
    "            new_item = self.monkeys[monkey_num].operation(item)\n",
    "            new_monkey = self.monkeys[monkey_num].test(new_item)\n",
    "            new_item = new_item % self.lcdivisor\n",
    "            self.monkeys[new_monkey].items.append(new_item)\n",
    "            if verbose: \n",
    "                print('---')\n",
    "                print(item)\n",
    "                print(new_item)\n",
    "                print(new_monkey)\n",
    "                print('---')\n",
    "            return 1\n",
    "        else: \n",
    "            if verbose: \n",
    "                print('No more items!')\n",
    "            return 0"
   ]
  },
  {
   "cell_type": "code",
   "execution_count": 23,
   "id": "20e1536e-2f66-4906-bb8a-27692adf3f9b",
   "metadata": {},
   "outputs": [],
   "source": [
    "# parse monkeys\n",
    "def monkey_setup(input_file):         \n",
    "    f = open(input_file, 'r')\n",
    "\n",
    "    monkeys = MonkeyGroup()\n",
    "    monkey_input = {}\n",
    "    parsing_test = 0\n",
    "    test_input = {}\n",
    "\n",
    "    while True: \n",
    "        line = f.readline()\n",
    "        if not line:\n",
    "            out_true = test_input['true']\n",
    "            out_divis = test_input['divis_by']\n",
    "            out_false = test_input['false']\n",
    "            monkey_input['divisor'] = test_input['divis_by']\n",
    "            monkey_input['test'] = functools.partial(lambda x, out_true=out_true, out_divis=out_divis, out_false=out_false: out_true if ((x % out_divis) == 0) else out_false)\n",
    "\n",
    "            break\n",
    "        if parsing_test == 1: \n",
    "            if line == '\\n': \n",
    "                parsing_test = 0\n",
    "\n",
    "                out_true = test_input['true']\n",
    "                out_divis = test_input['divis_by']\n",
    "                out_false = test_input['false']\n",
    "                monkey_input['divisor'] = test_input['divis_by']\n",
    "                monkey_input['test'] = functools.partial(lambda x, out_true=out_true, out_divis=out_divis, out_false=out_false: out_true if ((x % out_divis) == 0) else out_false)\n",
    "\n",
    "                test_input = {}\n",
    "            elif 'true' in line: \n",
    "                test_input['true'] = int(line[:-1].split(' ')[-1])\n",
    "            else: \n",
    "                test_input['false'] = int(line[:-1].split(' ')[-1])\n",
    "        elif 'Monkey' in line: \n",
    "            if not monkey_input == {}:\n",
    "                m = Monkey(monkey_input)\n",
    "                monkeys.add_monkey(m)\n",
    "            monkey_input = {}\n",
    "            monkey_input['num'] = int(line[-3:-2])\n",
    "        elif 'Starting items:' in line: \n",
    "            monkey_input['starting_items'] = [int(x) for x in line[18:-1].split(', ')]\n",
    "            # monkey_input['starting_items'].reverse()\n",
    "        elif 'Operation:' in line: \n",
    "            split_line = line[13:-1].split(' ')\n",
    "            v2 = split_line[4]\n",
    "            if split_line[3] == '*': \n",
    "                if v2 == 'old': \n",
    "                    monkey_input['operation'] = lambda x: x * x\n",
    "                else: \n",
    "                    v2 = int(v2)\n",
    "                    monkey_input['operation'] = functools.partial(lambda x, v2=v2: x * v2)\n",
    "            elif split_line[3] == '+': \n",
    "                if v2 == 'old': \n",
    "                    monkey_input['operation'] = lambda x: x + x\n",
    "                else: \n",
    "                    v2 = int(v2)\n",
    "                    monkey_input['operation'] = functools.partial(lambda x, v2=v2: x + v2)\n",
    "            else: \n",
    "                print('You forgot to consider something')\n",
    "        elif 'Test' in line: \n",
    "            parsing_test = 1\n",
    "            test_input['divis_by'] = int(line[8:-1].split(' ')[2])\n",
    "\n",
    "    m = Monkey(monkey_input)\n",
    "    monkeys.add_monkey(m)\n",
    "    \n",
    "    return(monkeys)"
   ]
  },
  {
   "cell_type": "code",
   "execution_count": 26,
   "id": "484844d2-729c-4d26-8c4a-50b8a0bb7aed",
   "metadata": {},
   "outputs": [
    {
     "name": "stdout",
     "output_type": "stream",
     "text": [
      "96577\n",
      "[99, 97, 8, 103]\n",
      "[52166, 47830, 1938, 52013]\n"
     ]
    }
   ],
   "source": [
    "monkeys = monkey_setup('example11')\n",
    "print(monkeys.lcdivisor)\n",
    "for round in range(20):\n",
    "    for i in range(len(monkeys.monkeys)): \n",
    "        while True: \n",
    "            out = monkeys.pass_item(i)\n",
    "            if out == 0: \n",
    "                break\n",
    "print([m.inspections for key, m in monkeys.monkeys.items()])\n",
    "\n",
    "monkeys = monkey_setup('example11')\n",
    "for round in range(10000):\n",
    "    for i in range(len(monkeys.monkeys)): \n",
    "        while True: \n",
    "            out = monkeys.pass_item(i)\n",
    "            if out == 0: \n",
    "                break\n",
    "print([m.inspections for key, m in monkeys.monkeys.items()])"
   ]
  },
  {
   "cell_type": "code",
   "execution_count": 27,
   "id": "b63c6462-b2a3-4150-8288-4db7522e789c",
   "metadata": {},
   "outputs": [
    {
     "data": {
      "text/plain": [
       "2713310158"
      ]
     },
     "execution_count": 27,
     "metadata": {},
     "output_type": "execute_result"
    }
   ],
   "source": [
    "52166*52013"
   ]
  },
  {
   "cell_type": "markdown",
   "id": "e5bf9456-908c-4731-987b-e5bd46127e6b",
   "metadata": {},
   "source": [
    "Now to do the real thing!"
   ]
  },
  {
   "cell_type": "code",
   "execution_count": 28,
   "id": "9305f9a8-72b6-4ddb-bc71-7d5febc17468",
   "metadata": {},
   "outputs": [
    {
     "name": "stdout",
     "output_type": "stream",
     "text": [
      "MonkeyGroup\n",
      "0: 93 54 69 66 71 \n",
      "1: 89 51 80 66 \n",
      "2: 90 92 63 91 96 63 64 \n",
      "3: 65 77 \n",
      "4: 76 68 94 \n",
      "5: 86 65 66 97 73 83 \n",
      "6: 78 \n",
      "7: 89 57 59 61 87 55 55 88 \n",
      "\n",
      "MonkeyGroup\n",
      "0: \n",
      "1: 6344168 3992279 9205499 1711559 6169469 6169469 672689 2707589 8667959 1283115 \n",
      "2: 9205490 1757960 3204830 8496080 8812280 \n",
      "3: 8015209 6158299 4868101 3997429 8205354 1164804 8750850 1717950 1751814 8170011 \n",
      "4: \n",
      "5: 557301 6158291 3067181 8015201 6120143 1933961 9030016 7027246 7294486 3527932 3527932 \n",
      "6: \n",
      "7: \n",
      "\n",
      "[598, 142046, 66128, 141864, 36135, 76332, 141471, 141605]\n"
     ]
    }
   ],
   "source": [
    "monkeys = monkey_setup('input11')\n",
    "print(monkeys)\n",
    "for round in range(10000):\n",
    "    for i in range(len(monkeys.monkeys)): \n",
    "        while True: \n",
    "            out = monkeys.pass_item(i)\n",
    "            if out == 0: \n",
    "                break\n",
    "print(monkeys)\n",
    "print([m.inspections for key, m in monkeys.monkeys.items()])\n"
   ]
  },
  {
   "cell_type": "code",
   "execution_count": 30,
   "id": "97e64678-221f-4a44-915c-db4e842f1534",
   "metadata": {},
   "outputs": [
    {
     "data": {
      "text/plain": [
       "20151213744"
      ]
     },
     "execution_count": 30,
     "metadata": {},
     "output_type": "execute_result"
    }
   ],
   "source": [
    "142046*141864"
   ]
  },
  {
   "cell_type": "code",
   "execution_count": null,
   "id": "36ae0674-df1d-4692-b54a-f7b6f9cafecd",
   "metadata": {},
   "outputs": [],
   "source": []
  }
 ],
 "metadata": {
  "kernelspec": {
   "display_name": "Python 3",
   "language": "python",
   "name": "python3"
  },
  "language_info": {
   "codemirror_mode": {
    "name": "ipython",
    "version": 3
   },
   "file_extension": ".py",
   "mimetype": "text/x-python",
   "name": "python",
   "nbconvert_exporter": "python",
   "pygments_lexer": "ipython3",
   "version": "3.8.3"
  }
 },
 "nbformat": 4,
 "nbformat_minor": 5
}
