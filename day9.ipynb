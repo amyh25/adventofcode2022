{
 "cells": [
  {
   "cell_type": "markdown",
   "id": "7f2f0806-cbdb-4161-8356-52ac9b3b9616",
   "metadata": {},
   "source": [
    "# Day 9"
   ]
  },
  {
   "cell_type": "code",
   "execution_count": 1,
   "id": "b667623f-67d7-4174-b430-5646ff42adc8",
   "metadata": {},
   "outputs": [
    {
     "name": "stdout",
     "output_type": "stream",
     "text": [
      "0 0 6 5\n"
     ]
    }
   ],
   "source": [
    "# first, calculate size of grid\n",
    "\n",
    "f = open('example9', 'r')\n",
    "\n",
    "rl = 1\n",
    "ud = 1\n",
    "min_rl = 0\n",
    "min_ud = 0\n",
    "max_rl = 0\n",
    "max_ud = 0\n",
    "\n",
    "while True: \n",
    "    line = f.readline()\n",
    "    if not line:\n",
    "        break\n",
    "    if line == '\\n': \n",
    "        break\n",
    "    \n",
    "    if line[0] == 'R':\n",
    "        rl += int(line[2:-1])\n",
    "    elif line[0] == 'L':\n",
    "        rl += -int(line[2:-1])\n",
    "    elif line[0] == 'U': \n",
    "        ud += int(line[2:-1])\n",
    "    elif line[0] == 'D': \n",
    "        ud += -int(line[2:-1])\n",
    "        \n",
    "    if rl > max_rl:\n",
    "        max_rl = rl\n",
    "    if ud > max_ud: \n",
    "        max_ud = ud\n",
    "    if rl < min_rl:\n",
    "        min_rl = rl\n",
    "    if ud < min_ud: \n",
    "        min_ud = ud\n",
    "\n",
    "print(min_rl, min_ud, max_rl, max_ud)"
   ]
  },
  {
   "cell_type": "code",
   "execution_count": 2,
   "id": "c5b5cb8d-fac9-4f1f-abab-9294655a1588",
   "metadata": {},
   "outputs": [
    {
     "name": "stdout",
     "output_type": "stream",
     "text": [
      "(6, 5)\n"
     ]
    }
   ],
   "source": [
    "# track values on a grid\n",
    "import numpy as np\n",
    "grid = np.zeros((max_rl - min_rl, max_ud - min_ud))\n",
    "print(grid.shape)"
   ]
  },
  {
   "cell_type": "code",
   "execution_count": 3,
   "id": "dc3b9302-e412-445b-8ed6-7800360cb1c2",
   "metadata": {},
   "outputs": [
    {
     "name": "stdout",
     "output_type": "stream",
     "text": [
      "(0, 0) (0, 0)\n"
     ]
    }
   ],
   "source": [
    "head_pos = (-min_rl, -min_ud)\n",
    "tail_pos = (-min_rl, -min_ud)\n",
    "print(head_pos, tail_pos)"
   ]
  },
  {
   "cell_type": "code",
   "execution_count": 4,
   "id": "776d9c09-e3a7-4eec-ba1c-2a2d1facf4e1",
   "metadata": {},
   "outputs": [
    {
     "name": "stdout",
     "output_type": "stream",
     "text": [
      "(0, -2) (0, -1)\n",
      "something has gone terribly wrong\n",
      "(2, -2) (1, -2)\n",
      "something has gone terribly wrong\n",
      "(1, -2) (1, -2)\n",
      "something has gone terribly wrong\n",
      "(1, 0) (1, -1)\n",
      "something has gone terribly wrong\n",
      "(1, -1) (1, -1)\n",
      "something has gone terribly wrong\n",
      "(-2, 2) (-1, 2)\n",
      "something has gone terribly wrong\n",
      "(-2, 1) (-1, 2)\n",
      "something has gone terribly wrong\n",
      "(-2, 3) (-1, 2)\n",
      "something has gone terribly wrong\n",
      "(-3, 3) (-2, 3)\n",
      "something has gone terribly wrong\n",
      "(-2, 3) (-2, 3)\n",
      "something has gone terribly wrong\n",
      "(-2, 2) (-2, 3)\n",
      "something has gone terribly wrong\n",
      "(-4, 2) (-3, 2)\n",
      "something has gone terribly wrong\n",
      "(-4, 0) (-4, 1)\n",
      "something has gone terribly wrong\n",
      "(-6, 0) (-5, 0)\n",
      "something has gone terribly wrong\n",
      "(-5, 0) (-5, 0)\n",
      "something has gone terribly wrong\n",
      "(-7, 0) (-6, 0)\n",
      "something has gone terribly wrong\n",
      "(-7, 2) (-7, 1)\n"
     ]
    }
   ],
   "source": [
    "# then, move head and tail and track their location\n",
    "\n",
    "f = open('input9', 'r')\n",
    "\n",
    "def move_head(head_pos, direction):\n",
    "    '''\n",
    "    function parses command and moves head\n",
    "    returns new_head_pos as tuple\n",
    "    '''\n",
    "    hi = head_pos[0]\n",
    "    hj = head_pos[1]\n",
    "    if direction == 'R':\n",
    "        hi += 1\n",
    "    elif direction == 'L':\n",
    "        hi += -1\n",
    "    elif direction == 'U': \n",
    "        hj += 1\n",
    "    elif direction == 'D': \n",
    "        hj += -1\n",
    "    return (hi, hj)\n",
    "\n",
    "def move_tail(head_pos, tail_pos):\n",
    "    '''\n",
    "    function moves tail given head (post move) and tail positions\n",
    "    head_pos must be tuple\n",
    "    tail_pos must be tuple\n",
    "    returns new_tail_pos as tuple\n",
    "    '''\n",
    "    \n",
    "    hi, hj = head_pos\n",
    "    ti, tj = tail_pos \n",
    "    newi = tail_pos[0]\n",
    "    newj = tail_pos[1]\n",
    "    \n",
    "    if abs(hi - ti) > 2: \n",
    "        print('Tail is too far away?')\n",
    "    if abs(hj - tj) > 2: \n",
    "        print('Tail is too far away?')\n",
    "    \n",
    "    if hi == ti: # head and tail are in the same row\n",
    "        if hj - tj == 2: \n",
    "            newi = ti\n",
    "            newj = tj + 1\n",
    "        elif hj - tj == -2: \n",
    "            newi = ti\n",
    "            newj = tj - 1\n",
    "    elif hj == tj: # head and tail are in the same column\n",
    "        if hi - ti == 2: \n",
    "            newi = ti + 1\n",
    "            newj = tj\n",
    "        elif hi - ti == -2: \n",
    "            newi = ti - 1\n",
    "            newj = tj\n",
    "    elif hi - ti == 2:\n",
    "        newi = hi - 1\n",
    "        newj = hj\n",
    "    elif hi - ti == -2: \n",
    "        newi = hi + 1\n",
    "        newj = hj\n",
    "    elif hj - tj == 2: \n",
    "        newi = hi\n",
    "        newj = hj - 1\n",
    "    elif hj - tj == -2: \n",
    "        newi = hi\n",
    "        newj = hj + 1\n",
    "   \n",
    "    return (newi, newj)\n",
    "\n",
    "while True: \n",
    "    line = f.readline()\n",
    "    if not line:\n",
    "        break\n",
    "    if line == '\\n': \n",
    "        break\n",
    "        \n",
    "    if tail_pos[0] < 0 or tail_pos[1] < 0: \n",
    "        print(head_pos, tail_pos)\n",
    "        print(\"something has gone terribly wrong\")\n",
    "    \n",
    "    try: \n",
    "        for i in range(int(line[2:-1])):\n",
    "            head_pos = move_head(head_pos, line[0])\n",
    "            tail_pos = move_tail(head_pos, tail_pos)\n",
    "            grid[tail_pos[0], tail_pos[1]] = 1\n",
    "    except: \n",
    "        print(head_pos, tail_pos)\n",
    "        break"
   ]
  },
  {
   "cell_type": "code",
   "execution_count": 5,
   "id": "c5d4e8fd-23d0-490d-9d22-788bc66bb653",
   "metadata": {},
   "outputs": [
    {
     "name": "stdout",
     "output_type": "stream",
     "text": [
      "[[1. 1. 0. 0. 1.]\n",
      " [1. 0. 0. 1. 1.]\n",
      " [0. 1. 0. 0. 0.]\n",
      " [0. 0. 1. 0. 0.]\n",
      " [0. 0. 0. 1. 0.]\n",
      " [0. 0. 1. 0. 0.]]\n"
     ]
    }
   ],
   "source": [
    "print(grid)"
   ]
  },
  {
   "cell_type": "code",
   "execution_count": 6,
   "id": "3b080fea-519b-4364-8177-3c572bfd129f",
   "metadata": {},
   "outputs": [
    {
     "name": "stdout",
     "output_type": "stream",
     "text": [
      "10.0\n"
     ]
    }
   ],
   "source": [
    "print(sum(sum(grid)))"
   ]
  },
  {
   "cell_type": "markdown",
   "id": "312e7cc4-b35e-4ce5-8fd3-5ae5c5231e2f",
   "metadata": {},
   "source": [
    "## ChatGPT solution\n",
    "\n",
    "The typical. I asked if it could solve the problem for me in Python. "
   ]
  },
  {
   "cell_type": "code",
   "execution_count": 7,
   "id": "fb6423ef-1ade-465c-897c-52d3fef5b43f",
   "metadata": {},
   "outputs": [
    {
     "name": "stdout",
     "output_type": "stream",
     "text": [
      "2001\n"
     ]
    }
   ],
   "source": [
    "# Rope physics simulation\n",
    "\n",
    "# Store the starting positions of the head and tail\n",
    "head_pos = (0, 0)\n",
    "tail_pos = (0, 0)\n",
    "\n",
    "# Keep track of the positions visited by the tail\n",
    "tail_positions = [tail_pos]\n",
    "\n",
    "# Open the input file\n",
    "with open(\"input9\") as f:\n",
    "  # Read the moves from the file\n",
    "  moves = f.read().strip().split(\"\\n\")\n",
    "\n",
    "# Loop through the moves\n",
    "for move in moves:\n",
    "  # Parse the move into a direction and number of steps\n",
    "  direction = move[0]\n",
    "  steps = int(move[1:])\n",
    "\n",
    "  # Update the position of the head\n",
    "  if direction == \"R\":\n",
    "    head_pos = (head_pos[0] + steps, head_pos[1])\n",
    "  elif direction == \"L\":\n",
    "    head_pos = (head_pos[0] - steps, head_pos[1])\n",
    "  elif direction == \"U\":\n",
    "    head_pos = (head_pos[0], head_pos[1] + steps)\n",
    "  elif direction == \"D\":\n",
    "    head_pos = (head_pos[0], head_pos[1] - steps)\n",
    "\n",
    "  # Update the position of the tail\n",
    "  if head_pos[0] == tail_pos[0] or head_pos[1] == tail_pos[1]:\n",
    "    # The head and tail are in the same row or column, so the tail\n",
    "    # moves one step in the same direction as the head\n",
    "    tail_pos = (tail_pos[0] + head_pos[0] - tail_pos[0], tail_pos[1] + head_pos[1] - tail_pos[1])\n",
    "  else:\n",
    "    # The head and tail are not in the same row or column, so the tail\n",
    "    # moves one step diagonally to keep up with the head\n",
    "    tail_pos = (tail_pos[0] + 1 if head_pos[0] > tail_pos[0] else tail_pos[0] - 1, tail_pos[1] + 1 if head_pos[1] > tail_pos[1] else tail_pos[1] - 1)\n",
    "\n",
    "  # Add the new position of the tail to the list of tail positions\n",
    "  tail_positions.append(tail_pos)\n",
    "\n",
    "# Compute the sum of the positions visited by the tail\n",
    "sum_of_tail_positions = sum(1 for x, y in tail_positions)\n",
    "\n",
    "# Print the sum\n",
    "print(sum_of_tail_positions)"
   ]
  },
  {
   "cell_type": "markdown",
   "id": "cf1999fe-631e-481a-98bf-2154ea5ce03c",
   "metadata": {},
   "source": [
    "God, this is miserable. ChatGPT is not getting it off the bat. I may have to modify my strategy of conversing with it to figure out "
   ]
  },
  {
   "cell_type": "markdown",
   "id": "37a887f6-a972-479f-9eb1-2f1e6d758726",
   "metadata": {},
   "source": [
    "# Part 2"
   ]
  },
  {
   "cell_type": "code",
   "execution_count": 8,
   "id": "a9728315-8512-4cad-8ee9-aed6d2a9bb2f",
   "metadata": {},
   "outputs": [
    {
     "name": "stdout",
     "output_type": "stream",
     "text": [
      "-10 -4 15 16\n"
     ]
    }
   ],
   "source": [
    "# first, calculate size of grid\n",
    "\n",
    "f = open('example9-2', 'r')\n",
    "\n",
    "rl = 1\n",
    "ud = 1\n",
    "min_rl = 0\n",
    "min_ud = 0\n",
    "max_rl = 0\n",
    "max_ud = 0\n",
    "\n",
    "while True: \n",
    "    line = f.readline()\n",
    "    if not line:\n",
    "        break\n",
    "    if line == '\\n': \n",
    "        break\n",
    "    \n",
    "    if line[0] == 'R':\n",
    "        rl += int(line[2:-1])\n",
    "    elif line[0] == 'L':\n",
    "        rl += -int(line[2:-1])\n",
    "    elif line[0] == 'U': \n",
    "        ud += int(line[2:-1])\n",
    "    elif line[0] == 'D': \n",
    "        ud += -int(line[2:-1])\n",
    "        \n",
    "    if rl > max_rl:\n",
    "        max_rl = rl\n",
    "    if ud > max_ud: \n",
    "        max_ud = ud\n",
    "    if rl < min_rl:\n",
    "        min_rl = rl\n",
    "    if ud < min_ud: \n",
    "        min_ud = ud\n",
    "\n",
    "print(min_rl, min_ud, max_rl, max_ud)"
   ]
  },
  {
   "cell_type": "code",
   "execution_count": 9,
   "id": "f544be2f-59c3-444b-be4c-5060b60452c4",
   "metadata": {},
   "outputs": [],
   "source": [
    "\n",
    "def move_head(head_pos, direction):\n",
    "    '''\n",
    "    function parses command and moves head\n",
    "    returns new_head_pos as tuple\n",
    "    '''\n",
    "    hi = head_pos[0]\n",
    "    hj = head_pos[1]\n",
    "    if direction == 'R':\n",
    "        hi += 1\n",
    "    elif direction == 'L':\n",
    "        hi += -1\n",
    "    elif direction == 'U': \n",
    "        hj += 1\n",
    "    elif direction == 'D': \n",
    "        hj += -1\n",
    "    return (hi, hj)\n",
    "\n",
    "def move_tail(head_pos, tail_pos):\n",
    "    '''\n",
    "    function moves tail given head (post move) and tail positions\n",
    "    head_pos must be tuple\n",
    "    tail_pos must be tuple\n",
    "    returns new_tail_pos as tuple\n",
    "    '''\n",
    "    \n",
    "    hi, hj = head_pos\n",
    "    ti, tj = tail_pos \n",
    "    newi = tail_pos[0]\n",
    "    newj = tail_pos[1]\n",
    "    \n",
    "    if abs(hi - ti) > 2: \n",
    "        print('Tail is too far away?')\n",
    "    if abs(hj - tj) > 2: \n",
    "        print('Tail is too far away?')\n",
    "    \n",
    "    if hi == ti: # head and tail are in the same row\n",
    "        if hj - tj == 2: \n",
    "            newi = ti\n",
    "            newj = tj + 1\n",
    "        elif hj - tj == -2: \n",
    "            newi = ti\n",
    "            newj = tj - 1\n",
    "    elif hj == tj: # head and tail are in the same column\n",
    "        if hi - ti == 2: \n",
    "            newi = ti + 1\n",
    "            newj = tj\n",
    "        elif hi - ti == -2: \n",
    "            newi = ti - 1\n",
    "            newj = tj\n",
    "    elif hi - ti == 2:\n",
    "        newi = hi - 1\n",
    "        newj = hj\n",
    "    elif hi - ti == -2: \n",
    "        newi = hi + 1\n",
    "        newj = hj\n",
    "    elif hj - tj == 2: \n",
    "        newi = hi\n",
    "        newj = hj - 1\n",
    "    elif hj - tj == -2: \n",
    "        newi = hi\n",
    "        newj = hj + 1\n",
    "   \n",
    "    return (newi, newj)"
   ]
  },
  {
   "cell_type": "code",
   "execution_count": 10,
   "id": "fc8ff2ed-e92d-4b13-93c6-870829f6e001",
   "metadata": {},
   "outputs": [
    {
     "name": "stdout",
     "output_type": "stream",
     "text": [
      "(25, 20)\n"
     ]
    }
   ],
   "source": [
    "# track values on a grid\n",
    "import numpy as np\n",
    "grid = np.zeros((max_rl - min_rl, max_ud - min_ud))\n",
    "print(grid.shape)"
   ]
  },
  {
   "cell_type": "code",
   "execution_count": 11,
   "id": "923f8c24-ac5b-4c14-aa10-720112843312",
   "metadata": {},
   "outputs": [
    {
     "name": "stdout",
     "output_type": "stream",
     "text": [
      "[(10, 4), (10, 4), (10, 4), (10, 4), (10, 4), (10, 4), (10, 4), (10, 4), (10, 4), (10, 4)]\n"
     ]
    }
   ],
   "source": [
    "rope_length = 10\n",
    "rope = []\n",
    "for i in range(rope_length):\n",
    "    rope.append((-min_rl, -min_ud))\n",
    "print(rope)"
   ]
  },
  {
   "cell_type": "code",
   "execution_count": 14,
   "id": "fbc9586c-6a55-4bc0-bae8-2bea6cec7b14",
   "metadata": {},
   "outputs": [
    {
     "ename": "IndexError",
     "evalue": "list index out of range",
     "output_type": "error",
     "traceback": [
      "\u001b[0;31m---------------------------------------------------------------------------\u001b[0m",
      "\u001b[0;31mIndexError\u001b[0m                                Traceback (most recent call last)",
      "Input \u001b[0;32mIn [14]\u001b[0m, in \u001b[0;36m<cell line: 5>\u001b[0;34m()\u001b[0m\n\u001b[1;32m     17\u001b[0m     \u001b[38;5;28;01melse\u001b[39;00m: \n\u001b[1;32m     18\u001b[0m         rope[j] \u001b[38;5;241m=\u001b[39m move_tail(rope[j\u001b[38;5;241m-\u001b[39m\u001b[38;5;241m1\u001b[39m], rope[j])\n\u001b[0;32m---> 19\u001b[0m grid[\u001b[43mrope\u001b[49m\u001b[43m[\u001b[49m\u001b[43mrope_length\u001b[49m\u001b[43m]\u001b[49m[\u001b[38;5;241m0\u001b[39m], rope[rope_length][\u001b[38;5;241m1\u001b[39m]] \u001b[38;5;241m=\u001b[39m \u001b[38;5;241m1\u001b[39m\n",
      "\u001b[0;31mIndexError\u001b[0m: list index out of range"
     ]
    }
   ],
   "source": [
    "# then, move head and tail and track their location\n",
    "\n",
    "f = open('example9-2', 'r')\n",
    "\n",
    "while True: \n",
    "    line = f.readline()\n",
    "    if not line:\n",
    "        break\n",
    "    if line == '\\n': \n",
    "        break\n",
    "    \n",
    "    # try:\n",
    "    for i in range(int(line[2:-1])):\n",
    "        for j in range(rope_length):\n",
    "            if j == 0:\n",
    "                rope[0] = move_head(rope[0], line[0])\n",
    "            else: \n",
    "                rope[j] = move_tail(rope[j-1], rope[j])\n",
    "        grid[rope[rope_length][0], rope[rope_length][1]] = 1\n",
    "    # except: \n",
    "    #     print(rope)\n",
    "    #     break"
   ]
  },
  {
   "cell_type": "code",
   "execution_count": 13,
   "id": "14b28177-0434-4464-8cb4-70c6f3255da6",
   "metadata": {},
   "outputs": [
    {
     "name": "stdout",
     "output_type": "stream",
     "text": [
      "[[0. 0. 0. 0. 0. 0. 0. 0. 0. 0. 0. 0. 0. 0. 0. 0. 0. 0. 0. 0.]\n",
      " [0. 0. 0. 0. 0. 0. 0. 0. 0. 0. 0. 0. 0. 0. 0. 0. 0. 0. 0. 0.]\n",
      " [0. 0. 0. 0. 0. 0. 0. 0. 0. 0. 0. 0. 0. 0. 0. 0. 0. 0. 0. 0.]\n",
      " [0. 0. 0. 0. 0. 0. 0. 0. 0. 0. 0. 0. 0. 0. 0. 0. 0. 0. 0. 0.]\n",
      " [0. 0. 0. 0. 0. 0. 0. 0. 0. 0. 0. 0. 0. 0. 0. 0. 0. 0. 0. 0.]\n",
      " [0. 0. 0. 0. 0. 0. 0. 0. 0. 0. 0. 0. 0. 0. 0. 0. 0. 0. 0. 0.]\n",
      " [0. 0. 0. 0. 0. 0. 0. 0. 0. 0. 0. 0. 0. 0. 0. 0. 0. 0. 0. 0.]\n",
      " [0. 0. 0. 0. 0. 0. 0. 0. 0. 0. 0. 0. 0. 0. 0. 0. 0. 0. 0. 0.]\n",
      " [0. 0. 0. 0. 0. 0. 0. 0. 0. 0. 0. 0. 0. 0. 0. 0. 0. 0. 0. 0.]\n",
      " [0. 0. 0. 0. 0. 0. 0. 0. 0. 0. 0. 0. 0. 0. 0. 0. 0. 0. 0. 0.]\n",
      " [0. 0. 0. 0. 0. 0. 0. 0. 0. 0. 0. 0. 0. 0. 0. 0. 0. 0. 0. 0.]\n",
      " [0. 0. 0. 0. 0. 0. 0. 0. 0. 0. 0. 0. 0. 0. 0. 0. 0. 0. 0. 0.]\n",
      " [0. 0. 0. 0. 0. 0. 0. 0. 0. 0. 0. 0. 0. 0. 0. 0. 0. 0. 0. 0.]\n",
      " [0. 0. 0. 0. 0. 0. 0. 0. 0. 0. 0. 0. 0. 0. 0. 0. 0. 0. 0. 0.]\n",
      " [0. 0. 0. 0. 0. 0. 0. 0. 0. 0. 0. 0. 0. 0. 0. 0. 0. 0. 0. 0.]\n",
      " [0. 0. 0. 0. 0. 0. 0. 0. 0. 0. 0. 0. 0. 0. 0. 0. 0. 0. 0. 0.]\n",
      " [0. 0. 0. 0. 0. 0. 0. 0. 0. 0. 0. 0. 0. 0. 0. 0. 0. 0. 0. 0.]\n",
      " [0. 0. 0. 0. 0. 0. 0. 0. 0. 0. 0. 0. 0. 0. 0. 0. 0. 0. 0. 0.]\n",
      " [0. 0. 0. 0. 0. 0. 0. 0. 0. 0. 0. 0. 0. 0. 0. 0. 0. 0. 0. 0.]\n",
      " [0. 0. 0. 0. 0. 0. 0. 0. 0. 0. 0. 0. 0. 0. 0. 0. 0. 0. 0. 0.]\n",
      " [0. 0. 0. 0. 0. 0. 0. 0. 0. 0. 0. 0. 0. 0. 0. 0. 0. 0. 0. 0.]\n",
      " [0. 0. 0. 0. 0. 0. 0. 0. 0. 0. 0. 0. 0. 0. 0. 0. 0. 0. 0. 0.]\n",
      " [0. 0. 0. 0. 0. 0. 0. 0. 0. 0. 0. 0. 0. 0. 0. 0. 0. 0. 0. 0.]\n",
      " [0. 0. 0. 0. 0. 0. 0. 0. 0. 0. 0. 0. 0. 0. 0. 0. 0. 0. 0. 0.]\n",
      " [0. 0. 0. 0. 0. 0. 0. 0. 0. 0. 0. 0. 0. 0. 0. 0. 0. 0. 0. 0.]]\n"
     ]
    }
   ],
   "source": [
    "print(grid)"
   ]
  },
  {
   "cell_type": "code",
   "execution_count": 88,
   "id": "832dd1a9-1a6e-4d94-9717-fb63344b9672",
   "metadata": {},
   "outputs": [
    {
     "name": "stdout",
     "output_type": "stream",
     "text": [
      "36.0\n"
     ]
    }
   ],
   "source": [
    "print(sum(sum(grid)))"
   ]
  },
  {
   "cell_type": "code",
   "execution_count": null,
   "id": "e087e315-24af-45eb-87c3-e473ce9cebea",
   "metadata": {},
   "outputs": [],
   "source": []
  }
 ],
 "metadata": {
  "kernelspec": {
   "display_name": "Python 3 (ipykernel)",
   "language": "python",
   "name": "python3"
  },
  "language_info": {
   "codemirror_mode": {
    "name": "ipython",
    "version": 3
   },
   "file_extension": ".py",
   "mimetype": "text/x-python",
   "name": "python",
   "nbconvert_exporter": "python",
   "pygments_lexer": "ipython3",
   "version": "3.10.4"
  }
 },
 "nbformat": 4,
 "nbformat_minor": 5
}
