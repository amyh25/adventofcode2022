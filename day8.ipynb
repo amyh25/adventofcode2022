{
 "cells": [
  {
   "cell_type": "markdown",
   "id": "3bd10f77-869b-4f25-b9ea-699d9ccad1ed",
   "metadata": {},
   "source": [
    "# Day 8 Treetop Tree House"
   ]
  },
  {
   "cell_type": "code",
   "execution_count": 132,
   "id": "21b33911-0b9b-4568-b8fd-7904439b3747",
   "metadata": {},
   "outputs": [],
   "source": [
    "# first, calculate size of grid\n",
    "\n",
    "f = open('input8', 'r')\n",
    "\n",
    "tree_grid = []\n",
    "\n",
    "while True: \n",
    "    line = f.readline()\n",
    "    if not line:\n",
    "        break\n",
    "    if line == '\\n': \n",
    "        break\n",
    "        \n",
    "    tree_line = []\n",
    "    for i in range(len(line[:-1])): \n",
    "        tree_line.append(int(line[i]))\n",
    "    tree_grid.append(tree_line)   "
   ]
  },
  {
   "cell_type": "code",
   "execution_count": 133,
   "id": "31d5d763-65df-44a1-8c33-ba9f01457733",
   "metadata": {},
   "outputs": [],
   "source": [
    "nrow = len(tree_grid)\n",
    "ncol = len(tree_grid[0])\n",
    "\n",
    "seen_grid = []\n",
    "for i in range(0, nrow):\n",
    "    seen_grid_row = []\n",
    "    for j in range(0, ncol):\n",
    "        seen_grid_row.append(0)\n",
    "    seen_grid.append(seen_grid_row)\n",
    "\n",
    "for i in range(0, nrow):\n",
    "    for j in range(0, ncol):\n",
    "        tree = tree_grid[i][j]\n",
    "        seen_all = [1, 1, 1, 1]\n",
    "        for left_i in range(0, i):\n",
    "            if tree_grid[left_i][j] >= tree: \n",
    "                seen_all[0] = 0\n",
    "        for right_i in range(i + 1, nrow):\n",
    "            if tree_grid[right_i][j] >= tree: \n",
    "                seen_all[1] = 0\n",
    "        for bot_j in range(0, j):\n",
    "            if tree_grid[i][bot_j] >= tree: \n",
    "                seen_all[2] = 0\n",
    "        for top_j in range(j + 1, ncol):\n",
    "            if tree_grid[i][top_j] >= tree: \n",
    "                seen_all[3] = 0\n",
    "        seen_grid[i][j] = int(sum(seen_all) > 0)"
   ]
  },
  {
   "cell_type": "code",
   "execution_count": 134,
   "id": "e91da36a-99ae-4bf3-b220-1a3e4e7fe98a",
   "metadata": {},
   "outputs": [
    {
     "data": {
      "text/plain": [
       "1669"
      ]
     },
     "execution_count": 134,
     "metadata": {},
     "output_type": "execute_result"
    }
   ],
   "source": [
    "sum([sum(x) for x in seen_grid])"
   ]
  },
  {
   "cell_type": "markdown",
   "id": "ef431d50-8bf3-4244-9be7-ebb6d65edc9f",
   "metadata": {
    "tags": []
   },
   "source": [
    "# Part 2"
   ]
  },
  {
   "cell_type": "code",
   "execution_count": 135,
   "id": "37478b97-e7b5-46c1-8c40-b05953fa2890",
   "metadata": {},
   "outputs": [],
   "source": [
    "nrow = len(tree_grid)\n",
    "ncol = len(tree_grid[0])\n",
    "\n",
    "scenic_grid = []\n",
    "for i in range(0, nrow):\n",
    "    scenic_grid_row = []\n",
    "    for j in range(0, ncol):\n",
    "        scenic_grid_row.append(0)\n",
    "    scenic_grid.append(scenic_grid_row)\n",
    "\n",
    "for i in range(0, nrow):\n",
    "    for j in range(0, ncol):\n",
    "        tree = tree_grid[i][j]\n",
    "        seen_all = [0, 0, 0, 0]\n",
    "        \n",
    "        for left_i in range(i - 1, -1, -1):\n",
    "            seen_all[0] += 1\n",
    "            if tree_grid[left_i][j] >= tree: \n",
    "                break\n",
    "            \n",
    "        for right_i in range(i + 1, nrow):\n",
    "            seen_all[1] += 1\n",
    "            if tree_grid[right_i][j] >= tree: \n",
    "                break\n",
    "                \n",
    "        for bot_j in range(j - 1, -1, -1):\n",
    "            seen_all[2] += 1\n",
    "            if tree_grid[i][bot_j] >= tree: \n",
    "                break\n",
    "                \n",
    "        for top_j in range(j + 1, ncol):\n",
    "            seen_all[3] += 1\n",
    "            if tree_grid[i][top_j] >= tree: \n",
    "                break\n",
    "        \n",
    "        scenic_score = 1\n",
    "        for x in seen_all: \n",
    "            scenic_score = scenic_score * x\n",
    "        scenic_grid[i][j] = scenic_score"
   ]
  },
  {
   "cell_type": "code",
   "execution_count": 136,
   "id": "a087ee07-e7f7-4b4e-adb0-e4cd4b4ddb3f",
   "metadata": {},
   "outputs": [
    {
     "data": {
      "text/plain": [
       "331344"
      ]
     },
     "execution_count": 136,
     "metadata": {},
     "output_type": "execute_result"
    }
   ],
   "source": [
    "max([max(x) for x in scenic_grid])"
   ]
  },
  {
   "cell_type": "markdown",
   "id": "a6b3c696-9e3f-4c75-aad5-61773b783f65",
   "metadata": {},
   "source": [
    "# ChatGPT solution"
   ]
  },
  {
   "cell_type": "code",
   "execution_count": 140,
   "id": "9ba40ad7-d585-43e0-8ee1-4d25397128d3",
   "metadata": {},
   "outputs": [
    {
     "ename": "IndexError",
     "evalue": "list index out of range",
     "output_type": "error",
     "traceback": [
      "\u001b[0;31m---------------------------------------------------------------------------\u001b[0m",
      "\u001b[0;31mIndexError\u001b[0m                                Traceback (most recent call last)",
      "Input \u001b[0;32mIn [140]\u001b[0m, in \u001b[0;36m<cell line: 17>\u001b[0;34m()\u001b[0m\n\u001b[1;32m     25\u001b[0m     num_visible \u001b[38;5;241m+\u001b[39m\u001b[38;5;241m=\u001b[39m \u001b[38;5;241m1\u001b[39m\n\u001b[1;32m     27\u001b[0m \u001b[38;5;66;03m# Find the largest tree in this column\u001b[39;00m\n\u001b[0;32m---> 28\u001b[0m max_tree_col \u001b[38;5;241m=\u001b[39m \u001b[38;5;28mmax\u001b[39m([grid[k][j] \u001b[38;5;28;01mfor\u001b[39;00m k \u001b[38;5;129;01min\u001b[39;00m \u001b[38;5;28mrange\u001b[39m(num_rows)])\n\u001b[1;32m     30\u001b[0m \u001b[38;5;66;03m# If the current tree is the largest in the column and it is\u001b[39;00m\n\u001b[1;32m     31\u001b[0m \u001b[38;5;66;03m# not on the edge of the grid, increment the counter\u001b[39;00m\n\u001b[1;32m     32\u001b[0m \u001b[38;5;28;01mif\u001b[39;00m grid[i][j] \u001b[38;5;241m==\u001b[39m max_tree_col \u001b[38;5;129;01mand\u001b[39;00m i \u001b[38;5;129;01mnot\u001b[39;00m \u001b[38;5;129;01min\u001b[39;00m [\u001b[38;5;241m0\u001b[39m, num_rows\u001b[38;5;241m-\u001b[39m\u001b[38;5;241m1\u001b[39m] \u001b[38;5;129;01mand\u001b[39;00m j \u001b[38;5;129;01mnot\u001b[39;00m \u001b[38;5;129;01min\u001b[39;00m [\u001b[38;5;241m0\u001b[39m, num_cols\u001b[38;5;241m-\u001b[39m\u001b[38;5;241m1\u001b[39m]:\n",
      "Input \u001b[0;32mIn [140]\u001b[0m, in \u001b[0;36m<listcomp>\u001b[0;34m(.0)\u001b[0m\n\u001b[1;32m     25\u001b[0m     num_visible \u001b[38;5;241m+\u001b[39m\u001b[38;5;241m=\u001b[39m \u001b[38;5;241m1\u001b[39m\n\u001b[1;32m     27\u001b[0m \u001b[38;5;66;03m# Find the largest tree in this column\u001b[39;00m\n\u001b[0;32m---> 28\u001b[0m max_tree_col \u001b[38;5;241m=\u001b[39m \u001b[38;5;28mmax\u001b[39m([\u001b[43mgrid\u001b[49m\u001b[43m[\u001b[49m\u001b[43mk\u001b[49m\u001b[43m]\u001b[49m\u001b[43m[\u001b[49m\u001b[43mj\u001b[49m\u001b[43m]\u001b[49m \u001b[38;5;28;01mfor\u001b[39;00m k \u001b[38;5;129;01min\u001b[39;00m \u001b[38;5;28mrange\u001b[39m(num_rows)])\n\u001b[1;32m     30\u001b[0m \u001b[38;5;66;03m# If the current tree is the largest in the column and it is\u001b[39;00m\n\u001b[1;32m     31\u001b[0m \u001b[38;5;66;03m# not on the edge of the grid, increment the counter\u001b[39;00m\n\u001b[1;32m     32\u001b[0m \u001b[38;5;28;01mif\u001b[39;00m grid[i][j] \u001b[38;5;241m==\u001b[39m max_tree_col \u001b[38;5;129;01mand\u001b[39;00m i \u001b[38;5;129;01mnot\u001b[39;00m \u001b[38;5;129;01min\u001b[39;00m [\u001b[38;5;241m0\u001b[39m, num_rows\u001b[38;5;241m-\u001b[39m\u001b[38;5;241m1\u001b[39m] \u001b[38;5;129;01mand\u001b[39;00m j \u001b[38;5;129;01mnot\u001b[39;00m \u001b[38;5;129;01min\u001b[39;00m [\u001b[38;5;241m0\u001b[39m, num_cols\u001b[38;5;241m-\u001b[39m\u001b[38;5;241m1\u001b[39m]:\n",
      "\u001b[0;31mIndexError\u001b[0m: list index out of range"
     ]
    }
   ],
   "source": [
    "# Open the input file\n",
    "with open('input8', 'r') as f:\n",
    "    # Read the grid from the input file\n",
    "    grid = [list(line.strip()) for line in f]\n",
    "\n",
    "# Convert the grid to a list of integers\n",
    "grid = [[int(c) for c in row] for row in grid]\n",
    "\n",
    "# The number of visible trees\n",
    "num_visible = 0\n",
    "\n",
    "# The number of rows and columns in the grid\n",
    "num_rows = len(grid)\n",
    "num_cols = len(grid[0])\n",
    "\n",
    "# Iterate over each row and column of the grid\n",
    "for i in range(num_rows):\n",
    "    for j in range(num_cols):\n",
    "        # Find the largest tree in this row\n",
    "        max_tree_row = max(grid[i])\n",
    "\n",
    "        # If the current tree is the largest in the row and it is\n",
    "        # not on the edge of the grid, increment the counter\n",
    "        if grid[i][j] == max_tree_row and i not in [0, num_rows-1] and j not in [0, num_cols-1]:\n",
    "            num_visible += 1\n",
    "\n",
    "        # Find the largest tree in this column\n",
    "        max_tree_col = max([grid[k][j] for k in range(num_rows)])\n",
    "\n",
    "        # If the current tree is the largest in the column and it is\n",
    "        # not on the edge of the grid, increment the counter\n",
    "        if grid[i][j] == max_tree_col and i not in [0, num_rows-1] and j not in [0, num_cols-1]:\n",
    "            num_visible += 1\n",
    "\n",
    "# Print the number of visible trees\n",
    "print(num_visible)\n"
   ]
  },
  {
   "cell_type": "code",
   "execution_count": null,
   "id": "856e5ee8-44bb-4910-9e0d-5dc09fccdb5f",
   "metadata": {},
   "outputs": [],
   "source": []
  }
 ],
 "metadata": {
  "kernelspec": {
   "display_name": "Python 3 (ipykernel)",
   "language": "python",
   "name": "python3"
  },
  "language_info": {
   "codemirror_mode": {
    "name": "ipython",
    "version": 3
   },
   "file_extension": ".py",
   "mimetype": "text/x-python",
   "name": "python",
   "nbconvert_exporter": "python",
   "pygments_lexer": "ipython3",
   "version": "3.10.4"
  }
 },
 "nbformat": 4,
 "nbformat_minor": 5
}
