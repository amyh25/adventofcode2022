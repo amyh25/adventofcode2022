{
 "cells": [
  {
   "cell_type": "markdown",
   "id": "07e1433f-2f2e-4e09-8999-bd163e475947",
   "metadata": {},
   "source": [
    "# Day 12\n",
    "\n",
    "## Part 1"
   ]
  },
  {
   "cell_type": "code",
   "execution_count": 32,
   "id": "962a10dd-1122-4bfe-9990-56a583779cd2",
   "metadata": {},
   "outputs": [],
   "source": [
    "import numpy as np"
   ]
  },
  {
   "cell_type": "code",
   "execution_count": 132,
   "id": "630a24b4-823e-4cc5-9a68-d6e6248c0fd2",
   "metadata": {},
   "outputs": [
    {
     "name": "stdout",
     "output_type": "stream",
     "text": [
      "['a', 'b', 'c', 'd', 'e', 'f', 'g', 'h', 'i', 'j', 'k', 'l', 'm', 'n', 'o', 'p', 'q', 'r', 's', 't', 'u', 'v', 'w', 'x', 'y', 'z']\n"
     ]
    }
   ],
   "source": [
    "import string\n",
    "alphabet = list(string.ascii_lowercase)\n",
    "print(alphabet)\n",
    "\n",
    "alpha_dict = {}\n",
    "for i, a in enumerate(alphabet):\n",
    "    alpha_dict[a] = i\n",
    "alpha_dict['S'] = 0\n",
    "alpha_dict['E'] = 25"
   ]
  },
  {
   "cell_type": "code",
   "execution_count": 133,
   "id": "eb7df539-1a7d-46c8-b7cc-dcaa6c970e7b",
   "metadata": {},
   "outputs": [],
   "source": [
    "class Node: \n",
    "    def __init__(self, point, height):\n",
    "        self.point = point\n",
    "        self.height = height\n",
    "        self.nodes = []\n",
    "    \n",
    "    def __repr__(self):\n",
    "        return f'({self.point[0]}, {self.point[1]}), height={self.height}, n. leaves={len(self.nodes)}\\n'\n",
    "\n",
    "class Tree: \n",
    "    def __init__(self, point, height):\n",
    "        self.root = Node(point, height)\n",
    "    \n",
    "    def __repr__(self):\n",
    "        return self.root.__repr__()\n",
    "    \n",
    "    def add_node(self, point, height):\n",
    "        self.nodes.append(Node(point, height))"
   ]
  },
  {
   "cell_type": "code",
   "execution_count": 134,
   "id": "0fa9c0aa-ff6a-4d83-bfd5-cb9616ccb852",
   "metadata": {},
   "outputs": [],
   "source": [
    "class Trail: \n",
    "    def __init__(self, input_file): \n",
    "        \n",
    "        # find start and end and parse grid\n",
    "        f = open(input_file, 'r')\n",
    "        linenum = 0\n",
    "        grid = []\n",
    "        while True: \n",
    "            line = f.readline()\n",
    "            if not line:\n",
    "                break\n",
    "            elif line == '\\n':\n",
    "                break\n",
    "            line = line[:-1]\n",
    "            grid.append(list(line))\n",
    "\n",
    "            for i, a in enumerate(list(line)):\n",
    "                if a == 'S': \n",
    "                    print(f'Found start at {linenum}, {i}')\n",
    "                    self.start = (linenum, i)\n",
    "                elif a == 'E': \n",
    "                    print(f'Found end at {linenum}, {i}')\n",
    "                    self.end = (linenum, i)\n",
    "            linenum += 1\n",
    "        \n",
    "        self.grid = grid\n",
    "        self.grid_been_there = []\n",
    "        for i in grid: \n",
    "            grid_row = []\n",
    "            for j in grid[0]: \n",
    "                grid_row.append('X')\n",
    "            self.grid_been_there.append(grid_row)\n",
    "        self.root = Tree(self.start, 'a')\n",
    "    \n",
    "    def __repr__(self):\n",
    "        out = 'GRID:\\n'\n",
    "        for line in grid:\n",
    "            for value in line:\n",
    "                out += value\n",
    "            out += '\\n'\n",
    "        return out\n",
    "    \n",
    "    def parse_points(self, tree, point): \n",
    "        i, j = point\n",
    "        if i > len(t.grid): \n",
    "            print('Error: i too large')\n",
    "            return -1 \n",
    "        elif j > len(t.grid[0]):\n",
    "            print('Error: j too large')\n",
    "            return -1\n",
    "        \n",
    "        if self.grid_been_there[i][j] == '': \n",
    "            return 0\n",
    "        \n",
    "        self.grid_been_there[i][j] = ''\n",
    "\n",
    "        value = alpha_dict[self.grid[i][j]]\n",
    "        \n",
    "        if i != 0:\n",
    "            new_value = alpha_dict[self.grid[i - 1][j]]\n",
    "            diff = new_value - value\n",
    "            if diff <= 1: \n",
    "                tree.nodes.append(Node(point, height))\n",
    "\n",
    "        if i != len(t.grid):\n",
    "            new_value = alpha_dict[self.grid[i + 1][j]]\n",
    "            diff = new_value - value\n",
    "            if diff <= 1: \n",
    "                tree.nodes.append(Node(point, height))\n",
    "\n",
    "        if j != 0: \n",
    "            new_value = alpha_dict[self.grid[i][j - 1]]\n",
    "            diff = new_value - value\n",
    "            if diff <= 1: \n",
    "                tree.nodes.append(Node(point, height))\n",
    "\n",
    "        if j != len(t.grid[0]):\n",
    "            new_value = alpha_dict[self.grid[i][j + 1]]\n",
    "            diff = new_value - value\n",
    "            if diff <= 1: \n",
    "                tree.nodes.append(Node(point, height))\n",
    "        \n",
    "        for node in tree.nodes: \n",
    "            self.parse_points(node, node.point)\n",
    "    \n",
    "    def parse_grid(self):\n",
    "        self.parse_points(self.root, self.start)\n",
    "        "
   ]
  },
  {
   "cell_type": "code",
   "execution_count": 135,
   "id": "2385e0d3-f921-46a4-a9cf-fddf1283a90d",
   "metadata": {},
   "outputs": [
    {
     "name": "stdout",
     "output_type": "stream",
     "text": [
      "Found start at 0, 0\n",
      "Found end at 2, 5\n"
     ]
    },
    {
     "data": {
      "text/plain": [
       "GRID:\n",
       "Sabqponm\n",
       "abcryxxl\n",
       "accszExk\n",
       "acctuvwj\n",
       "abdefghi\n"
      ]
     },
     "execution_count": 135,
     "metadata": {},
     "output_type": "execute_result"
    }
   ],
   "source": [
    "t = Trail('example12')\n",
    "t"
   ]
  },
  {
   "cell_type": "code",
   "execution_count": 136,
   "id": "421f3f2f-2890-4780-931a-eb4c5dd9c75d",
   "metadata": {},
   "outputs": [
    {
     "data": {
      "text/plain": [
       "(0, 0), height=a, n. leaves=0"
      ]
     },
     "execution_count": 136,
     "metadata": {},
     "output_type": "execute_result"
    }
   ],
   "source": [
    "t.root"
   ]
  },
  {
   "cell_type": "code",
   "execution_count": 137,
   "id": "6912e659-ecd1-4989-b8f7-01aed97c7688",
   "metadata": {},
   "outputs": [
    {
     "ename": "AttributeError",
     "evalue": "'Tree' object has no attribute 'nodes'",
     "output_type": "error",
     "traceback": [
      "\u001b[0;31m---------------------------------------------------------------------------\u001b[0m",
      "\u001b[0;31mAttributeError\u001b[0m                            Traceback (most recent call last)",
      "\u001b[0;32m<ipython-input-137-ddc2a72b0f03>\u001b[0m in \u001b[0;36m<module>\u001b[0;34m\u001b[0m\n\u001b[0;32m----> 1\u001b[0;31m \u001b[0mt\u001b[0m\u001b[0;34m.\u001b[0m\u001b[0mparse_grid\u001b[0m\u001b[0;34m(\u001b[0m\u001b[0;34m)\u001b[0m\u001b[0;34m\u001b[0m\u001b[0;34m\u001b[0m\u001b[0m\n\u001b[0m",
      "\u001b[0;32m<ipython-input-134-00eace8afb87>\u001b[0m in \u001b[0;36mparse_grid\u001b[0;34m(self)\u001b[0m\n\u001b[1;32m     85\u001b[0m \u001b[0;34m\u001b[0m\u001b[0m\n\u001b[1;32m     86\u001b[0m     \u001b[0;32mdef\u001b[0m \u001b[0mparse_grid\u001b[0m\u001b[0;34m(\u001b[0m\u001b[0mself\u001b[0m\u001b[0;34m)\u001b[0m\u001b[0;34m:\u001b[0m\u001b[0;34m\u001b[0m\u001b[0;34m\u001b[0m\u001b[0m\n\u001b[0;32m---> 87\u001b[0;31m         \u001b[0mself\u001b[0m\u001b[0;34m.\u001b[0m\u001b[0mparse_points\u001b[0m\u001b[0;34m(\u001b[0m\u001b[0mself\u001b[0m\u001b[0;34m.\u001b[0m\u001b[0mroot\u001b[0m\u001b[0;34m,\u001b[0m \u001b[0mself\u001b[0m\u001b[0;34m.\u001b[0m\u001b[0mstart\u001b[0m\u001b[0;34m)\u001b[0m\u001b[0;34m\u001b[0m\u001b[0;34m\u001b[0m\u001b[0m\n\u001b[0m\u001b[1;32m     88\u001b[0m \u001b[0;34m\u001b[0m\u001b[0m\n",
      "\u001b[0;32m<ipython-input-134-00eace8afb87>\u001b[0m in \u001b[0;36mparse_points\u001b[0;34m(self, tree, point)\u001b[0m\n\u001b[1;32m     67\u001b[0m             \u001b[0mdiff\u001b[0m \u001b[0;34m=\u001b[0m \u001b[0mnew_value\u001b[0m \u001b[0;34m-\u001b[0m \u001b[0mvalue\u001b[0m\u001b[0;34m\u001b[0m\u001b[0;34m\u001b[0m\u001b[0m\n\u001b[1;32m     68\u001b[0m             \u001b[0;32mif\u001b[0m \u001b[0mdiff\u001b[0m \u001b[0;34m<=\u001b[0m \u001b[0;36m1\u001b[0m\u001b[0;34m:\u001b[0m\u001b[0;34m\u001b[0m\u001b[0;34m\u001b[0m\u001b[0m\n\u001b[0;32m---> 69\u001b[0;31m                 \u001b[0mtree\u001b[0m\u001b[0;34m.\u001b[0m\u001b[0mnodes\u001b[0m\u001b[0;34m.\u001b[0m\u001b[0mappend\u001b[0m\u001b[0;34m(\u001b[0m\u001b[0mNode\u001b[0m\u001b[0;34m(\u001b[0m\u001b[0mpoint\u001b[0m\u001b[0;34m,\u001b[0m \u001b[0mheight\u001b[0m\u001b[0;34m)\u001b[0m\u001b[0;34m)\u001b[0m\u001b[0;34m\u001b[0m\u001b[0;34m\u001b[0m\u001b[0m\n\u001b[0m\u001b[1;32m     70\u001b[0m \u001b[0;34m\u001b[0m\u001b[0m\n\u001b[1;32m     71\u001b[0m         \u001b[0;32mif\u001b[0m \u001b[0mj\u001b[0m \u001b[0;34m!=\u001b[0m \u001b[0;36m0\u001b[0m\u001b[0;34m:\u001b[0m\u001b[0;34m\u001b[0m\u001b[0;34m\u001b[0m\u001b[0m\n",
      "\u001b[0;31mAttributeError\u001b[0m: 'Tree' object has no attribute 'nodes'"
     ]
    }
   ],
   "source": [
    "t.parse_grid()"
   ]
  },
  {
   "cell_type": "code",
   "execution_count": null,
   "id": "201f6d5b-f545-482d-9499-a3f59b73ae61",
   "metadata": {},
   "outputs": [],
   "source": []
  },
  {
   "cell_type": "code",
   "execution_count": null,
   "id": "df4046d8-ce3f-4db3-b61e-e07fbe2b7b92",
   "metadata": {},
   "outputs": [],
   "source": []
  }
 ],
 "metadata": {
  "kernelspec": {
   "display_name": "Python 3",
   "language": "python",
   "name": "python3"
  },
  "language_info": {
   "codemirror_mode": {
    "name": "ipython",
    "version": 3
   },
   "file_extension": ".py",
   "mimetype": "text/x-python",
   "name": "python",
   "nbconvert_exporter": "python",
   "pygments_lexer": "ipython3",
   "version": "3.8.3"
  }
 },
 "nbformat": 4,
 "nbformat_minor": 5
}
