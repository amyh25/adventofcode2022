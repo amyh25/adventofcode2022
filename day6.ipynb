{
 "cells": [
  {
   "cell_type": "code",
   "execution_count": 2,
   "id": "8018504e-af2d-4cef-9464-ebebd461dd02",
   "metadata": {},
   "outputs": [],
   "source": [
    "import numpy as np\n",
    "import pandas as pd"
   ]
  },
  {
   "cell_type": "markdown",
   "id": "1b8a7cf5-140e-4d6d-a6be-44aa466bff67",
   "metadata": {},
   "source": [
    "# --- Day 6: Tuning Trouble ---"
   ]
  },
  {
   "cell_type": "code",
   "execution_count": 3,
   "id": "1294aa66-966d-4a5f-97c9-e28cadebffe3",
   "metadata": {},
   "outputs": [
    {
     "data": {
      "text/plain": [
       "'lrgrvgvttzmtmtgglmgmccpclppvdvtvvllvggvrggbwwlzlmzzbppnvpnvppcjjzhjhthnhjnhhhndhnnnsbnnhzzvhhplplzlrzzgpzpwzpwwsvsjvjfvvphpspwswrswscwscwsscffspsbbjjcjwjrwwtgwwgswswwzbzddqnnpqnpnqppwzwszsnsjjpddhvvcbbhhpzzlpzlzppfpvvmcmvvflfttrltrlldlglbgblltqtffrtrwrzwwzmzwmwwlzzhttwzzwnnmrrcdrdjrjqjvqvvjzzgccrllhmhzzfnfwwtzwzwpwhhdjhhmzzbbvggzdzccbzbbpcpqccjbcbppsttdjdnjnppjjnmmszmzgzddtctvctcvttgtbbzqqggnmmdllvdvmvzzhfffzvfvtfvtvwwcnwnvwwbccggjcjqcqcbcrrppdqppdzpzqppttjhjdjqjppzgzjjpllwrrbttrvvzzbhzzqppndppwqppnrpnnttfwttsrrgprggmtmhmzhzczwzmwzwrwqwrrrdqrrvssnlngnppfqqgbgjjcttbgtbtmtctmcmcmgmsgsffhghqhbbvtbbtltmltlnlpnngcnggbngbnnzgzccgcpgcpcjppnnzjzdjdggzjzljjhnncgcjcscfctcvttvqtqmqjjsqjqpqfqhqmmlvvmppfrfjjngnnfllrlhhppcjcbjcctgcgtcgcvgvffqfcfpcpdpffrbrvbvnnphpqpfqqtnttmtgtlgtgzttnvvpwvwvcwcfwcwmccwlclqlflpflplwpllndlltlqtlqqmqnqmnqnvqvrrtddqndnrdnnpzprrqnnggvqvhvpvptvvvzwzrwwscsqqmcmttbgtgpptzptzzvszvzdvvtsscbbrpptssltssztszttlvlqljlgljlhhwvhwvvqhvqhqrhqqcnqccnbcbppbffzqfqsfspsqsjjrhjjchcmhmnhmmzjmjmfjmmsbsvvgcggtdgghchrrpnnrttnthtdtmmhmdmppmgpgllrwlrwlwvvlmlglppzttsvsbsnbncnjnffddzcddbzzbzgbghhhtltwtggljjggsdswwpmmfhfsfvfrrgmrgrfggvzzbnbttwqqdcdppqcqpcpqpjqpjpbbgjbgjjfwfwpfpgpzgzmzgzdzzpwzwqqjqfqllgrgjjfvvqnvncntngnhgnhgnnzvvbsbmbqmqwmqwwhbwhhsccvhcclncnqccnvnzvvdgvgnvnttmbbhccwgwttlwtwqttqcqmcqcdcmmjpmmjsjhhprrnnqddjwdjjvvhvgvssthhnfhnnntfthhtggthhbrbrjbbjfbjjrgrsrjrqqqfwflfclflnnnnvggfqgqzzbbvttfcfvcvsswvssnzndndvnvqqznnrjnnsmmptmppncpchcctwtbbgbqqjqtqsqfsfvfvnvmvzzpgzppdzdvdqdjdnjnttvvjbbzrzqrqwrqrbqrqsqpspjssnqnpqqnjndjjzmmvbbrqrccrffhwhggbttpnpphwhhmrrndrnddzqzzfbfwbwnwtwjjwjmjsjcjgcjjfcftcffvpvwwbffgzgnnlfffnddtdbdlbbcjbjmmfpfzfbbwbdwwfmfpmmfjfffvzvdvvhrvrcvcscjjpfjjnfnzzrtrpphtppzrppwhhphthltlllttghgwwvlwlflhldlzzmbzzjppnwppvlplqqbtbwwccswccqzzjhjbbhbnhnshnsslmmlqqjfjrjjmvvhpjqhzqffhsdsbwpjvgpvmbfqltrmpnwfcptpfmtjcpbzfldbhcmzchshrlbjgggrfjcqhzqqvbzsczmbgqmzqmltlrtlbnsfvmlhbbcqbbltjpdrpznrglshvgdnqwlhthghvtbffddcjwgdzfswzbppjtdhstcqqmvzmjrvfjbhmrznwqczdjjclnhbmtdvvzwttwnrlfqwpglpcppdwdcvfqpqfnmbvzvmqlmnlgnrsqdjvtsftgnlrtzsrcqhltmhzhpmzqqfqrjwhqfnqdtnshwgfhcpjrlplnqczdlntnhsczrgfhflsfbmftsbptflqbpwblrfnfzvqtpblftmscpzgdhhsbdbjhqclnptwtmhbbfglmvwnbqgvqhmmswwjpfwqjbvznmcpdzcvbzjmfqnwstvvtdnlvnpznnblfqzjjrjgnsbtmmbjzsvmgwddtnzcvhvtdrmjgtcrjzznrssscrzcfbfpgpnpppsqcqpccnbdjnwrbvhrcwgqncjrzbdhzqpfhqbnvbfrzmlfbfvtpggrtdswnvlsvpjsmfchhpbbszbnqqfrmhpqzdjhmhmnnmplbtrpgphvvqdfbcfnrfrbfbtshlmlfltjnbmggqntvhdnlvtcvlhmlrlfzfrqmlwqzrdghvdvtsqvmpdjrjclmlmgjqwzzldnzvfmwmrrnfghsvpcwjdtlnrhpjczwpgfbhpnmcbpthsndfflbjhnlwdbbmlttfqcmswvppslptgzbvfgppvpnhjccrpgrpwtngmmccjghhcwddmnglschnpjwqtrtsvggnpzvsqshfvcnhptphtlmqmpznfzwvbnhwpsfwvpflsdjcjgfzjprbbfzgdbmrjgwrgfdphghrhnpvfncrdzcwtthmqtdwlhjsdthqpzhbjpgggndtrmwvcsqhzrzwbhtqsqthvqncprvnpsrlpvlvcjrcflhbdhrfthlfnqbzbmvlvhmbjnbbjhpjwlfflfhpfwcwnnsljthvzwprqjmgpldlzjnjtjfjrgnrpzpvzfcsrprbjhwnmccwhppjrlnndjdjzqwpcwnvqwgmnwbrjqqvbplvsncnmdfrbhrrhghfllhrghzmlnltgdsqlgbvnlchgcbqlpqptdwmsjpqrprlhqmstzjfnzgbgvlfshwpcrgzcqmmfwvhwlsdvplmdgrtfrjwpfvhnjqdbwsfcqhchstlzfpdljgvcqsfcnqccnpmvsqbmwjtzwhpglhbjwzmvgqwjhvwfhnlbtsgljzmlldcpjwdcfppmnmphdmhpmdqwwtjtrdhlrjlvzgpbcgvwcmtclgpqwhtpbdtdbdscfzbrzmgjlbppcnvphphfnvzdzzlvfsvsgbgqcnlqwmtcrpwzcvnmnvtmcdsstvqpqzdpvtdsbvtwhdvgzqmzvwlspgbwmlnsrqdqnjwrllncflqsrzdqtjqvpnpjlqfwqtlqfqwlltszcwtpmjtldjgvmvptpmzqhwmlvjgnntpvcslmhlhdbjtjjnvsbnzwtdclwbzrvlqzjljtbdjvwgbwcltvnbhfvtgqrbmzbbfvldhmdvfvtlqglnblfmmpjqmzlnfjltsqdrgmlhbhngrrmhnjndggsdcfmtssmmtmzvhzrmwjsqjcvbsgqgtvdmvqlvlrvglrtlshfdmfrmljjggwjbcsztsjmjftcbbjwrmgqvssrvtgzcgthtlgsjspfmdgwptjdrbswqlpfsbtjlnhllmjpbfhgpfcprpdnqqvqdmcbqhbcqtstvnjdzwzwvhhwmcvcfbdwczpwpdhvnstjnbblbprzsccmwrzgfhmrpvzfztvsrtncdhzhptpfqtnqwvqtwdpvcqztgjgrcbdnvqftphtfbtqdhrffdrdmwsbpvhshzvjbvsrljnzddmmfgcnfdssvzdbsfwmfjsdnslbrqsqfwfqbqszjwvgcjbhrfjcnlfhzvhcbbbpmhhvjdtgrqlcchqtvnhlrgtssllvgcdjrlzlzfbrrrvwvvcgfjdlpscsqljmmwmvwnvrgdmgcbvmwmgprbfrbgptlfjbhrmczwrzwbdhdvtgvldnzfgcngdfhbgqsfzlrbwbvdflrrsrcwthjzvgmdtndgtsjtswfbdqvcjtsdvrvqpmmdlghsdbzplgpfnstplpjdvttgzmnhssftqcqjvdvvdrmltbrpsjvqwbljrqrtqldzbwzznsdstvmdzbrvvtgrrphmbrzwnjbmqvfhljcdlbzqtcbjsfqdqcr'"
      ]
     },
     "execution_count": 3,
     "metadata": {},
     "output_type": "execute_result"
    }
   ],
   "source": [
    "f = open('input6', 'r')\n",
    "line = f.read()\n",
    "line = line[:-3]\n",
    "line"
   ]
  },
  {
   "cell_type": "code",
   "execution_count": 4,
   "id": "1bf3945d-d9d6-4eca-971f-9613cf18168b",
   "metadata": {},
   "outputs": [
    {
     "name": "stdout",
     "output_type": "stream",
     "text": [
      "vhpj 1800\n"
     ]
    }
   ],
   "source": [
    "for i in range(0, len(line)):\n",
    "    window = line[i:i + 4]\n",
    "    if len(set(window)) == 4:\n",
    "        print(window, i)\n",
    "        break"
   ]
  },
  {
   "cell_type": "code",
   "execution_count": 5,
   "id": "ba7a89cb-076d-4e41-8ba7-2f2779dad39a",
   "metadata": {},
   "outputs": [
    {
     "data": {
      "text/plain": [
       "1804"
      ]
     },
     "execution_count": 5,
     "metadata": {},
     "output_type": "execute_result"
    }
   ],
   "source": [
    "i + 4"
   ]
  },
  {
   "cell_type": "markdown",
   "id": "4e5da3c4-2191-4af3-b7d9-76b462f82d7e",
   "metadata": {},
   "source": [
    "## --- Part Two ---"
   ]
  },
  {
   "cell_type": "code",
   "execution_count": 14,
   "id": "0d699fea-b89e-4278-a7d1-249cb19fc2a2",
   "metadata": {},
   "outputs": [
    {
     "name": "stdout",
     "output_type": "stream",
     "text": [
      "rnfghsvpcwjdtl 2494\n"
     ]
    }
   ],
   "source": [
    "for i in range(0, len(line)):\n",
    "    window = line[i:i + 14]\n",
    "    if len(set(window)) == 14:\n",
    "        print(window, i)\n",
    "        break"
   ]
  },
  {
   "cell_type": "code",
   "execution_count": 16,
   "id": "ff0f1230-6172-4275-b279-9cc91c6065db",
   "metadata": {},
   "outputs": [
    {
     "data": {
      "text/plain": [
       "2508"
      ]
     },
     "execution_count": 16,
     "metadata": {},
     "output_type": "execute_result"
    }
   ],
   "source": [
    "i + 14"
   ]
  },
  {
   "cell_type": "markdown",
   "id": "fbd5475c-3423-4540-9283-944805c8addc",
   "metadata": {},
   "source": [
    "# GPTChat's solution\n",
    "\n",
    "## Attempt 1\n",
    "\n",
    "Input to [ChatGPT](https://chat.openai.com/chat): Could you help me write some generic code in Python to solve the following type of problem? It goes like this: [Advent of Code Day 6 Text]. \n",
    "\n",
    "And below is what it output, which is pretty darn decently but DOES have an off by one error. Still pretty neat though!"
   ]
  },
  {
   "cell_type": "code",
   "execution_count": 1,
   "id": "13c64544-c994-4a9f-b31a-29b7ace0180f",
   "metadata": {},
   "outputs": [
    {
     "name": "stdout",
     "output_type": "stream",
     "text": [
      "6\n",
      "4\n",
      "5\n",
      "9\n",
      "10\n"
     ]
    }
   ],
   "source": [
    "# This function takes in a string of characters and returns the number of characters\n",
    "# that need to be processed before the first start-of-packet marker is detected\n",
    "def find_start_of_packet_marker(data):\n",
    "  # The number of characters that have been processed\n",
    "  num_processed = 0\n",
    "\n",
    "  # Keep track of the last four characters that have been processed\n",
    "  last_four = []\n",
    "\n",
    "  # Loop over the characters in the data\n",
    "  for ch in data:\n",
    "    # Add the current character to the list of last four characters\n",
    "    last_four.append(ch)\n",
    "\n",
    "    # If we have more than four characters in the list, remove the oldest one\n",
    "    if len(last_four) > 4:\n",
    "      last_four.pop(0)\n",
    "\n",
    "    # If the last four characters are all different, we have found a start-of-packet marker\n",
    "    if len(set(last_four)) == 4:\n",
    "      return num_processed\n",
    "\n",
    "    # Increment the number of characters that have been processed\n",
    "    num_processed += 1\n",
    "\n",
    "  # If we get here, no start-of-packet marker was found\n",
    "  return -1\n",
    "\n",
    "# Test the function with the example in the prompt\n",
    "data = \"mjqjpqmgbljsphdztnvjfqwrcgsmlb\"\n",
    "print(find_start_of_packet_marker(data))  # should print 7\n",
    "\n",
    "# Test the function with some additional examples\n",
    "data = \"bvwbjplbgvbhsrlpgdmjqwftvncz\"\n",
    "print(find_start_of_packet_marker(data))  # should print 5\n",
    "\n",
    "data = \"nppdvjthqldpwncqszvftbrmjlhg\"\n",
    "print(find_start_of_packet_marker(data))  # should print 6\n",
    "\n",
    "data = \"nznrnfrfntjfmvfwmzdfjlvtqnbhcprsg\"\n",
    "print(find_start_of_packet_marker(data))  # should print 10\n",
    "\n",
    "data = \"zcfzfwzzqfrljwzlrfnpqdbhtmscgvjw\"\n",
    "print(find_start_of_packet_marker(data))  # should print 11"
   ]
  },
  {
   "cell_type": "code",
   "execution_count": 6,
   "id": "dd748fd8-159c-48ac-8817-ef9472de7b18",
   "metadata": {},
   "outputs": [
    {
     "data": {
      "text/plain": [
       "1803"
      ]
     },
     "execution_count": 6,
     "metadata": {},
     "output_type": "execute_result"
    }
   ],
   "source": [
    "f = open('input6', 'r')\n",
    "line = f.read()\n",
    "find_start_of_packet_marker(line)"
   ]
  },
  {
   "cell_type": "markdown",
   "id": "81eef5d6-dac8-4b68-b81e-4c772e39ce76",
   "metadata": {},
   "source": [
    "## Attempt 2\n",
    "\n",
    "So, I told it that I thought there was an off by one error, saying\n",
    "```\n",
    "I think there's an off by one error here! Can you fix it?\n",
    "```\n",
    "\n",
    "And it replied: \n",
    "```\n",
    "You're correct, there is an off-by-one error in the code. The error is in the line that increments the num_processed variable. Since the question asks for the number of characters from the beginning of the buffer to the end of the first such four-character marker, we should increment num_processed at the end of the for loop instead of at the beginning.\n",
    "\n",
    "Here's the updated code with the off-by-one error fixed:\n",
    "```"
   ]
  },
  {
   "cell_type": "code",
   "execution_count": 11,
   "id": "07c468be-779f-4be3-b9de-4f318a64b555",
   "metadata": {},
   "outputs": [
    {
     "name": "stdout",
     "output_type": "stream",
     "text": [
      "6\n",
      "4\n",
      "5\n",
      "9\n",
      "10\n"
     ]
    }
   ],
   "source": [
    "# This function takes in a string of characters and returns the number of characters\n",
    "# that need to be processed before the first start-of-packet marker is detected\n",
    "def find_start_of_packet_marker(data):\n",
    "  # The number of characters that have been processed\n",
    "  num_processed = 0\n",
    "\n",
    "  # Keep track of the last four characters that have been processed\n",
    "  last_four = []\n",
    "\n",
    "  # Loop over the characters in the data\n",
    "  for ch in data:\n",
    "    # Add the current character to the list of last four characters\n",
    "    last_four.append(ch)\n",
    "\n",
    "    # If we have more than four characters in the list, remove the oldest one\n",
    "    if len(last_four) > 4:\n",
    "      last_four.pop(0)\n",
    "\n",
    "    # If the last four characters are all different, we have found a start-of-packet marker\n",
    "    if len(set(last_four)) == 4:\n",
    "      return num_processed\n",
    "\n",
    "    # Increment the number of characters that have been processed\n",
    "    num_processed += 1\n",
    "\n",
    "  # If we get here, no start-of-packet marker was found\n",
    "  return -1\n",
    "\n",
    "# Test the function with the example in the prompt\n",
    "data = \"mjqjpqmgbljsphdztnvjfqwrcgsmlb\"\n",
    "print(find_start_of_packet_marker(data))  # should print 7\n",
    "\n",
    "# Test the function with some additional examples\n",
    "data = \"bvwbjplbgvbhsrlpgdmjqwftvncz\"\n",
    "print(find_start_of_packet_marker(data))  # should print 5\n",
    "\n",
    "data = \"nppdvjthqldpwncqszvftbrmjlhg\"\n",
    "print(find_start_of_packet_marker(data))  # should print 6\n",
    "\n",
    "data = \"nznrnfrfntjfmvfwmzdfjlvtqnbhcprsg\"\n",
    "print(find_start_of_packet_marker(data))  # should print 10\n",
    "\n",
    "data = \"zcfzfwzzqfrljwzlrfnpqdbhtmscgvjw\"\n",
    "print(find_start_of_packet_marker(data))  # should print 11\n"
   ]
  },
  {
   "cell_type": "code",
   "execution_count": 12,
   "id": "948847d3-ccdd-499a-9c9d-0136f895f462",
   "metadata": {},
   "outputs": [
    {
     "data": {
      "text/plain": [
       "1803"
      ]
     },
     "execution_count": 12,
     "metadata": {},
     "output_type": "execute_result"
    }
   ],
   "source": [
    "f = open('input6', 'r')\n",
    "line = f.read()\n",
    "find_start_of_packet_marker(line)"
   ]
  },
  {
   "cell_type": "markdown",
   "id": "13e0c47e-f591-4ab0-a2a6-954742110133",
   "metadata": {},
   "source": [
    "## Attempt 3\n",
    "\n",
    "It's still wrong! Again: \n",
    "```\n",
    "Your reasoning is correct, but your solution is not. The `num_processed` variable should occur before the conditional that returns the number processed. \n",
    "```\n",
    "\n",
    "Response: \n",
    "```\n",
    "Still processing\n",
    "```"
   ]
  },
  {
   "cell_type": "code",
   "execution_count": 13,
   "id": "24d0d042-7591-4dd2-b84e-0e295843304f",
   "metadata": {},
   "outputs": [
    {
     "name": "stdout",
     "output_type": "stream",
     "text": [
      "7\n",
      "5\n",
      "6\n",
      "10\n",
      "11\n"
     ]
    }
   ],
   "source": [
    "# This function takes in a string of characters and returns the number of characters\n",
    "# that need to be processed before the first start-of-packet marker is detected\n",
    "def find_start_of_packet_marker(data):\n",
    "  # The number of characters that have been processed\n",
    "  num_processed = 0\n",
    "\n",
    "  # Keep track of the last four characters that have been processed\n",
    "  last_four = []\n",
    "\n",
    "  # Loop over the characters in the data\n",
    "  for ch in data:\n",
    "    # Increment the number of characters that have been processed\n",
    "    num_processed += 1\n",
    "\n",
    "    # Add the current character to the list of last four characters\n",
    "    last_four.append(ch)\n",
    "\n",
    "    # If we have more than four characters in the list, remove the oldest one\n",
    "    if len(last_four) > 4:\n",
    "      last_four.pop(0)\n",
    "\n",
    "    # If the last four characters are all different, we have found a start-of-packet marker\n",
    "    if len(set(last_four)) == 4:\n",
    "      return num_processed\n",
    "\n",
    "  # If we get here, no start-of-packet marker was found\n",
    "  return -1\n",
    "\n",
    "# Test the function with the example in the prompt\n",
    "data = \"mjqjpqmgbljsphdztnvjfqwrcgsmlb\"\n",
    "print(find_start_of_packet_marker(data))  # should print 7\n",
    "\n",
    "# Test the function with some additional examples\n",
    "data = \"bvwbjplbgvbhsrlpgdmjqwftvncz\"\n",
    "print(find_start_of_packet_marker(data))  # should print 5\n",
    "\n",
    "data = \"nppdvjthqldpwncqszvftbrmjlhg\"\n",
    "print(find_start_of_packet_marker(data))  # should print 6\n",
    "\n",
    "data = \"nznrnfrfntjfmvfwmzdfjlvtqnbhcprsg\"\n",
    "print(find_start_of_packet_marker(data))  # should print 10\n",
    "\n",
    "data = \"zcfzfwzzqfrljwzlrfnpqdbhtmscgvjw\"\n",
    "print(find_start_of_packet_marker(data))  # should print 11\n"
   ]
  },
  {
   "cell_type": "code",
   "execution_count": 14,
   "id": "213b9a7a-9034-4ea1-a24e-4a5906eb95b3",
   "metadata": {},
   "outputs": [
    {
     "data": {
      "text/plain": [
       "1804"
      ]
     },
     "execution_count": 14,
     "metadata": {},
     "output_type": "execute_result"
    }
   ],
   "source": [
    "f = open('input6', 'r')\n",
    "line = f.read()\n",
    "find_start_of_packet_marker(line)"
   ]
  },
  {
   "cell_type": "code",
   "execution_count": null,
   "id": "85ab43df-a4d2-4358-af42-2ea86c85b08c",
   "metadata": {},
   "outputs": [],
   "source": []
  }
 ],
 "metadata": {
  "kernelspec": {
   "display_name": "Python 3 (ipykernel)",
   "language": "python",
   "name": "python3"
  },
  "language_info": {
   "codemirror_mode": {
    "name": "ipython",
    "version": 3
   },
   "file_extension": ".py",
   "mimetype": "text/x-python",
   "name": "python",
   "nbconvert_exporter": "python",
   "pygments_lexer": "ipython3",
   "version": "3.10.4"
  }
 },
 "nbformat": 4,
 "nbformat_minor": 5
}
