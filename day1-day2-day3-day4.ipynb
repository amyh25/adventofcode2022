{
 "cells": [
  {
   "cell_type": "markdown",
   "id": "3eba431e-04a6-4b3c-b4a8-fdeda8ca30b0",
   "metadata": {},
   "source": [
    "# Advent of Code Day 1 through ...\n",
    "\n",
    "Hello! This notebook is for Dec 3 and Dec 4; I'm currently in DC for the weekend. Since I was busy with applications for the first couple of days in December, I didn't have time to complete the first couple days so I'm catching up now. Not competing at all, just trying to see how far I can get!"
   ]
  },
  {
   "cell_type": "code",
   "execution_count": 1,
   "id": "c26552d7-1b2a-4ca3-b15d-0c43d557e4e3",
   "metadata": {},
   "outputs": [],
   "source": [
    "import numpy as np\n",
    "import pandas as pd"
   ]
  },
  {
   "cell_type": "markdown",
   "id": "547e6d31-a221-4932-8960-334145bf044c",
   "metadata": {},
   "source": [
    "# --- Day 1: Calorie Counting ---\n",
    "In case the Elves get hungry and need extra snacks, they need to know which Elf to ask: they'd like to know how many Calories are being carried by the Elf carrying the most Calories. In the example above, this is 24000 (carried by the fourth Elf)."
   ]
  },
  {
   "cell_type": "code",
   "execution_count": 2,
   "id": "6efd2805-be71-4144-aee3-0e50a9964570",
   "metadata": {},
   "outputs": [],
   "source": [
    "f = open('input1', 'r')\n",
    "\n",
    "max_calories = 0\n",
    "current_elf = 0\n",
    "\n",
    "while True: \n",
    "    line = f.readline()\n",
    "    if not line:\n",
    "        break\n",
    "    if line == '\\n':\n",
    "        if current_elf > max_calories: \n",
    "            max_calories = current_elf\n",
    "        current_elf = 0\n",
    "    else: \n",
    "        current_elf += int(line[:-1])"
   ]
  },
  {
   "cell_type": "code",
   "execution_count": 3,
   "id": "8ab10c28-9016-4378-84b8-9a239f8e03c8",
   "metadata": {},
   "outputs": [
    {
     "data": {
      "text/plain": [
       "68292"
      ]
     },
     "execution_count": 3,
     "metadata": {},
     "output_type": "execute_result"
    }
   ],
   "source": [
    "max_calories"
   ]
  },
  {
   "cell_type": "markdown",
   "id": "7edb2367-5f57-4e5f-8df6-079b973b93dc",
   "metadata": {},
   "source": [
    "## --- Part Two ---\n",
    "Find the top three Elves carrying the most Calories. How many Calories are those Elves carrying in total?"
   ]
  },
  {
   "cell_type": "code",
   "execution_count": 4,
   "id": "48889ca4-b902-4164-8c47-8a0fe8eeb827",
   "metadata": {},
   "outputs": [],
   "source": [
    "f = open('input1', 'r')\n",
    "\n",
    "max_calories = 0\n",
    "max2_calories = 0\n",
    "max3_calories = 0\n",
    "current_elf = 0\n",
    "\n",
    "while True: \n",
    "    line = f.readline()\n",
    "    if not line:\n",
    "        break\n",
    "    if line == '\\n':\n",
    "        if current_elf > max_calories:\n",
    "            max3_calories = max2_calories\n",
    "            max2_calories = max_calories\n",
    "            max_calories = current_elf\n",
    "        elif current_elf > max2_calories: \n",
    "            max3_calories = max2_calories\n",
    "            max2_calories = current_elf\n",
    "        elif current_elf > max3_calories: \n",
    "            max3_calories = current_elf\n",
    "        current_elf = 0\n",
    "    else: \n",
    "        current_elf += int(line[:-1])"
   ]
  },
  {
   "cell_type": "code",
   "execution_count": 5,
   "id": "0ffa6fd1-605b-4e9a-85c5-913d01d76135",
   "metadata": {},
   "outputs": [
    {
     "data": {
      "text/plain": [
       "68292"
      ]
     },
     "execution_count": 5,
     "metadata": {},
     "output_type": "execute_result"
    }
   ],
   "source": [
    "max_calories"
   ]
  },
  {
   "cell_type": "code",
   "execution_count": 6,
   "id": "73fb29b0-bd36-45bb-9cef-69e43d47ef7c",
   "metadata": {},
   "outputs": [
    {
     "data": {
      "text/plain": [
       "68056"
      ]
     },
     "execution_count": 6,
     "metadata": {},
     "output_type": "execute_result"
    }
   ],
   "source": [
    "max2_calories"
   ]
  },
  {
   "cell_type": "code",
   "execution_count": 7,
   "id": "3a3d08dc-bbf7-42cd-b3f6-2d638d255086",
   "metadata": {},
   "outputs": [
    {
     "data": {
      "text/plain": [
       "66855"
      ]
     },
     "execution_count": 7,
     "metadata": {},
     "output_type": "execute_result"
    }
   ],
   "source": [
    "max3_calories"
   ]
  },
  {
   "cell_type": "code",
   "execution_count": 8,
   "id": "2fdc7574-aa56-4355-8fb4-3f02b1ae068c",
   "metadata": {},
   "outputs": [
    {
     "data": {
      "text/plain": [
       "203203"
      ]
     },
     "execution_count": 8,
     "metadata": {},
     "output_type": "execute_result"
    }
   ],
   "source": [
    "max_calories + max2_calories + max3_calories"
   ]
  },
  {
   "cell_type": "markdown",
   "id": "7b8e76ce-5e60-4c1d-be90-0b078b06a0a4",
   "metadata": {},
   "source": [
    "## ChatGPT solution\n",
    "On 12/8/2022, I asked ChatGPT:\n",
    "```\n",
    "Could you solve the following problem in Python?\n",
    "```"
   ]
  },
  {
   "cell_type": "raw",
   "id": "368190f1-d40c-4c57-84a5-6bf58f4ac3f6",
   "metadata": {},
   "source": [
    "# Open the file and read the lines into a list\n",
    "with open('input1') as f:\n",
    "    lines = f.readlines()\n",
    "\n",
    "# Initialize the maximum calories to 0\n",
    "max_calories = 0\n",
    "\n",
    "# Loop through the lines in the list\n",
    "for line in lines:\n",
    "    # Try to convert the line to an integer\n",
    "    try:\n",
    "        calories = int(line)\n",
    "        # If the conversion is successful, add the calories to the total\n",
    "        total_calories += calories\n",
    "    except ValueError:\n",
    "        # If the conversion fails, it means we've reached the end of an Elf's inventory\n",
    "        # Check if the total calories for this Elf are greater than the maximum calories\n",
    "        if total_calories > max_calories:\n",
    "            # If so, update the maximum calories\n",
    "            max_calories = total_calories\n",
    "        # Reset the total calories for the next Elf\n",
    "        total_calories = 0\n",
    "\n",
    "# Print the maximum calories\n",
    "print(max_calories)\n"
   ]
  },
  {
   "cell_type": "markdown",
   "id": "45ab6475-81c3-4628-aff5-89aec65d543b",
   "metadata": {},
   "source": [
    "I'm going to set the above code chunk as raw so that it doesn't run, because it throws an error. ChatGPT forgot to initialize total calories so I told it that and it fixed it. "
   ]
  },
  {
   "cell_type": "code",
   "execution_count": 9,
   "id": "23f79445-4268-4900-857c-27baeefbd875",
   "metadata": {},
   "outputs": [
    {
     "name": "stdout",
     "output_type": "stream",
     "text": [
      "68292\n"
     ]
    }
   ],
   "source": [
    "# Open the file and read the lines into a list\n",
    "with open('input1') as f:\n",
    "    lines = f.readlines()\n",
    "\n",
    "# Initialize the maximum calories to 0\n",
    "max_calories = 0\n",
    "\n",
    "# Initialize the total calories to 0\n",
    "total_calories = 0\n",
    "\n",
    "# Loop through the lines in the list\n",
    "for line in lines:\n",
    "    # Try to convert the line to an integer\n",
    "    try:\n",
    "        calories = int(line)\n",
    "        # If the conversion is successful, add the calories to the total\n",
    "        total_calories += calories\n",
    "    except ValueError:\n",
    "        # If the conversion fails, it means we've reached the end of an Elf's inventory\n",
    "        # Check if the total calories for this Elf are greater than the maximum calories\n",
    "        if total_calories > max_calories:\n",
    "            # If so, update the maximum calories\n",
    "            max_calories = total_calories\n",
    "        # Reset the total calories for the next Elf\n",
    "        total_calories = 0\n",
    "\n",
    "# Print the maximum calories\n",
    "print(max_calories)\n"
   ]
  },
  {
   "cell_type": "markdown",
   "id": "37c3d655-704c-455b-b158-39a411ae3ac0",
   "metadata": {},
   "source": [
    "## ChatGPT part2 solution"
   ]
  },
  {
   "cell_type": "raw",
   "id": "3fb34b7a-9c34-4b61-bd33-9efe58e6be6f",
   "metadata": {},
   "source": [
    "# Open the file and read the lines into a list\n",
    "with open('input1') as f:\n",
    "    lines = f.readlines()\n",
    "\n",
    "# Initialize a dictionary to store the total calories for each Elf\n",
    "elf_calories = {}\n",
    "\n",
    "# Loop through the lines in the list\n",
    "for line in lines:\n",
    "    # Try to convert the line to an integer\n",
    "    try:\n",
    "        calories = int(line)\n",
    "        # If the conversion is successful, add the calories to the current Elf's total\n",
    "        elf_calories[current_elf] += calories\n",
    "    except ValueError:\n",
    "        # If the conversion fails, it means we've reached the end of an Elf's inventory\n",
    "        # Check if the current Elf exists in the dictionary\n",
    "        if current_elf not in elf_calories:\n",
    "            # If not, initialize the total calories for the current Elf to 0\n",
    "            elf_calories[current_elf] = 0\n",
    "        # Increment the current Elf to the next one\n",
    "        current_elf += 1\n",
    "\n",
    "# Sort the dictionary by the total calories in descending order\n",
    "sorted_elf_calories = sorted(elf_calories.items(), key=lambda x: x[1], reverse=True)\n",
    "\n",
    "# Initialize the total calories for the top three Elves to 0\n",
    "top_three_calories = 0\n",
    "\n",
    "# Loop through the first three Elves in the sorted list\n",
    "for elf, calories in sorted_elf_calories[:3]:\n",
    "    # Add the calories for each Elf to the total\n",
    "    top_three_calories += calories\n",
    "\n",
    "# Print the total calories for the top three Elves\n",
    "print(top_three_calories)\n"
   ]
  },
  {
   "cell_type": "markdown",
   "id": "2c612890-a85c-40ec-9be2-067e0fd081e4",
   "metadata": {},
   "source": [
    "I get a key error, so I'm going to again set the above chunk to raw for now. All I told ChatGPT was that I got a key error, and I wanted to see if it could fix it. "
   ]
  },
  {
   "cell_type": "raw",
   "id": "26dfa3aa-55ce-4c0c-b60b-bd82f7e6c40d",
   "metadata": {},
   "source": [
    "# Open the file and read the lines into a list\n",
    "with open('input1') as f:\n",
    "    lines = f.readlines()\n",
    "\n",
    "# Initialize a dictionary to store the total calories for each Elf\n",
    "elf_calories = {}\n",
    "\n",
    "# Initialize the current Elf to 1\n",
    "current_elf = 1\n",
    "\n",
    "# Loop through the lines in the list\n",
    "for line in lines:\n",
    "    # Try to convert the line to an integer\n",
    "    try:\n",
    "        calories = int(line)\n",
    "        # If the conversion is successful, add the calories to the current Elf's total\n",
    "        elf_calories[current_elf] += calories\n",
    "    except ValueError:\n",
    "        # If the conversion fails, it means we've reached the end of an Elf's inventory\n",
    "        # Check if the current Elf exists in the dictionary\n",
    "        if current_elf not in elf_calories:\n",
    "            # If not, initialize the total calories for the current Elf to 0\n",
    "            elf_calories[current_elf] = 0\n",
    "        # Increment the current Elf to the next one\n",
    "        current_elf += 1\n",
    "\n",
    "# Sort the dictionary by the total calories in descending order\n",
    "sorted_elf_calories = sorted(elf_calories.items(), key=lambda x: x[1], reverse=True)\n",
    "\n",
    "# Initialize the total calories for the top three Elves to 0\n",
    "top_three_calories = 0\n",
    "\n",
    "# Loop through the first three Elves in the sorted list\n",
    "for elf, calories in sorted_elf_calories[:3]:\n",
    "    # Add the calories for each Elf to the total\n",
    "    top_three_calories += calories\n",
    "\n",
    "# Print the total calories for the top three Elves\n",
    "print(top_three_calories)"
   ]
  },
  {
   "cell_type": "markdown",
   "id": "2ef94570-a41c-4229-b9ce-aa098c7fa082",
   "metadata": {},
   "source": [
    "Still a key error, because of how the `try` block is functioning, I think. I didn't want to deal with troubleshooting this framework because the use of the dictionary is kind of moronic in the first place, so I asked ChatGPT: \"I don't think this solution is working, can you try something completely different?\""
   ]
  },
  {
   "cell_type": "code",
   "execution_count": 10,
   "id": "d80c6aec-f3e6-4637-9da1-3994dfc01ecd",
   "metadata": {},
   "outputs": [
    {
     "name": "stdout",
     "output_type": "stream",
     "text": [
      "203203\n"
     ]
    }
   ],
   "source": [
    "# Open the file and read the lines into a list\n",
    "with open('input1') as f:\n",
    "    lines = f.readlines()\n",
    "\n",
    "# Initialize a list to store the total calories for each Elf\n",
    "elf_calories = []\n",
    "\n",
    "# Initialize the total calories for the current Elf to 0\n",
    "total_calories = 0\n",
    "\n",
    "# Loop through the lines in the list\n",
    "for line in lines:\n",
    "    # Try to convert the line to an integer\n",
    "    try:\n",
    "        calories = int(line)\n",
    "        # If the conversion is successful, add the calories to the total\n",
    "        total_calories += calories\n",
    "    except ValueError:\n",
    "        # If the conversion fails, it means we've reached the end of an Elf's inventory\n",
    "        # Add the total calories for the current Elf to the list\n",
    "        elf_calories.append(total_calories)\n",
    "        # Reset the total calories for the next Elf\n",
    "        total_calories = 0\n",
    "\n",
    "# Add the final Elf's total calories to the list\n",
    "elf_calories.append(total_calories)\n",
    "\n",
    "# Sort the list of Elf calories in descending order\n",
    "elf_calories.sort(reverse=True)\n",
    "\n",
    "# Initialize the total calories for the top three Elves to 0\n",
    "top_three_calories = 0\n",
    "\n",
    "# Loop through the first three Elves in the sorted list\n",
    "for calories in elf_calories[:3]:\n",
    "    # Add the calories for each Elf to the total\n",
    "    top_three_calories += calories\n",
    "\n",
    "# Print the total calories for the top three Elves\n",
    "print(top_three_calories)\n"
   ]
  },
  {
   "cell_type": "markdown",
   "id": "cd9ac1f6-bc79-481e-bf64-205163934c25",
   "metadata": {},
   "source": [
    "That's correct! I'm going to try telling it it's not correct now and seeing what happens by telling it that there's an error in the try block.\n",
    "\n",
    "Okay -- interestingly, it repsonse that \"It looks like the error is because I forgot to add the `calories` variable to the `total_calories` vairable in the `try` block. Here is the updated code that should fix the error.\" But it didn't change the code AT ALL. "
   ]
  },
  {
   "cell_type": "markdown",
   "id": "3eed291f-d12c-4b1a-9d48-df81853599ec",
   "metadata": {},
   "source": [
    "# --- Day 2: Rock Paper Scissors ---"
   ]
  },
  {
   "cell_type": "code",
   "execution_count": 11,
   "id": "e9c9e44b-ccc4-4649-a9b8-c8d465ea6325",
   "metadata": {},
   "outputs": [],
   "source": [
    "rps_df = pd.read_csv('input2', sep = ' ', header = None)"
   ]
  },
  {
   "cell_type": "code",
   "execution_count": 12,
   "id": "a4441764-152b-4c1a-ae69-3761d75db36e",
   "metadata": {},
   "outputs": [
    {
     "data": {
      "text/html": [
       "<div>\n",
       "<style scoped>\n",
       "    .dataframe tbody tr th:only-of-type {\n",
       "        vertical-align: middle;\n",
       "    }\n",
       "\n",
       "    .dataframe tbody tr th {\n",
       "        vertical-align: top;\n",
       "    }\n",
       "\n",
       "    .dataframe thead th {\n",
       "        text-align: right;\n",
       "    }\n",
       "</style>\n",
       "<table border=\"1\" class=\"dataframe\">\n",
       "  <thead>\n",
       "    <tr style=\"text-align: right;\">\n",
       "      <th></th>\n",
       "      <th>opponent</th>\n",
       "      <th>you</th>\n",
       "      <th>your_shape_score</th>\n",
       "      <th>opponent_shape_score</th>\n",
       "    </tr>\n",
       "  </thead>\n",
       "  <tbody>\n",
       "    <tr>\n",
       "      <th>0</th>\n",
       "      <td>A</td>\n",
       "      <td>Y</td>\n",
       "      <td>2</td>\n",
       "      <td>1</td>\n",
       "    </tr>\n",
       "    <tr>\n",
       "      <th>1</th>\n",
       "      <td>B</td>\n",
       "      <td>Z</td>\n",
       "      <td>3</td>\n",
       "      <td>2</td>\n",
       "    </tr>\n",
       "    <tr>\n",
       "      <th>2</th>\n",
       "      <td>C</td>\n",
       "      <td>Y</td>\n",
       "      <td>2</td>\n",
       "      <td>3</td>\n",
       "    </tr>\n",
       "    <tr>\n",
       "      <th>3</th>\n",
       "      <td>B</td>\n",
       "      <td>Y</td>\n",
       "      <td>2</td>\n",
       "      <td>2</td>\n",
       "    </tr>\n",
       "    <tr>\n",
       "      <th>4</th>\n",
       "      <td>A</td>\n",
       "      <td>Y</td>\n",
       "      <td>2</td>\n",
       "      <td>1</td>\n",
       "    </tr>\n",
       "    <tr>\n",
       "      <th>...</th>\n",
       "      <td>...</td>\n",
       "      <td>...</td>\n",
       "      <td>...</td>\n",
       "      <td>...</td>\n",
       "    </tr>\n",
       "    <tr>\n",
       "      <th>2495</th>\n",
       "      <td>A</td>\n",
       "      <td>Y</td>\n",
       "      <td>2</td>\n",
       "      <td>1</td>\n",
       "    </tr>\n",
       "    <tr>\n",
       "      <th>2496</th>\n",
       "      <td>B</td>\n",
       "      <td>Y</td>\n",
       "      <td>2</td>\n",
       "      <td>2</td>\n",
       "    </tr>\n",
       "    <tr>\n",
       "      <th>2497</th>\n",
       "      <td>A</td>\n",
       "      <td>Z</td>\n",
       "      <td>3</td>\n",
       "      <td>1</td>\n",
       "    </tr>\n",
       "    <tr>\n",
       "      <th>2498</th>\n",
       "      <td>A</td>\n",
       "      <td>Y</td>\n",
       "      <td>2</td>\n",
       "      <td>1</td>\n",
       "    </tr>\n",
       "    <tr>\n",
       "      <th>2499</th>\n",
       "      <td>A</td>\n",
       "      <td>Y</td>\n",
       "      <td>2</td>\n",
       "      <td>1</td>\n",
       "    </tr>\n",
       "  </tbody>\n",
       "</table>\n",
       "<p>2500 rows × 4 columns</p>\n",
       "</div>"
      ],
      "text/plain": [
       "     opponent you your_shape_score opponent_shape_score\n",
       "0           A   Y                2                    1\n",
       "1           B   Z                3                    2\n",
       "2           C   Y                2                    3\n",
       "3           B   Y                2                    2\n",
       "4           A   Y                2                    1\n",
       "...       ...  ..              ...                  ...\n",
       "2495        A   Y                2                    1\n",
       "2496        B   Y                2                    2\n",
       "2497        A   Z                3                    1\n",
       "2498        A   Y                2                    1\n",
       "2499        A   Y                2                    1\n",
       "\n",
       "[2500 rows x 4 columns]"
      ]
     },
     "execution_count": 12,
     "metadata": {},
     "output_type": "execute_result"
    }
   ],
   "source": [
    "rps_df_shape_score = rps_df.rename({0: 'opponent', 1: 'you'}, axis = 1)\n",
    "rps_df_shape_score['your_shape_score'] = np.select(\n",
    "    [\n",
    "        rps_df_shape_score['you'] == 'X', \n",
    "        rps_df_shape_score['you'] == 'Y', \n",
    "        rps_df_shape_score['you'] == 'Z'\n",
    "    ], \n",
    "    [\n",
    "        1, \n",
    "        2, \n",
    "        3\n",
    "    ], \n",
    "    default='Unknown'\n",
    ")\n",
    "rps_df_shape_score['opponent_shape_score'] = np.select(\n",
    "    [\n",
    "        rps_df_shape_score['opponent'] == 'A', \n",
    "        rps_df_shape_score['opponent'] == 'B', \n",
    "        rps_df_shape_score['opponent'] == 'C'\n",
    "    ], \n",
    "    [\n",
    "        1, \n",
    "        2, \n",
    "        3\n",
    "    ], \n",
    "    default='Unknown'\n",
    ")\n",
    "rps_df_shape_score"
   ]
  },
  {
   "cell_type": "code",
   "execution_count": 13,
   "id": "e47666c3-3907-4431-bf0d-a66aa32306e2",
   "metadata": {},
   "outputs": [
    {
     "data": {
      "text/html": [
       "<div>\n",
       "<style scoped>\n",
       "    .dataframe tbody tr th:only-of-type {\n",
       "        vertical-align: middle;\n",
       "    }\n",
       "\n",
       "    .dataframe tbody tr th {\n",
       "        vertical-align: top;\n",
       "    }\n",
       "\n",
       "    .dataframe thead th {\n",
       "        text-align: right;\n",
       "    }\n",
       "</style>\n",
       "<table border=\"1\" class=\"dataframe\">\n",
       "  <thead>\n",
       "    <tr style=\"text-align: right;\">\n",
       "      <th></th>\n",
       "      <th>opponent</th>\n",
       "      <th>you</th>\n",
       "      <th>your_shape_score</th>\n",
       "      <th>opponent_shape_score</th>\n",
       "      <th>win_diff</th>\n",
       "    </tr>\n",
       "  </thead>\n",
       "  <tbody>\n",
       "    <tr>\n",
       "      <th>0</th>\n",
       "      <td>A</td>\n",
       "      <td>Y</td>\n",
       "      <td>2</td>\n",
       "      <td>1</td>\n",
       "      <td>1</td>\n",
       "    </tr>\n",
       "    <tr>\n",
       "      <th>1</th>\n",
       "      <td>B</td>\n",
       "      <td>Z</td>\n",
       "      <td>3</td>\n",
       "      <td>2</td>\n",
       "      <td>1</td>\n",
       "    </tr>\n",
       "    <tr>\n",
       "      <th>2</th>\n",
       "      <td>C</td>\n",
       "      <td>Y</td>\n",
       "      <td>2</td>\n",
       "      <td>3</td>\n",
       "      <td>-1</td>\n",
       "    </tr>\n",
       "    <tr>\n",
       "      <th>3</th>\n",
       "      <td>B</td>\n",
       "      <td>Y</td>\n",
       "      <td>2</td>\n",
       "      <td>2</td>\n",
       "      <td>0</td>\n",
       "    </tr>\n",
       "    <tr>\n",
       "      <th>4</th>\n",
       "      <td>A</td>\n",
       "      <td>Y</td>\n",
       "      <td>2</td>\n",
       "      <td>1</td>\n",
       "      <td>1</td>\n",
       "    </tr>\n",
       "    <tr>\n",
       "      <th>...</th>\n",
       "      <td>...</td>\n",
       "      <td>...</td>\n",
       "      <td>...</td>\n",
       "      <td>...</td>\n",
       "      <td>...</td>\n",
       "    </tr>\n",
       "    <tr>\n",
       "      <th>2495</th>\n",
       "      <td>A</td>\n",
       "      <td>Y</td>\n",
       "      <td>2</td>\n",
       "      <td>1</td>\n",
       "      <td>1</td>\n",
       "    </tr>\n",
       "    <tr>\n",
       "      <th>2496</th>\n",
       "      <td>B</td>\n",
       "      <td>Y</td>\n",
       "      <td>2</td>\n",
       "      <td>2</td>\n",
       "      <td>0</td>\n",
       "    </tr>\n",
       "    <tr>\n",
       "      <th>2497</th>\n",
       "      <td>A</td>\n",
       "      <td>Z</td>\n",
       "      <td>3</td>\n",
       "      <td>1</td>\n",
       "      <td>2</td>\n",
       "    </tr>\n",
       "    <tr>\n",
       "      <th>2498</th>\n",
       "      <td>A</td>\n",
       "      <td>Y</td>\n",
       "      <td>2</td>\n",
       "      <td>1</td>\n",
       "      <td>1</td>\n",
       "    </tr>\n",
       "    <tr>\n",
       "      <th>2499</th>\n",
       "      <td>A</td>\n",
       "      <td>Y</td>\n",
       "      <td>2</td>\n",
       "      <td>1</td>\n",
       "      <td>1</td>\n",
       "    </tr>\n",
       "  </tbody>\n",
       "</table>\n",
       "<p>2500 rows × 5 columns</p>\n",
       "</div>"
      ],
      "text/plain": [
       "     opponent you your_shape_score opponent_shape_score  win_diff\n",
       "0           A   Y                2                    1         1\n",
       "1           B   Z                3                    2         1\n",
       "2           C   Y                2                    3        -1\n",
       "3           B   Y                2                    2         0\n",
       "4           A   Y                2                    1         1\n",
       "...       ...  ..              ...                  ...       ...\n",
       "2495        A   Y                2                    1         1\n",
       "2496        B   Y                2                    2         0\n",
       "2497        A   Z                3                    1         2\n",
       "2498        A   Y                2                    1         1\n",
       "2499        A   Y                2                    1         1\n",
       "\n",
       "[2500 rows x 5 columns]"
      ]
     },
     "execution_count": 13,
     "metadata": {},
     "output_type": "execute_result"
    }
   ],
   "source": [
    "zipped = zip(rps_df_shape_score['your_shape_score'], rps_df_shape_score['opponent_shape_score'])\n",
    "rps_df_win_diff = rps_df_shape_score\n",
    "rps_df_win_diff['win_diff'] = pd.Series([int(x) - int(y) for x, y in zipped], index = rps_df_shape_score.index)\n",
    "rps_df_win_diff"
   ]
  },
  {
   "cell_type": "code",
   "execution_count": 14,
   "id": "a85d3008-4a7b-4d2d-9239-ef65ec08e70f",
   "metadata": {},
   "outputs": [
    {
     "data": {
      "text/html": [
       "<div>\n",
       "<style scoped>\n",
       "    .dataframe tbody tr th:only-of-type {\n",
       "        vertical-align: middle;\n",
       "    }\n",
       "\n",
       "    .dataframe tbody tr th {\n",
       "        vertical-align: top;\n",
       "    }\n",
       "\n",
       "    .dataframe thead th {\n",
       "        text-align: right;\n",
       "    }\n",
       "</style>\n",
       "<table border=\"1\" class=\"dataframe\">\n",
       "  <thead>\n",
       "    <tr style=\"text-align: right;\">\n",
       "      <th></th>\n",
       "      <th>opponent</th>\n",
       "      <th>you</th>\n",
       "      <th>your_shape_score</th>\n",
       "      <th>opponent_shape_score</th>\n",
       "      <th>win_diff</th>\n",
       "      <th>win_score</th>\n",
       "      <th>total_score</th>\n",
       "    </tr>\n",
       "  </thead>\n",
       "  <tbody>\n",
       "    <tr>\n",
       "      <th>0</th>\n",
       "      <td>A</td>\n",
       "      <td>Y</td>\n",
       "      <td>2</td>\n",
       "      <td>1</td>\n",
       "      <td>1</td>\n",
       "      <td>6</td>\n",
       "      <td>8</td>\n",
       "    </tr>\n",
       "    <tr>\n",
       "      <th>1</th>\n",
       "      <td>B</td>\n",
       "      <td>Z</td>\n",
       "      <td>3</td>\n",
       "      <td>2</td>\n",
       "      <td>1</td>\n",
       "      <td>6</td>\n",
       "      <td>9</td>\n",
       "    </tr>\n",
       "    <tr>\n",
       "      <th>2</th>\n",
       "      <td>C</td>\n",
       "      <td>Y</td>\n",
       "      <td>2</td>\n",
       "      <td>3</td>\n",
       "      <td>-1</td>\n",
       "      <td>0</td>\n",
       "      <td>2</td>\n",
       "    </tr>\n",
       "    <tr>\n",
       "      <th>3</th>\n",
       "      <td>B</td>\n",
       "      <td>Y</td>\n",
       "      <td>2</td>\n",
       "      <td>2</td>\n",
       "      <td>0</td>\n",
       "      <td>3</td>\n",
       "      <td>5</td>\n",
       "    </tr>\n",
       "    <tr>\n",
       "      <th>4</th>\n",
       "      <td>A</td>\n",
       "      <td>Y</td>\n",
       "      <td>2</td>\n",
       "      <td>1</td>\n",
       "      <td>1</td>\n",
       "      <td>6</td>\n",
       "      <td>8</td>\n",
       "    </tr>\n",
       "    <tr>\n",
       "      <th>...</th>\n",
       "      <td>...</td>\n",
       "      <td>...</td>\n",
       "      <td>...</td>\n",
       "      <td>...</td>\n",
       "      <td>...</td>\n",
       "      <td>...</td>\n",
       "      <td>...</td>\n",
       "    </tr>\n",
       "    <tr>\n",
       "      <th>2495</th>\n",
       "      <td>A</td>\n",
       "      <td>Y</td>\n",
       "      <td>2</td>\n",
       "      <td>1</td>\n",
       "      <td>1</td>\n",
       "      <td>6</td>\n",
       "      <td>8</td>\n",
       "    </tr>\n",
       "    <tr>\n",
       "      <th>2496</th>\n",
       "      <td>B</td>\n",
       "      <td>Y</td>\n",
       "      <td>2</td>\n",
       "      <td>2</td>\n",
       "      <td>0</td>\n",
       "      <td>3</td>\n",
       "      <td>5</td>\n",
       "    </tr>\n",
       "    <tr>\n",
       "      <th>2497</th>\n",
       "      <td>A</td>\n",
       "      <td>Z</td>\n",
       "      <td>3</td>\n",
       "      <td>1</td>\n",
       "      <td>2</td>\n",
       "      <td>0</td>\n",
       "      <td>3</td>\n",
       "    </tr>\n",
       "    <tr>\n",
       "      <th>2498</th>\n",
       "      <td>A</td>\n",
       "      <td>Y</td>\n",
       "      <td>2</td>\n",
       "      <td>1</td>\n",
       "      <td>1</td>\n",
       "      <td>6</td>\n",
       "      <td>8</td>\n",
       "    </tr>\n",
       "    <tr>\n",
       "      <th>2499</th>\n",
       "      <td>A</td>\n",
       "      <td>Y</td>\n",
       "      <td>2</td>\n",
       "      <td>1</td>\n",
       "      <td>1</td>\n",
       "      <td>6</td>\n",
       "      <td>8</td>\n",
       "    </tr>\n",
       "  </tbody>\n",
       "</table>\n",
       "<p>2500 rows × 7 columns</p>\n",
       "</div>"
      ],
      "text/plain": [
       "     opponent you your_shape_score opponent_shape_score  win_diff win_score  \\\n",
       "0           A   Y                2                    1         1         6   \n",
       "1           B   Z                3                    2         1         6   \n",
       "2           C   Y                2                    3        -1         0   \n",
       "3           B   Y                2                    2         0         3   \n",
       "4           A   Y                2                    1         1         6   \n",
       "...       ...  ..              ...                  ...       ...       ...   \n",
       "2495        A   Y                2                    1         1         6   \n",
       "2496        B   Y                2                    2         0         3   \n",
       "2497        A   Z                3                    1         2         0   \n",
       "2498        A   Y                2                    1         1         6   \n",
       "2499        A   Y                2                    1         1         6   \n",
       "\n",
       "      total_score  \n",
       "0               8  \n",
       "1               9  \n",
       "2               2  \n",
       "3               5  \n",
       "4               8  \n",
       "...           ...  \n",
       "2495            8  \n",
       "2496            5  \n",
       "2497            3  \n",
       "2498            8  \n",
       "2499            8  \n",
       "\n",
       "[2500 rows x 7 columns]"
      ]
     },
     "execution_count": 14,
     "metadata": {},
     "output_type": "execute_result"
    }
   ],
   "source": [
    "rps_df_win_score = rps_df_win_diff.rename({0: 'opponent', 1: 'you'}, axis = 1)\n",
    "rps_df_win_score['win_score'] = np.select(\n",
    "    [\n",
    "        rps_df_win_score['win_diff'] == 1, \n",
    "        rps_df_win_score['win_diff'] == -2, \n",
    "        rps_df_win_score['win_diff'] == 0, \n",
    "        rps_df_win_score['win_diff'] == -1,\n",
    "        rps_df_win_score['win_diff'] == 2\n",
    "    ], \n",
    "    [\n",
    "        6, \n",
    "        6, \n",
    "        3, \n",
    "        0, \n",
    "        0\n",
    "    ], \n",
    "    default='Unknown'\n",
    ")\n",
    "zipped = zip(rps_df_win_score['your_shape_score'], rps_df_win_score['win_score'])\n",
    "rps_df_win_score['total_score'] = pd.Series([int(x) + int(y) for x, y in zipped], index = rps_df_win_score.index)\n",
    "rps_df_win_score"
   ]
  },
  {
   "cell_type": "code",
   "execution_count": 15,
   "id": "0f1603ed-56f7-4f34-87ba-e6c58163e1d7",
   "metadata": {},
   "outputs": [
    {
     "data": {
      "text/plain": [
       "15632"
      ]
     },
     "execution_count": 15,
     "metadata": {},
     "output_type": "execute_result"
    }
   ],
   "source": [
    "rps_df_win_score.total_score.sum()"
   ]
  },
  {
   "cell_type": "markdown",
   "id": "93a9d844-27a0-45b5-bef1-53c91170fa94",
   "metadata": {},
   "source": [
    "## --- Part Two ---"
   ]
  },
  {
   "cell_type": "code",
   "execution_count": 16,
   "id": "6fc86027-a996-4346-bbde-856eef204b86",
   "metadata": {},
   "outputs": [
    {
     "data": {
      "text/html": [
       "<div>\n",
       "<style scoped>\n",
       "    .dataframe tbody tr th:only-of-type {\n",
       "        vertical-align: middle;\n",
       "    }\n",
       "\n",
       "    .dataframe tbody tr th {\n",
       "        vertical-align: top;\n",
       "    }\n",
       "\n",
       "    .dataframe thead th {\n",
       "        text-align: right;\n",
       "    }\n",
       "</style>\n",
       "<table border=\"1\" class=\"dataframe\">\n",
       "  <thead>\n",
       "    <tr style=\"text-align: right;\">\n",
       "      <th></th>\n",
       "      <th>opponent</th>\n",
       "      <th>win_symbol</th>\n",
       "      <th>opponent_shape_score</th>\n",
       "      <th>win_score</th>\n",
       "    </tr>\n",
       "  </thead>\n",
       "  <tbody>\n",
       "    <tr>\n",
       "      <th>0</th>\n",
       "      <td>A</td>\n",
       "      <td>Y</td>\n",
       "      <td>1</td>\n",
       "      <td>3</td>\n",
       "    </tr>\n",
       "    <tr>\n",
       "      <th>1</th>\n",
       "      <td>B</td>\n",
       "      <td>Z</td>\n",
       "      <td>2</td>\n",
       "      <td>6</td>\n",
       "    </tr>\n",
       "    <tr>\n",
       "      <th>2</th>\n",
       "      <td>C</td>\n",
       "      <td>Y</td>\n",
       "      <td>3</td>\n",
       "      <td>3</td>\n",
       "    </tr>\n",
       "    <tr>\n",
       "      <th>3</th>\n",
       "      <td>B</td>\n",
       "      <td>Y</td>\n",
       "      <td>2</td>\n",
       "      <td>3</td>\n",
       "    </tr>\n",
       "    <tr>\n",
       "      <th>4</th>\n",
       "      <td>A</td>\n",
       "      <td>Y</td>\n",
       "      <td>1</td>\n",
       "      <td>3</td>\n",
       "    </tr>\n",
       "    <tr>\n",
       "      <th>...</th>\n",
       "      <td>...</td>\n",
       "      <td>...</td>\n",
       "      <td>...</td>\n",
       "      <td>...</td>\n",
       "    </tr>\n",
       "    <tr>\n",
       "      <th>2495</th>\n",
       "      <td>A</td>\n",
       "      <td>Y</td>\n",
       "      <td>1</td>\n",
       "      <td>3</td>\n",
       "    </tr>\n",
       "    <tr>\n",
       "      <th>2496</th>\n",
       "      <td>B</td>\n",
       "      <td>Y</td>\n",
       "      <td>2</td>\n",
       "      <td>3</td>\n",
       "    </tr>\n",
       "    <tr>\n",
       "      <th>2497</th>\n",
       "      <td>A</td>\n",
       "      <td>Z</td>\n",
       "      <td>1</td>\n",
       "      <td>6</td>\n",
       "    </tr>\n",
       "    <tr>\n",
       "      <th>2498</th>\n",
       "      <td>A</td>\n",
       "      <td>Y</td>\n",
       "      <td>1</td>\n",
       "      <td>3</td>\n",
       "    </tr>\n",
       "    <tr>\n",
       "      <th>2499</th>\n",
       "      <td>A</td>\n",
       "      <td>Y</td>\n",
       "      <td>1</td>\n",
       "      <td>3</td>\n",
       "    </tr>\n",
       "  </tbody>\n",
       "</table>\n",
       "<p>2500 rows × 4 columns</p>\n",
       "</div>"
      ],
      "text/plain": [
       "     opponent win_symbol opponent_shape_score win_score\n",
       "0           A          Y                    1         3\n",
       "1           B          Z                    2         6\n",
       "2           C          Y                    3         3\n",
       "3           B          Y                    2         3\n",
       "4           A          Y                    1         3\n",
       "...       ...        ...                  ...       ...\n",
       "2495        A          Y                    1         3\n",
       "2496        B          Y                    2         3\n",
       "2497        A          Z                    1         6\n",
       "2498        A          Y                    1         3\n",
       "2499        A          Y                    1         3\n",
       "\n",
       "[2500 rows x 4 columns]"
      ]
     },
     "execution_count": 16,
     "metadata": {},
     "output_type": "execute_result"
    }
   ],
   "source": [
    "rps_df2 = rps_df_win_score[['opponent', 'you', 'opponent_shape_score']].rename({'you': 'win_symbol'}, axis = 1)\n",
    "rps_df2['win_score'] = np.select(\n",
    "    [\n",
    "        rps_df2['win_symbol'] == 'X', \n",
    "        rps_df2['win_symbol'] == 'Y', \n",
    "        rps_df2['win_symbol'] == 'Z'\n",
    "    ], \n",
    "    [\n",
    "        0, \n",
    "        3, \n",
    "        6\n",
    "    ], \n",
    "    default='Unknown'\n",
    ")\n",
    "rps_df2"
   ]
  },
  {
   "cell_type": "code",
   "execution_count": 17,
   "id": "084cff5b-744e-4af8-b99c-196a44e3b771",
   "metadata": {},
   "outputs": [],
   "source": [
    "zipped = zip(rps_df2.opponent_shape_score.to_list(), rps_df2.win_symbol.to_list())\n",
    "you_shape_score = []\n",
    "for x, y in zipped: \n",
    "    if y == 'X': \n",
    "        new_score = int(x) - 1\n",
    "        if new_score == 0: \n",
    "            new_score = 3\n",
    "        you_shape_score.append(new_score)\n",
    "    elif y == 'Y':\n",
    "        you_shape_score.append(int(x))\n",
    "    elif y == 'Z': \n",
    "        new_score = int(x) + 1\n",
    "        if new_score == 4:\n",
    "            new_score = 1        \n",
    "        you_shape_score.append(new_score)"
   ]
  },
  {
   "cell_type": "code",
   "execution_count": 18,
   "id": "f211dd84-8475-4e0d-9cec-ace9b7a223e3",
   "metadata": {},
   "outputs": [
    {
     "data": {
      "text/html": [
       "<div>\n",
       "<style scoped>\n",
       "    .dataframe tbody tr th:only-of-type {\n",
       "        vertical-align: middle;\n",
       "    }\n",
       "\n",
       "    .dataframe tbody tr th {\n",
       "        vertical-align: top;\n",
       "    }\n",
       "\n",
       "    .dataframe thead th {\n",
       "        text-align: right;\n",
       "    }\n",
       "</style>\n",
       "<table border=\"1\" class=\"dataframe\">\n",
       "  <thead>\n",
       "    <tr style=\"text-align: right;\">\n",
       "      <th></th>\n",
       "      <th>opponent</th>\n",
       "      <th>win_symbol</th>\n",
       "      <th>opponent_shape_score</th>\n",
       "      <th>win_score</th>\n",
       "      <th>you_shape_score</th>\n",
       "      <th>total_score</th>\n",
       "    </tr>\n",
       "  </thead>\n",
       "  <tbody>\n",
       "    <tr>\n",
       "      <th>0</th>\n",
       "      <td>A</td>\n",
       "      <td>Y</td>\n",
       "      <td>1</td>\n",
       "      <td>3</td>\n",
       "      <td>1</td>\n",
       "      <td>4</td>\n",
       "    </tr>\n",
       "    <tr>\n",
       "      <th>1</th>\n",
       "      <td>B</td>\n",
       "      <td>Z</td>\n",
       "      <td>2</td>\n",
       "      <td>6</td>\n",
       "      <td>3</td>\n",
       "      <td>9</td>\n",
       "    </tr>\n",
       "    <tr>\n",
       "      <th>2</th>\n",
       "      <td>C</td>\n",
       "      <td>Y</td>\n",
       "      <td>3</td>\n",
       "      <td>3</td>\n",
       "      <td>3</td>\n",
       "      <td>6</td>\n",
       "    </tr>\n",
       "    <tr>\n",
       "      <th>3</th>\n",
       "      <td>B</td>\n",
       "      <td>Y</td>\n",
       "      <td>2</td>\n",
       "      <td>3</td>\n",
       "      <td>2</td>\n",
       "      <td>5</td>\n",
       "    </tr>\n",
       "    <tr>\n",
       "      <th>4</th>\n",
       "      <td>A</td>\n",
       "      <td>Y</td>\n",
       "      <td>1</td>\n",
       "      <td>3</td>\n",
       "      <td>1</td>\n",
       "      <td>4</td>\n",
       "    </tr>\n",
       "    <tr>\n",
       "      <th>...</th>\n",
       "      <td>...</td>\n",
       "      <td>...</td>\n",
       "      <td>...</td>\n",
       "      <td>...</td>\n",
       "      <td>...</td>\n",
       "      <td>...</td>\n",
       "    </tr>\n",
       "    <tr>\n",
       "      <th>2495</th>\n",
       "      <td>A</td>\n",
       "      <td>Y</td>\n",
       "      <td>1</td>\n",
       "      <td>3</td>\n",
       "      <td>1</td>\n",
       "      <td>4</td>\n",
       "    </tr>\n",
       "    <tr>\n",
       "      <th>2496</th>\n",
       "      <td>B</td>\n",
       "      <td>Y</td>\n",
       "      <td>2</td>\n",
       "      <td>3</td>\n",
       "      <td>2</td>\n",
       "      <td>5</td>\n",
       "    </tr>\n",
       "    <tr>\n",
       "      <th>2497</th>\n",
       "      <td>A</td>\n",
       "      <td>Z</td>\n",
       "      <td>1</td>\n",
       "      <td>6</td>\n",
       "      <td>2</td>\n",
       "      <td>8</td>\n",
       "    </tr>\n",
       "    <tr>\n",
       "      <th>2498</th>\n",
       "      <td>A</td>\n",
       "      <td>Y</td>\n",
       "      <td>1</td>\n",
       "      <td>3</td>\n",
       "      <td>1</td>\n",
       "      <td>4</td>\n",
       "    </tr>\n",
       "    <tr>\n",
       "      <th>2499</th>\n",
       "      <td>A</td>\n",
       "      <td>Y</td>\n",
       "      <td>1</td>\n",
       "      <td>3</td>\n",
       "      <td>1</td>\n",
       "      <td>4</td>\n",
       "    </tr>\n",
       "  </tbody>\n",
       "</table>\n",
       "<p>2500 rows × 6 columns</p>\n",
       "</div>"
      ],
      "text/plain": [
       "     opponent win_symbol opponent_shape_score win_score  you_shape_score  \\\n",
       "0           A          Y                    1         3                1   \n",
       "1           B          Z                    2         6                3   \n",
       "2           C          Y                    3         3                3   \n",
       "3           B          Y                    2         3                2   \n",
       "4           A          Y                    1         3                1   \n",
       "...       ...        ...                  ...       ...              ...   \n",
       "2495        A          Y                    1         3                1   \n",
       "2496        B          Y                    2         3                2   \n",
       "2497        A          Z                    1         6                2   \n",
       "2498        A          Y                    1         3                1   \n",
       "2499        A          Y                    1         3                1   \n",
       "\n",
       "      total_score  \n",
       "0               4  \n",
       "1               9  \n",
       "2               6  \n",
       "3               5  \n",
       "4               4  \n",
       "...           ...  \n",
       "2495            4  \n",
       "2496            5  \n",
       "2497            8  \n",
       "2498            4  \n",
       "2499            4  \n",
       "\n",
       "[2500 rows x 6 columns]"
      ]
     },
     "execution_count": 18,
     "metadata": {},
     "output_type": "execute_result"
    }
   ],
   "source": [
    "rps_df2['you_shape_score'] = pd.Series(you_shape_score, index = rps_df2.index)\n",
    "rps_df2['total_score'] = [int(x) + int(y) for x, y in zip(rps_df2.win_score, rps_df2.you_shape_score)]\n",
    "rps_df2"
   ]
  },
  {
   "cell_type": "code",
   "execution_count": 19,
   "id": "a2e29fda-b43f-47e2-8d00-be5bd5fb290f",
   "metadata": {},
   "outputs": [
    {
     "data": {
      "text/plain": [
       "14416"
      ]
     },
     "execution_count": 19,
     "metadata": {},
     "output_type": "execute_result"
    }
   ],
   "source": [
    "rps_df2.total_score.sum()"
   ]
  },
  {
   "cell_type": "markdown",
   "id": "ad0d8f32-64b8-43e6-bb75-0c8165e3d5eb",
   "metadata": {},
   "source": [
    "## ChatGPT Part 1\n",
    "\n",
    "```\n",
    "Can you write me code in python to solve this problem: [...] The input file is named 'input2' \n",
    "```"
   ]
  },
  {
   "cell_type": "code",
   "execution_count": 39,
   "id": "a80db243-e697-474e-874c-d5249d341c42",
   "metadata": {},
   "outputs": [
    {
     "name": "stdout",
     "output_type": "stream",
     "text": [
      "7266\n"
     ]
    }
   ],
   "source": [
    "# open the input file and read its contents\n",
    "with open('input2', 'r') as f:\n",
    "    data = f.read()\n",
    "\n",
    "# split the data into lines\n",
    "lines = data.split('\\n')\n",
    "\n",
    "# initialize the total score to 0\n",
    "total_score = 0\n",
    "\n",
    "# loop over the lines\n",
    "for line in lines:\n",
    "    \n",
    "    # Need to add the following four lines because I didn't tell the AI to deal with \n",
    "    # the lines that are line breaks\n",
    "    if line == '\\n': \n",
    "        break\n",
    "    if not line: \n",
    "        break\n",
    "    \n",
    "    # split the line into opponent's move and your move\n",
    "    opp_move, your_move = line.split(' ')\n",
    "\n",
    "    # if the opponent's move is A (Rock), your move is Y (Paper),\n",
    "    # and you win the round\n",
    "    if opp_move == 'A' and your_move == 'Y':\n",
    "        total_score += 2 + 6\n",
    "    \n",
    "    # if the opponent's move is B (Paper), your move is X (Rock),\n",
    "    # and you lose the round\n",
    "    elif opp_move == 'B' and your_move == 'X':\n",
    "        total_score += 1 + 0\n",
    "    \n",
    "    # if the opponent's move is C (Scissors), your move is Z (Scissors),\n",
    "    # and the round is a draw\n",
    "    elif opp_move == 'C' and your_move == 'Z':\n",
    "        total_score += 3 + 3\n",
    "\n",
    "# print the total score\n",
    "print(total_score)\n"
   ]
  },
  {
   "cell_type": "markdown",
   "id": "0c4a58bd-a364-4d7c-b2f6-affb2974ab0b",
   "metadata": {},
   "source": [
    "```\n",
    "You forgot to account for several conditions. If the opponent's move is A (Rock), then there are three options for your move. You accounted for the case where your move is Y (Paper), but what about X (Rock) and Z (Scissors)? Please fix this. \n",
    "```"
   ]
  },
  {
   "cell_type": "code",
   "execution_count": 43,
   "id": "ef3e9136-c5ad-4446-a1f6-f207ac126f96",
   "metadata": {},
   "outputs": [
    {
     "name": "stdout",
     "output_type": "stream",
     "text": [
      "15632\n"
     ]
    }
   ],
   "source": [
    "# open the input file and read its contents\n",
    "with open('input2', 'r') as f:\n",
    "    data = f.read()\n",
    "\n",
    "# split the data into lines\n",
    "lines = data.split('\\n')\n",
    "\n",
    "# initialize the total score to 0\n",
    "total_score = 0\n",
    "\n",
    "# loop over the lines\n",
    "for line in lines:\n",
    "    \n",
    "    # Need to add the following four lines because I didn't tell the AI to deal with \n",
    "    # the lines that are line breaks\n",
    "    if line == '\\n': \n",
    "        break\n",
    "    if not line: \n",
    "        break\n",
    "        \n",
    "    # split the line into opponent's move and your move\n",
    "    opp_move, your_move = line.split()\n",
    "\n",
    "    # if the opponent's move is A (Rock), your move is Y (Paper),\n",
    "    # and you win the round\n",
    "    if opp_move == 'A' and your_move == 'Y':\n",
    "        total_score += 2 + 6\n",
    "    \n",
    "    # if the opponent's move is B (Paper), your move is X (Rock),\n",
    "    # and you lose the round\n",
    "    elif opp_move == 'B' and your_move == 'X':\n",
    "        total_score += 1 + 0\n",
    "    \n",
    "    # if the opponent's move is C (Scissors), your move is Z (Scissors),\n",
    "    # and the round is a draw\n",
    "    elif opp_move == 'C' and your_move == 'Z':\n",
    "        total_score += 3 + 3\n",
    "\n",
    "    # if the opponent's move is A (Rock), your move is X (Rock),\n",
    "    # and the round is a draw\n",
    "    elif opp_move == 'A' and your_move == 'X':\n",
    "        total_score += 1 + 3\n",
    "    \n",
    "    # if the opponent's move is A (Rock), your move is Z (Scissors),\n",
    "    # and you lose the round\n",
    "    elif opp_move == 'A' and your_move == 'Z':\n",
    "        total_score += 3 + 0\n",
    "    \n",
    "    # if the opponent's move is B (Paper), your move is Y (Paper),\n",
    "    # and the round is a draw\n",
    "    elif opp_move == 'B' and your_move == 'Y':\n",
    "        total_score += 2 + 3\n",
    "    \n",
    "    # if the opponent's move is B (Paper), your move is Z (Scissors),\n",
    "    # and you win the round\n",
    "    elif opp_move == 'B' and your_move == 'Z':\n",
    "        total_score += 3 + 6\n",
    "    \n",
    "    # if the opponent's move is C (Scissors), your move is X (Rock),\n",
    "    # and you win the round\n",
    "    elif opp_move == 'C' and your_move == 'X':\n",
    "        total_score += 1 + 6\n",
    "    \n",
    "    # if the opponent's move is C (Scissors), your move is Y (Paper),\n",
    "    # and you lose the round\n",
    "    elif opp_move == 'C' and your_move == 'Y':\n",
    "        total_score += 2 + 0\n",
    "\n",
    "# print the total score\n",
    "print(total_score)\n"
   ]
  },
  {
   "cell_type": "markdown",
   "id": "1003bd17-09c5-4b5c-b8ec-b096df08bf84",
   "metadata": {},
   "source": [
    "## Chat GPT Part 2\n",
    "\n",
    "```\n",
    "Great! That's the solution! There's a second part to this problem, can you solve that too? \n",
    "```"
   ]
  },
  {
   "cell_type": "code",
   "execution_count": 46,
   "id": "e4da7024-9f17-4874-b93d-910c00e45c44",
   "metadata": {},
   "outputs": [
    {
     "name": "stdout",
     "output_type": "stream",
     "text": [
      "4357\n"
     ]
    }
   ],
   "source": [
    "# open the input file and read its contents\n",
    "with open('input2', 'r') as f:\n",
    "    data = f.read()\n",
    "\n",
    "# split the data into lines\n",
    "lines = data.split('\\n')\n",
    "\n",
    "# initialize the total score to 0\n",
    "total_score = 0\n",
    "\n",
    "# loop over the lines\n",
    "for line in lines:\n",
    "    \n",
    "    # Need to add the following four lines because I didn't tell the AI to deal with \n",
    "    # the lines that are line breaks\n",
    "    if line == '\\n': \n",
    "        break\n",
    "    if not line: \n",
    "        break\n",
    "    \n",
    "    # split the line into opponent's move and your move\n",
    "    opp_move, your_move = line.split()\n",
    "\n",
    "    # if the opponent's move is A (Rock), your move is Y (draw),\n",
    "    # and you choose Rock\n",
    "    if opp_move == 'A' and your_move == 'Y':\n",
    "        total_score += 1 + 3\n",
    "    \n",
    "    # if the opponent's move is B (Paper), your move is X (lose),\n",
    "    # and you choose Rock\n",
    "    elif opp_move == 'B' and your_move == 'X':\n",
    "        total_score += 1 + 0\n",
    "    \n",
    "    # if the opponent's move is C (Scissors), your move is Z (win),\n",
    "    # and you choose Rock\n",
    "    elif opp_move == 'C' and your_move == 'Z':\n",
    "        total_score += 1 + 6\n",
    "\n",
    "# print the total score\n",
    "print(total_score)\n"
   ]
  },
  {
   "cell_type": "markdown",
   "id": "306cfd81-05e6-4580-94a4-3471dc557e33",
   "metadata": {},
   "source": [
    "```\n",
    "Hey, you again forgot to account for six other conditions. \n",
    "```"
   ]
  },
  {
   "cell_type": "code",
   "execution_count": 47,
   "id": "c25aaefb-724a-4c94-a1d3-492fbb46c771",
   "metadata": {},
   "outputs": [
    {
     "name": "stdout",
     "output_type": "stream",
     "text": [
      "13842\n"
     ]
    }
   ],
   "source": [
    "# open the input file and read its contents\n",
    "with open('input2', 'r') as f:\n",
    "    data = f.read()\n",
    "\n",
    "# split the data into lines\n",
    "lines = data.split('\\n')\n",
    "\n",
    "# initialize the total score to 0\n",
    "total_score = 0\n",
    "\n",
    "# loop over the lines\n",
    "for line in lines:\n",
    "    \n",
    "    # Need to add the following four lines because I didn't tell the AI to deal with \n",
    "    # the lines that are line breaks\n",
    "    if line == '\\n': \n",
    "        break\n",
    "    if not line: \n",
    "        break\n",
    "    \n",
    "    # split the line into opponent's move and your move\n",
    "    opp_move, your_move = line.split()\n",
    "\n",
    "    # if the opponent's move is A (Rock), your move is Y (draw),\n",
    "    # and you choose Rock\n",
    "    if opp_move == 'A' and your_move == 'Y':\n",
    "        total_score += 1 + 3\n",
    "    \n",
    "    # if the opponent's move is B (Paper), your move is X (lose),\n",
    "    # and you choose Rock\n",
    "    elif opp_move == 'B' and your_move == 'X':\n",
    "        total_score += 1 + 0\n",
    "    \n",
    "    # if the opponent's move is C (Scissors), your move is Z (win),\n",
    "    # and you choose Rock\n",
    "    elif opp_move == 'C' and your_move == 'Z':\n",
    "        total_score += 1 + 6\n",
    "\n",
    "    # if the opponent's move is A (Rock), your move is X (lose),\n",
    "    # and you choose Scissors\n",
    "    elif opp_move == 'A' and your_move == 'X':\n",
    "        total_score += 3 + 0\n",
    "    \n",
    "    # if the opponent's move is A (Rock), your move is Z (win),\n",
    "    # and you choose Paper\n",
    "    elif opp_move == 'A' and your_move == 'Z':\n",
    "        total_score += 2 + 6\n",
    "    \n",
    "    # if the opponent's move is B (Paper), your move is Y (draw),\n",
    "    # and you choose Scissors\n",
    "    elif opp_move == 'B' and your_move == 'Y':\n",
    "        total_score += 3 + 3\n",
    "    \n",
    "    # if the opponent's move is B (Paper), your move is Z (win),\n",
    "    # and you choose Rock\n",
    "    elif opp_move == 'B' and your_move == 'Z':\n",
    "        total_score += 1 + 6\n",
    "    \n",
    "    # if the opponent's move is C (Scissors), your move is X (lose),\n",
    "    # and you choose Paper\n",
    "    elif opp_move == 'C' and your_move == 'X':\n",
    "        total_score += 2 + 0\n",
    "    \n",
    "    # if the opponent's move is C (Scissors), your move is Y (draw),\n",
    "    # and you choose Rock\n",
    "    elif opp_move == 'C' and your_move == 'Y':\n",
    "        total_score += 1 + 3\n",
    "\n",
    "# print the total score\n",
    "print(total_score)\n"
   ]
  },
  {
   "cell_type": "markdown",
   "id": "c37fbb75-5a7b-4f49-8edd-9c3bb9cc364a",
   "metadata": {},
   "source": [
    "```\n",
    "That's the correct number of conditions! I think the logic of the rock-paper-scissors is incorrect, however. An example of one incorrect case is in one of the middle `elif` clauses, where you say that the opponent's move is paper and the move is Y (draw), but you say that you should choose scissors. That's incorrect, for that case you should choose paper, to get a draw. Could you fix all the cases?\n",
    "\n",
    "In addition, could you write the code without comments so the answer is shorter? Thanks!\n",
    "```"
   ]
  },
  {
   "cell_type": "code",
   "execution_count": 48,
   "id": "7a427876-c9c3-4d77-9380-ba16812f1469",
   "metadata": {},
   "outputs": [
    {
     "name": "stdout",
     "output_type": "stream",
     "text": [
      "14192\n"
     ]
    }
   ],
   "source": [
    "# open the input file and read its contents\n",
    "with open('input2', 'r') as f:\n",
    "    data = f.read()\n",
    "\n",
    "# split the data into lines\n",
    "lines = data.split('\\n')\n",
    "\n",
    "# initialize the total score to 0\n",
    "total_score = 0\n",
    "\n",
    "# loop over the lines\n",
    "for line in lines:\n",
    "    \n",
    "    # Need to add the following four lines because I didn't tell the AI to deal with \n",
    "    # the lines that are line breaks\n",
    "    if line == '\\n': \n",
    "        break\n",
    "    if not line: \n",
    "        break\n",
    "        \n",
    "    # split the line into opponent's move and your move\n",
    "    opp_move, your_move = line.split()\n",
    "\n",
    "    # if the opponent's move is A (Rock)\n",
    "    if opp_move == 'A':\n",
    "        # if your move is Y (draw), you choose Rock\n",
    "        if your_move == 'Y':\n",
    "            total_score += 1 + 3\n",
    "        # if your move is X (lose), you choose Scissors\n",
    "        elif your_move == 'X':\n",
    "            total_score += 3 + 0\n",
    "        # if your move is Z (win), you choose Paper\n",
    "        elif your_move == 'Z':\n",
    "            total_score += 2 + 6\n",
    "\n",
    "    # if the opponent's move is B (Paper)\n",
    "    elif opp_move == 'B':\n",
    "        # if your move is Y (draw), you choose Scissors\n",
    "        if your_move == 'Y':\n",
    "            total_score += 3 + 3\n",
    "        # if your move is X (lose), you choose Rock\n",
    "        elif your_move == 'X':\n",
    "            total_score += 1 + 0\n",
    "        # if your move is Z (win), you choose Rock\n",
    "        elif your_move == 'Z':\n",
    "            total_score += 1 + 6\n",
    "\n",
    "    # if the opponent's move is C (Scissors)\n",
    "    elif opp_move == 'C':\n",
    "        # if your move is Y (draw), you choose Rock\n",
    "        if your_move == 'Y':\n",
    "            total_score += 1 + 3\n",
    "        # if your move is X (lose), you choose Paper\n",
    "        elif your_move == 'X':\n",
    "            total_score += 2 + 0\n",
    "        # if your move is Z (win), you choose Scissors\n",
    "        elif your_move == 'Z':\n",
    "            total_score += 3 + 6\n",
    "\n",
    "# print the total score\n",
    "print(total_score)"
   ]
  },
  {
   "cell_type": "markdown",
   "id": "586e5e50-815e-48fd-aa9f-81e799d441ef",
   "metadata": {},
   "source": [
    "Okay, this is still not quite right. I'm just going to fix it manually. Ugh, it took so many fixes. "
   ]
  },
  {
   "cell_type": "code",
   "execution_count": 51,
   "id": "0b5d69d0-6f0f-47a2-aa1b-866b33205950",
   "metadata": {},
   "outputs": [
    {
     "name": "stdout",
     "output_type": "stream",
     "text": [
      "14416\n"
     ]
    }
   ],
   "source": [
    "# open the input file and read its contents\n",
    "with open('input2', 'r') as f:\n",
    "    data = f.read()\n",
    "\n",
    "# split the data into lines\n",
    "lines = data.split('\\n')\n",
    "\n",
    "# initialize the total score to 0\n",
    "total_score = 0\n",
    "\n",
    "# loop over the lines\n",
    "for line in lines:\n",
    "    \n",
    "    # Need to add the following four lines because I didn't tell the AI to deal with \n",
    "    # the lines that are line breaks\n",
    "    if line == '\\n': \n",
    "        break\n",
    "    if not line: \n",
    "        break\n",
    "        \n",
    "    # split the line into opponent's move and your move\n",
    "    opp_move, your_move = line.split()\n",
    "\n",
    "    # if the opponent's move is A (Rock)\n",
    "    if opp_move == 'A':\n",
    "        # if your move is Y (draw), you choose Rock\n",
    "        if your_move == 'Y':\n",
    "            total_score += 1 + 3\n",
    "        # if your move is X (lose), you choose Scissors\n",
    "        elif your_move == 'X':\n",
    "            total_score += 3 + 0\n",
    "        # if your move is Z (win), you choose Paper\n",
    "        elif your_move == 'Z':\n",
    "            total_score += 2 + 6\n",
    "\n",
    "    # if the opponent's move is B (Paper)\n",
    "    elif opp_move == 'B':\n",
    "        # if your move is Y (draw), you choose Paper\n",
    "        if your_move == 'Y':\n",
    "            total_score += 2 + 3\n",
    "        # if your move is X (lose), you choose Rock\n",
    "        elif your_move == 'X':\n",
    "            total_score += 1 + 0\n",
    "        # if your move is Z (win), you choose Scissors\n",
    "        elif your_move == 'Z':\n",
    "            total_score += 3 + 6\n",
    "\n",
    "    # if the opponent's move is C (Scissors)\n",
    "    elif opp_move == 'C':\n",
    "        # if your move is Y (draw), you choose Scissors\n",
    "        if your_move == 'Y':\n",
    "            total_score += 3 + 3\n",
    "        # if your move is X (lose), you choose Paper\n",
    "        elif your_move == 'X':\n",
    "            total_score += 2 + 0\n",
    "        # if your move is Z (win), you choose Rock\n",
    "        elif your_move == 'Z':\n",
    "            total_score += 1 + 6\n",
    "\n",
    "# print the total score\n",
    "print(total_score)"
   ]
  },
  {
   "cell_type": "markdown",
   "id": "832279d7-c142-4d2e-98a4-948befb8ccc8",
   "metadata": {},
   "source": [
    "# --- Day 3: Rucksack Reorganization ---"
   ]
  },
  {
   "cell_type": "code",
   "execution_count": 20,
   "id": "54c10307-cefc-4873-92ee-5427e136a56c",
   "metadata": {},
   "outputs": [
    {
     "data": {
      "text/plain": [
       "['q', 'F', 'W', 'J', 'B']"
      ]
     },
     "execution_count": 20,
     "metadata": {},
     "output_type": "execute_result"
    }
   ],
   "source": [
    "f = open('input3', 'r')\n",
    "\n",
    "items = []\n",
    "\n",
    "while True: \n",
    "    line = f.readline()\n",
    "    if not line:\n",
    "        break\n",
    "    if line == '\\n':\n",
    "        break\n",
    "    h = int((len(line) - 1) / 2)\n",
    "    l1 = set(line[:h])\n",
    "    l2 = set(line[h:-1])\n",
    "    item = l1 & l2\n",
    "    items.append(str(item)[2])\n",
    "\n",
    "items[:5]"
   ]
  },
  {
   "cell_type": "code",
   "execution_count": 21,
   "id": "c260fa38-c128-456f-ad83-8742ca9344ce",
   "metadata": {},
   "outputs": [],
   "source": [
    "item_values = []\n",
    "for item in items: \n",
    "    value = ord(item) - 96\n",
    "    if value < 0: \n",
    "        value = value + 58\n",
    "    item_values.append(value)"
   ]
  },
  {
   "cell_type": "code",
   "execution_count": 22,
   "id": "a56b7fa8-aebe-444f-a455-fdc4912223fa",
   "metadata": {},
   "outputs": [
    {
     "data": {
      "text/plain": [
       "8240"
      ]
     },
     "execution_count": 22,
     "metadata": {},
     "output_type": "execute_result"
    }
   ],
   "source": [
    "sum(item_values)"
   ]
  },
  {
   "cell_type": "markdown",
   "id": "2fd87731-7d2a-4d88-a003-282b47eceb01",
   "metadata": {},
   "source": [
    "## --- Part Two ---"
   ]
  },
  {
   "cell_type": "code",
   "execution_count": 23,
   "id": "97366ac9-c76c-4b3e-b2c1-bb46e8fb48f2",
   "metadata": {},
   "outputs": [],
   "source": [
    "f = open('input3', 'r')\n",
    "\n",
    "counter = 1\n",
    "group = {}\n",
    "items = []\n",
    "\n",
    "while True: \n",
    "    line = f.readline()\n",
    "    if not line:\n",
    "        break\n",
    "    if line == '\\n':\n",
    "        break\n",
    "    \n",
    "    group[counter] = set(line[:-1])\n",
    "    counter += 1\n",
    "\n",
    "    if counter > 3: \n",
    "        items.append(str(group[1] & group[2] & group[3])[2])  \n",
    "        counter = 1\n",
    "        group = {}\n",
    "    "
   ]
  },
  {
   "cell_type": "code",
   "execution_count": 24,
   "id": "d19ac0b2-225a-4e18-b5ba-6404adaea2dc",
   "metadata": {},
   "outputs": [],
   "source": [
    "item_values = []\n",
    "for item in items: \n",
    "    value = ord(item) - 96\n",
    "    if value < 0: \n",
    "        value = value + 58\n",
    "    item_values.append(value)"
   ]
  },
  {
   "cell_type": "code",
   "execution_count": 25,
   "id": "c4970442-957e-4236-a389-79dd2050c14e",
   "metadata": {},
   "outputs": [
    {
     "data": {
      "text/plain": [
       "2587"
      ]
     },
     "execution_count": 25,
     "metadata": {},
     "output_type": "execute_result"
    }
   ],
   "source": [
    "sum(item_values)"
   ]
  },
  {
   "cell_type": "markdown",
   "id": "901f10f5-307a-46b4-8d6d-1ed04b3407a9",
   "metadata": {},
   "source": [
    "## ChatGPT Part 1\n",
    "\n",
    "```\n",
    "Can you solve this problem in python for me: \n",
    "```"
   ]
  },
  {
   "cell_type": "code",
   "execution_count": 53,
   "id": "0ab291ea-280d-4d0c-8ded-8d0a1a70758f",
   "metadata": {},
   "outputs": [
    {
     "name": "stdout",
     "output_type": "stream",
     "text": [
      "8240\n"
     ]
    }
   ],
   "source": [
    "# Open the input file\n",
    "with open('input3') as f:\n",
    "    # Read in the lines from the input file\n",
    "    lines = f.readlines()\n",
    "\n",
    "    # Initialize the sum of priorities to 0\n",
    "    sum_of_priorities = 0\n",
    "\n",
    "    # Iterate over each line\n",
    "    for line in lines:\n",
    "        # Split the line into two parts - the first half representing the first compartment and the second half representing the second compartment\n",
    "        first_compartment, second_compartment = line[:len(line) // 2], line[len(line) // 2:]\n",
    "\n",
    "        # Initialize two dictionaries to store the items in each compartment\n",
    "        first_compartment_items = {}\n",
    "        second_compartment_items = {}\n",
    "\n",
    "        # Iterate over the items in the first compartment and store them in the first compartment dictionary\n",
    "        for item in first_compartment:\n",
    "            if item not in first_compartment_items:\n",
    "                first_compartment_items[item] = 1\n",
    "            else:\n",
    "                first_compartment_items[item] += 1\n",
    "\n",
    "        # Iterate over the items in the second compartment and store them in the second compartment dictionary\n",
    "        for item in second_compartment:\n",
    "            if item not in second_compartment_items:\n",
    "                second_compartment_items[item] = 1\n",
    "            else:\n",
    "                second_compartment_items[item] += 1\n",
    "\n",
    "        # Iterate over the keys in the first compartment dictionary\n",
    "        for key in first_compartment_items.keys():\n",
    "            # Check if the key is in the second compartment dictionary\n",
    "            if key in second_compartment_items:\n",
    "                # If the key is in the second compartment dictionary, calculate the priority of the key\n",
    "                if ord(key) >= 97:\n",
    "                    priority = ord(key) - 96\n",
    "                else:\n",
    "                    priority = ord(key) - 38\n",
    "\n",
    "                # Add the priority of the key to the sum of priorities\n",
    "                sum_of_priorities += priority\n",
    "\n",
    "    # Print out the sum of priorities\n",
    "    print(sum_of_priorities)\n"
   ]
  },
  {
   "cell_type": "markdown",
   "id": "dfb85099-70ae-451a-8042-206c6c39f5bb",
   "metadata": {},
   "source": [
    "YES! Worked on the first try, amazing. It even wrote a test for me, and I think that's how it figured out what to do. It is extremely wordy. "
   ]
  },
  {
   "cell_type": "markdown",
   "id": "4ecb10f6-de0c-4ca2-bf48-4aee0f217939",
   "metadata": {},
   "source": [
    "## ChatGPT Part 2\n",
    "\n",
    "```\n",
    "Fantastic! There is a follow up problem, could you solve that too? Also, can you provide the answer without comments. \n",
    "```\n",
    "\n",
    "It was too long to print everything, so I asked a followup question. \n",
    "```\n",
    "Can you make it more efficient?\n",
    "```"
   ]
  },
  {
   "cell_type": "markdown",
   "id": "0cbdfaa6-4371-4b80-961e-f12d0333fe30",
   "metadata": {},
   "source": [
    "Wow, the responses to this suck and I'm not willing to fix it at the moment. "
   ]
  },
  {
   "cell_type": "markdown",
   "id": "76bc87a0-d7c7-4a09-8619-d47bfb95260d",
   "metadata": {},
   "source": [
    "# --- Day 4: Camp Cleanup ---"
   ]
  },
  {
   "cell_type": "code",
   "execution_count": 26,
   "id": "2519f71e-e406-4d4c-91fd-1cbe7ef9d66a",
   "metadata": {},
   "outputs": [
    {
     "name": "stdout",
     "output_type": "stream",
     "text": [
      "1000\n"
     ]
    }
   ],
   "source": [
    "f = open('input4', 'r')\n",
    "\n",
    "total_lines = 0\n",
    "containing_pairs = 0\n",
    "\n",
    "while True: \n",
    "    line = f.readline()\n",
    "    if not line:\n",
    "        break\n",
    "    if line == '\\n':\n",
    "        break\n",
    "    \n",
    "    tkns = [[int(y) for y in x.split('-')] for x in line[:-1].split(',')]\n",
    "    if tkns[0][0] >= tkns[1][0] and tkns[0][1] <= tkns[1][1]: \n",
    "        containing_pairs += 1\n",
    "    elif tkns[0][0] <= tkns[1][0] and tkns[0][1] >= tkns[1][1]: \n",
    "        containing_pairs += 1\n",
    "    else: \n",
    "        pass\n",
    "    total_lines += 1\n",
    "\n",
    "print(total_lines)"
   ]
  },
  {
   "cell_type": "code",
   "execution_count": 27,
   "id": "cd45a521-f2b8-4789-9f1d-e91dc26ed3af",
   "metadata": {},
   "outputs": [
    {
     "data": {
      "text/plain": [
       "466"
      ]
     },
     "execution_count": 27,
     "metadata": {},
     "output_type": "execute_result"
    }
   ],
   "source": [
    "containing_pairs"
   ]
  },
  {
   "cell_type": "markdown",
   "id": "002d7d53-883d-447b-8f8d-051379705891",
   "metadata": {},
   "source": [
    "## --- Part Two ---"
   ]
  },
  {
   "cell_type": "code",
   "execution_count": 28,
   "id": "d37da224-e0d0-4989-b21b-6b6cef5d3199",
   "metadata": {},
   "outputs": [
    {
     "name": "stdout",
     "output_type": "stream",
     "text": [
      "1000\n"
     ]
    }
   ],
   "source": [
    "f = open('input4', 'r')\n",
    "\n",
    "total_lines = 0\n",
    "\n",
    "n_overlap = 0\n",
    "overlapping_pairs = []\n",
    "\n",
    "n_nonoverlap = 0\n",
    "nonoverlapping_pairs = []\n",
    "\n",
    "while True: \n",
    "    line = f.readline()\n",
    "    if not line:\n",
    "        break\n",
    "    if line == '\\n':\n",
    "        break\n",
    "    \n",
    "    tkns = [[int(y) for y in x.split('-')] for x in line[:-1].split(',')]\n",
    "    \n",
    "    if tkns[0][0] >= tkns[1][0] and tkns[0][1] <= tkns[1][1]: \n",
    "            n_overlap += 1\n",
    "    elif tkns[0][0] <= tkns[1][0] and tkns[0][1] >= tkns[1][1]: \n",
    "            n_overlap += 1\n",
    "    elif tkns[0][0] >= tkns[1][0]: \n",
    "        if tkns[0][0] <= tkns[1][1]: \n",
    "            n_overlap += 1\n",
    "    elif tkns[0][1] <= tkns[1][1]: \n",
    "        if tkns[0][1] >= tkns[1][0]: \n",
    "            n_overlap += 1\n",
    "        \n",
    "    total_lines += 1\n",
    "\n",
    "print(total_lines)"
   ]
  },
  {
   "cell_type": "code",
   "execution_count": 29,
   "id": "f20c162e-0d80-4222-a612-9bd2eebe18fa",
   "metadata": {},
   "outputs": [
    {
     "data": {
      "text/plain": [
       "865"
      ]
     },
     "execution_count": 29,
     "metadata": {},
     "output_type": "execute_result"
    }
   ],
   "source": [
    "n_overlap"
   ]
  },
  {
   "cell_type": "code",
   "execution_count": null,
   "id": "0f63d49e-0d25-4077-84f4-15001dc97d51",
   "metadata": {},
   "outputs": [],
   "source": []
  }
 ],
 "metadata": {
  "kernelspec": {
   "display_name": "Python 3 (ipykernel)",
   "language": "python",
   "name": "python3"
  },
  "language_info": {
   "codemirror_mode": {
    "name": "ipython",
    "version": 3
   },
   "file_extension": ".py",
   "mimetype": "text/x-python",
   "name": "python",
   "nbconvert_exporter": "python",
   "pygments_lexer": "ipython3",
   "version": "3.10.4"
  }
 },
 "nbformat": 4,
 "nbformat_minor": 5
}
