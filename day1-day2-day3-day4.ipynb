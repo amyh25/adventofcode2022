{
 "cells": [
  {
   "cell_type": "markdown",
   "id": "3eba431e-04a6-4b3c-b4a8-fdeda8ca30b0",
   "metadata": {},
   "source": [
    "# Advent of Code Day 1 through ...\n",
    "\n",
    "Hello! This notebook is for Dec 3 and Dec 4; I'm currently in DC for the weekend. Since I was busy with applications for the first couple of days in December, I didn't have time to complete the first couple days so I'm catching up now. Not competing at all, just trying to see how far I can get!"
   ]
  },
  {
   "cell_type": "code",
   "execution_count": 66,
   "id": "c26552d7-1b2a-4ca3-b15d-0c43d557e4e3",
   "metadata": {},
   "outputs": [],
   "source": [
    "import numpy as np\n",
    "import pandas as pd"
   ]
  },
  {
   "cell_type": "markdown",
   "id": "547e6d31-a221-4932-8960-334145bf044c",
   "metadata": {},
   "source": [
    "# --- Day 1: Calorie Counting ---\n",
    "In case the Elves get hungry and need extra snacks, they need to know which Elf to ask: they'd like to know how many Calories are being carried by the Elf carrying the most Calories. In the example above, this is 24000 (carried by the fourth Elf)."
   ]
  },
  {
   "cell_type": "code",
   "execution_count": 12,
   "id": "6efd2805-be71-4144-aee3-0e50a9964570",
   "metadata": {},
   "outputs": [],
   "source": [
    "f = open('input1', 'r')\n",
    "\n",
    "max_calories = 0\n",
    "current_elf = 0\n",
    "\n",
    "while True: \n",
    "    line = f.readline()\n",
    "    if not line:\n",
    "        break\n",
    "    if line == '\\n':\n",
    "        if current_elf > max_calories: \n",
    "            max_calories = current_elf\n",
    "        current_elf = 0\n",
    "    else: \n",
    "        current_elf += int(line[:-1])"
   ]
  },
  {
   "cell_type": "code",
   "execution_count": 14,
   "id": "8ab10c28-9016-4378-84b8-9a239f8e03c8",
   "metadata": {},
   "outputs": [
    {
     "data": {
      "text/plain": [
       "68292"
      ]
     },
     "execution_count": 14,
     "metadata": {},
     "output_type": "execute_result"
    }
   ],
   "source": [
    "max_calories"
   ]
  },
  {
   "cell_type": "markdown",
   "id": "7edb2367-5f57-4e5f-8df6-079b973b93dc",
   "metadata": {},
   "source": [
    "## --- Part Two ---\n",
    "Find the top three Elves carrying the most Calories. How many Calories are those Elves carrying in total?"
   ]
  },
  {
   "cell_type": "code",
   "execution_count": 15,
   "id": "48889ca4-b902-4164-8c47-8a0fe8eeb827",
   "metadata": {},
   "outputs": [],
   "source": [
    "f = open('input1', 'r')\n",
    "\n",
    "max_calories = 0\n",
    "max2_calories = 0\n",
    "max3_calories = 0\n",
    "current_elf = 0\n",
    "\n",
    "while True: \n",
    "    line = f.readline()\n",
    "    if not line:\n",
    "        break\n",
    "    if line == '\\n':\n",
    "        if current_elf > max_calories:\n",
    "            max3_calories = max2_calories\n",
    "            max2_calories = max_calories\n",
    "            max_calories = current_elf\n",
    "        elif current_elf > max2_calories: \n",
    "            max3_calories = max2_calories\n",
    "            max2_calories = current_elf\n",
    "        elif current_elf > max3_calories: \n",
    "            max3_calories = current_elf\n",
    "        current_elf = 0\n",
    "    else: \n",
    "        current_elf += int(line[:-1])"
   ]
  },
  {
   "cell_type": "code",
   "execution_count": 16,
   "id": "0ffa6fd1-605b-4e9a-85c5-913d01d76135",
   "metadata": {},
   "outputs": [
    {
     "data": {
      "text/plain": [
       "68292"
      ]
     },
     "execution_count": 16,
     "metadata": {},
     "output_type": "execute_result"
    }
   ],
   "source": [
    "max_calories"
   ]
  },
  {
   "cell_type": "code",
   "execution_count": 17,
   "id": "73fb29b0-bd36-45bb-9cef-69e43d47ef7c",
   "metadata": {},
   "outputs": [
    {
     "data": {
      "text/plain": [
       "68056"
      ]
     },
     "execution_count": 17,
     "metadata": {},
     "output_type": "execute_result"
    }
   ],
   "source": [
    "max2_calories"
   ]
  },
  {
   "cell_type": "code",
   "execution_count": 18,
   "id": "3a3d08dc-bbf7-42cd-b3f6-2d638d255086",
   "metadata": {},
   "outputs": [
    {
     "data": {
      "text/plain": [
       "66855"
      ]
     },
     "execution_count": 18,
     "metadata": {},
     "output_type": "execute_result"
    }
   ],
   "source": [
    "max3_calories"
   ]
  },
  {
   "cell_type": "code",
   "execution_count": 19,
   "id": "2fdc7574-aa56-4355-8fb4-3f02b1ae068c",
   "metadata": {},
   "outputs": [
    {
     "data": {
      "text/plain": [
       "203203"
      ]
     },
     "execution_count": 19,
     "metadata": {},
     "output_type": "execute_result"
    }
   ],
   "source": [
    "max_calories + max2_calories + max3_calories"
   ]
  },
  {
   "cell_type": "markdown",
   "id": "3eed291f-d12c-4b1a-9d48-df81853599ec",
   "metadata": {},
   "source": [
    "# --- Day 2: Rock Paper Scissors ---"
   ]
  },
  {
   "cell_type": "code",
   "execution_count": 24,
   "id": "e9c9e44b-ccc4-4649-a9b8-c8d465ea6325",
   "metadata": {},
   "outputs": [],
   "source": [
    "rps_df = pd.read_csv('input2', sep = ' ', header = None)"
   ]
  },
  {
   "cell_type": "code",
   "execution_count": 38,
   "id": "a4441764-152b-4c1a-ae69-3761d75db36e",
   "metadata": {},
   "outputs": [
    {
     "data": {
      "text/html": [
       "<div>\n",
       "<style scoped>\n",
       "    .dataframe tbody tr th:only-of-type {\n",
       "        vertical-align: middle;\n",
       "    }\n",
       "\n",
       "    .dataframe tbody tr th {\n",
       "        vertical-align: top;\n",
       "    }\n",
       "\n",
       "    .dataframe thead th {\n",
       "        text-align: right;\n",
       "    }\n",
       "</style>\n",
       "<table border=\"1\" class=\"dataframe\">\n",
       "  <thead>\n",
       "    <tr style=\"text-align: right;\">\n",
       "      <th></th>\n",
       "      <th>opponent</th>\n",
       "      <th>you</th>\n",
       "      <th>your_shape_score</th>\n",
       "      <th>opponent_shape_score</th>\n",
       "    </tr>\n",
       "  </thead>\n",
       "  <tbody>\n",
       "    <tr>\n",
       "      <th>0</th>\n",
       "      <td>A</td>\n",
       "      <td>Y</td>\n",
       "      <td>2</td>\n",
       "      <td>1</td>\n",
       "    </tr>\n",
       "    <tr>\n",
       "      <th>1</th>\n",
       "      <td>B</td>\n",
       "      <td>Z</td>\n",
       "      <td>3</td>\n",
       "      <td>2</td>\n",
       "    </tr>\n",
       "    <tr>\n",
       "      <th>2</th>\n",
       "      <td>C</td>\n",
       "      <td>Y</td>\n",
       "      <td>2</td>\n",
       "      <td>3</td>\n",
       "    </tr>\n",
       "    <tr>\n",
       "      <th>3</th>\n",
       "      <td>B</td>\n",
       "      <td>Y</td>\n",
       "      <td>2</td>\n",
       "      <td>2</td>\n",
       "    </tr>\n",
       "    <tr>\n",
       "      <th>4</th>\n",
       "      <td>A</td>\n",
       "      <td>Y</td>\n",
       "      <td>2</td>\n",
       "      <td>1</td>\n",
       "    </tr>\n",
       "    <tr>\n",
       "      <th>...</th>\n",
       "      <td>...</td>\n",
       "      <td>...</td>\n",
       "      <td>...</td>\n",
       "      <td>...</td>\n",
       "    </tr>\n",
       "    <tr>\n",
       "      <th>2495</th>\n",
       "      <td>A</td>\n",
       "      <td>Y</td>\n",
       "      <td>2</td>\n",
       "      <td>1</td>\n",
       "    </tr>\n",
       "    <tr>\n",
       "      <th>2496</th>\n",
       "      <td>B</td>\n",
       "      <td>Y</td>\n",
       "      <td>2</td>\n",
       "      <td>2</td>\n",
       "    </tr>\n",
       "    <tr>\n",
       "      <th>2497</th>\n",
       "      <td>A</td>\n",
       "      <td>Z</td>\n",
       "      <td>3</td>\n",
       "      <td>1</td>\n",
       "    </tr>\n",
       "    <tr>\n",
       "      <th>2498</th>\n",
       "      <td>A</td>\n",
       "      <td>Y</td>\n",
       "      <td>2</td>\n",
       "      <td>1</td>\n",
       "    </tr>\n",
       "    <tr>\n",
       "      <th>2499</th>\n",
       "      <td>A</td>\n",
       "      <td>Y</td>\n",
       "      <td>2</td>\n",
       "      <td>1</td>\n",
       "    </tr>\n",
       "  </tbody>\n",
       "</table>\n",
       "<p>2500 rows × 4 columns</p>\n",
       "</div>"
      ],
      "text/plain": [
       "     opponent you your_shape_score opponent_shape_score\n",
       "0           A   Y                2                    1\n",
       "1           B   Z                3                    2\n",
       "2           C   Y                2                    3\n",
       "3           B   Y                2                    2\n",
       "4           A   Y                2                    1\n",
       "...       ...  ..              ...                  ...\n",
       "2495        A   Y                2                    1\n",
       "2496        B   Y                2                    2\n",
       "2497        A   Z                3                    1\n",
       "2498        A   Y                2                    1\n",
       "2499        A   Y                2                    1\n",
       "\n",
       "[2500 rows x 4 columns]"
      ]
     },
     "execution_count": 38,
     "metadata": {},
     "output_type": "execute_result"
    }
   ],
   "source": [
    "rps_df_shape_score = rps_df.rename({0: 'opponent', 1: 'you'}, axis = 1)\n",
    "rps_df_shape_score['your_shape_score'] = np.select(\n",
    "    [\n",
    "        rps_df_shape_score['you'] == 'X', \n",
    "        rps_df_shape_score['you'] == 'Y', \n",
    "        rps_df_shape_score['you'] == 'Z'\n",
    "    ], \n",
    "    [\n",
    "        1, \n",
    "        2, \n",
    "        3\n",
    "    ], \n",
    "    default='Unknown'\n",
    ")\n",
    "rps_df_shape_score['opponent_shape_score'] = np.select(\n",
    "    [\n",
    "        rps_df_shape_score['opponent'] == 'A', \n",
    "        rps_df_shape_score['opponent'] == 'B', \n",
    "        rps_df_shape_score['opponent'] == 'C'\n",
    "    ], \n",
    "    [\n",
    "        1, \n",
    "        2, \n",
    "        3\n",
    "    ], \n",
    "    default='Unknown'\n",
    ")\n",
    "rps_df_shape_score"
   ]
  },
  {
   "cell_type": "code",
   "execution_count": 57,
   "id": "e47666c3-3907-4431-bf0d-a66aa32306e2",
   "metadata": {},
   "outputs": [
    {
     "data": {
      "text/html": [
       "<div>\n",
       "<style scoped>\n",
       "    .dataframe tbody tr th:only-of-type {\n",
       "        vertical-align: middle;\n",
       "    }\n",
       "\n",
       "    .dataframe tbody tr th {\n",
       "        vertical-align: top;\n",
       "    }\n",
       "\n",
       "    .dataframe thead th {\n",
       "        text-align: right;\n",
       "    }\n",
       "</style>\n",
       "<table border=\"1\" class=\"dataframe\">\n",
       "  <thead>\n",
       "    <tr style=\"text-align: right;\">\n",
       "      <th></th>\n",
       "      <th>opponent</th>\n",
       "      <th>you</th>\n",
       "      <th>your_shape_score</th>\n",
       "      <th>opponent_shape_score</th>\n",
       "      <th>win_diff</th>\n",
       "    </tr>\n",
       "  </thead>\n",
       "  <tbody>\n",
       "    <tr>\n",
       "      <th>0</th>\n",
       "      <td>A</td>\n",
       "      <td>Y</td>\n",
       "      <td>2</td>\n",
       "      <td>1</td>\n",
       "      <td>1</td>\n",
       "    </tr>\n",
       "    <tr>\n",
       "      <th>1</th>\n",
       "      <td>B</td>\n",
       "      <td>Z</td>\n",
       "      <td>3</td>\n",
       "      <td>2</td>\n",
       "      <td>1</td>\n",
       "    </tr>\n",
       "    <tr>\n",
       "      <th>2</th>\n",
       "      <td>C</td>\n",
       "      <td>Y</td>\n",
       "      <td>2</td>\n",
       "      <td>3</td>\n",
       "      <td>-1</td>\n",
       "    </tr>\n",
       "    <tr>\n",
       "      <th>3</th>\n",
       "      <td>B</td>\n",
       "      <td>Y</td>\n",
       "      <td>2</td>\n",
       "      <td>2</td>\n",
       "      <td>0</td>\n",
       "    </tr>\n",
       "    <tr>\n",
       "      <th>4</th>\n",
       "      <td>A</td>\n",
       "      <td>Y</td>\n",
       "      <td>2</td>\n",
       "      <td>1</td>\n",
       "      <td>1</td>\n",
       "    </tr>\n",
       "    <tr>\n",
       "      <th>...</th>\n",
       "      <td>...</td>\n",
       "      <td>...</td>\n",
       "      <td>...</td>\n",
       "      <td>...</td>\n",
       "      <td>...</td>\n",
       "    </tr>\n",
       "    <tr>\n",
       "      <th>2495</th>\n",
       "      <td>A</td>\n",
       "      <td>Y</td>\n",
       "      <td>2</td>\n",
       "      <td>1</td>\n",
       "      <td>1</td>\n",
       "    </tr>\n",
       "    <tr>\n",
       "      <th>2496</th>\n",
       "      <td>B</td>\n",
       "      <td>Y</td>\n",
       "      <td>2</td>\n",
       "      <td>2</td>\n",
       "      <td>0</td>\n",
       "    </tr>\n",
       "    <tr>\n",
       "      <th>2497</th>\n",
       "      <td>A</td>\n",
       "      <td>Z</td>\n",
       "      <td>3</td>\n",
       "      <td>1</td>\n",
       "      <td>2</td>\n",
       "    </tr>\n",
       "    <tr>\n",
       "      <th>2498</th>\n",
       "      <td>A</td>\n",
       "      <td>Y</td>\n",
       "      <td>2</td>\n",
       "      <td>1</td>\n",
       "      <td>1</td>\n",
       "    </tr>\n",
       "    <tr>\n",
       "      <th>2499</th>\n",
       "      <td>A</td>\n",
       "      <td>Y</td>\n",
       "      <td>2</td>\n",
       "      <td>1</td>\n",
       "      <td>1</td>\n",
       "    </tr>\n",
       "  </tbody>\n",
       "</table>\n",
       "<p>2500 rows × 5 columns</p>\n",
       "</div>"
      ],
      "text/plain": [
       "     opponent you your_shape_score opponent_shape_score  win_diff\n",
       "0           A   Y                2                    1         1\n",
       "1           B   Z                3                    2         1\n",
       "2           C   Y                2                    3        -1\n",
       "3           B   Y                2                    2         0\n",
       "4           A   Y                2                    1         1\n",
       "...       ...  ..              ...                  ...       ...\n",
       "2495        A   Y                2                    1         1\n",
       "2496        B   Y                2                    2         0\n",
       "2497        A   Z                3                    1         2\n",
       "2498        A   Y                2                    1         1\n",
       "2499        A   Y                2                    1         1\n",
       "\n",
       "[2500 rows x 5 columns]"
      ]
     },
     "execution_count": 57,
     "metadata": {},
     "output_type": "execute_result"
    }
   ],
   "source": [
    "zipped = zip(rps_df_shape_score['your_shape_score'], rps_df_shape_score['opponent_shape_score'])\n",
    "rps_df_win_diff = rps_df_shape_score\n",
    "rps_df_win_diff['win_diff'] = pd.Series([int(x) - int(y) for x, y in zipped], index = rps_df_shape_score.index)\n",
    "rps_df_win_diff"
   ]
  },
  {
   "cell_type": "code",
   "execution_count": 62,
   "id": "a85d3008-4a7b-4d2d-9239-ef65ec08e70f",
   "metadata": {},
   "outputs": [
    {
     "data": {
      "text/html": [
       "<div>\n",
       "<style scoped>\n",
       "    .dataframe tbody tr th:only-of-type {\n",
       "        vertical-align: middle;\n",
       "    }\n",
       "\n",
       "    .dataframe tbody tr th {\n",
       "        vertical-align: top;\n",
       "    }\n",
       "\n",
       "    .dataframe thead th {\n",
       "        text-align: right;\n",
       "    }\n",
       "</style>\n",
       "<table border=\"1\" class=\"dataframe\">\n",
       "  <thead>\n",
       "    <tr style=\"text-align: right;\">\n",
       "      <th></th>\n",
       "      <th>opponent</th>\n",
       "      <th>you</th>\n",
       "      <th>your_shape_score</th>\n",
       "      <th>opponent_shape_score</th>\n",
       "      <th>win_diff</th>\n",
       "      <th>win_score</th>\n",
       "      <th>total_score</th>\n",
       "    </tr>\n",
       "  </thead>\n",
       "  <tbody>\n",
       "    <tr>\n",
       "      <th>0</th>\n",
       "      <td>A</td>\n",
       "      <td>Y</td>\n",
       "      <td>2</td>\n",
       "      <td>1</td>\n",
       "      <td>1</td>\n",
       "      <td>6</td>\n",
       "      <td>8</td>\n",
       "    </tr>\n",
       "    <tr>\n",
       "      <th>1</th>\n",
       "      <td>B</td>\n",
       "      <td>Z</td>\n",
       "      <td>3</td>\n",
       "      <td>2</td>\n",
       "      <td>1</td>\n",
       "      <td>6</td>\n",
       "      <td>9</td>\n",
       "    </tr>\n",
       "    <tr>\n",
       "      <th>2</th>\n",
       "      <td>C</td>\n",
       "      <td>Y</td>\n",
       "      <td>2</td>\n",
       "      <td>3</td>\n",
       "      <td>-1</td>\n",
       "      <td>0</td>\n",
       "      <td>2</td>\n",
       "    </tr>\n",
       "    <tr>\n",
       "      <th>3</th>\n",
       "      <td>B</td>\n",
       "      <td>Y</td>\n",
       "      <td>2</td>\n",
       "      <td>2</td>\n",
       "      <td>0</td>\n",
       "      <td>3</td>\n",
       "      <td>5</td>\n",
       "    </tr>\n",
       "    <tr>\n",
       "      <th>4</th>\n",
       "      <td>A</td>\n",
       "      <td>Y</td>\n",
       "      <td>2</td>\n",
       "      <td>1</td>\n",
       "      <td>1</td>\n",
       "      <td>6</td>\n",
       "      <td>8</td>\n",
       "    </tr>\n",
       "    <tr>\n",
       "      <th>...</th>\n",
       "      <td>...</td>\n",
       "      <td>...</td>\n",
       "      <td>...</td>\n",
       "      <td>...</td>\n",
       "      <td>...</td>\n",
       "      <td>...</td>\n",
       "      <td>...</td>\n",
       "    </tr>\n",
       "    <tr>\n",
       "      <th>2495</th>\n",
       "      <td>A</td>\n",
       "      <td>Y</td>\n",
       "      <td>2</td>\n",
       "      <td>1</td>\n",
       "      <td>1</td>\n",
       "      <td>6</td>\n",
       "      <td>8</td>\n",
       "    </tr>\n",
       "    <tr>\n",
       "      <th>2496</th>\n",
       "      <td>B</td>\n",
       "      <td>Y</td>\n",
       "      <td>2</td>\n",
       "      <td>2</td>\n",
       "      <td>0</td>\n",
       "      <td>3</td>\n",
       "      <td>5</td>\n",
       "    </tr>\n",
       "    <tr>\n",
       "      <th>2497</th>\n",
       "      <td>A</td>\n",
       "      <td>Z</td>\n",
       "      <td>3</td>\n",
       "      <td>1</td>\n",
       "      <td>2</td>\n",
       "      <td>0</td>\n",
       "      <td>3</td>\n",
       "    </tr>\n",
       "    <tr>\n",
       "      <th>2498</th>\n",
       "      <td>A</td>\n",
       "      <td>Y</td>\n",
       "      <td>2</td>\n",
       "      <td>1</td>\n",
       "      <td>1</td>\n",
       "      <td>6</td>\n",
       "      <td>8</td>\n",
       "    </tr>\n",
       "    <tr>\n",
       "      <th>2499</th>\n",
       "      <td>A</td>\n",
       "      <td>Y</td>\n",
       "      <td>2</td>\n",
       "      <td>1</td>\n",
       "      <td>1</td>\n",
       "      <td>6</td>\n",
       "      <td>8</td>\n",
       "    </tr>\n",
       "  </tbody>\n",
       "</table>\n",
       "<p>2500 rows × 7 columns</p>\n",
       "</div>"
      ],
      "text/plain": [
       "     opponent you your_shape_score opponent_shape_score  win_diff win_score  \\\n",
       "0           A   Y                2                    1         1         6   \n",
       "1           B   Z                3                    2         1         6   \n",
       "2           C   Y                2                    3        -1         0   \n",
       "3           B   Y                2                    2         0         3   \n",
       "4           A   Y                2                    1         1         6   \n",
       "...       ...  ..              ...                  ...       ...       ...   \n",
       "2495        A   Y                2                    1         1         6   \n",
       "2496        B   Y                2                    2         0         3   \n",
       "2497        A   Z                3                    1         2         0   \n",
       "2498        A   Y                2                    1         1         6   \n",
       "2499        A   Y                2                    1         1         6   \n",
       "\n",
       "      total_score  \n",
       "0               8  \n",
       "1               9  \n",
       "2               2  \n",
       "3               5  \n",
       "4               8  \n",
       "...           ...  \n",
       "2495            8  \n",
       "2496            5  \n",
       "2497            3  \n",
       "2498            8  \n",
       "2499            8  \n",
       "\n",
       "[2500 rows x 7 columns]"
      ]
     },
     "execution_count": 62,
     "metadata": {},
     "output_type": "execute_result"
    }
   ],
   "source": [
    "rps_df_win_score = rps_df_win_diff.rename({0: 'opponent', 1: 'you'}, axis = 1)\n",
    "rps_df_win_score['win_score'] = np.select(\n",
    "    [\n",
    "        rps_df_win_score['win_diff'] == 1, \n",
    "        rps_df_win_score['win_diff'] == -2, \n",
    "        rps_df_win_score['win_diff'] == 0, \n",
    "        rps_df_win_score['win_diff'] == -1,\n",
    "        rps_df_win_score['win_diff'] == 2\n",
    "    ], \n",
    "    [\n",
    "        6, \n",
    "        6, \n",
    "        3, \n",
    "        0, \n",
    "        0\n",
    "    ], \n",
    "    default='Unknown'\n",
    ")\n",
    "zipped = zip(rps_df_win_score['your_shape_score'], rps_df_win_score['win_score'])\n",
    "rps_df_win_score['total_score'] = pd.Series([int(x) + int(y) for x, y in zipped], index = rps_df_win_score.index)\n",
    "rps_df_win_score"
   ]
  },
  {
   "cell_type": "code",
   "execution_count": 65,
   "id": "0f1603ed-56f7-4f34-87ba-e6c58163e1d7",
   "metadata": {},
   "outputs": [
    {
     "data": {
      "text/plain": [
       "15632"
      ]
     },
     "execution_count": 65,
     "metadata": {},
     "output_type": "execute_result"
    }
   ],
   "source": [
    "rps_df_win_score.total_score.sum()"
   ]
  },
  {
   "cell_type": "markdown",
   "id": "93a9d844-27a0-45b5-bef1-53c91170fa94",
   "metadata": {},
   "source": [
    "## --- Part Two ---"
   ]
  },
  {
   "cell_type": "code",
   "execution_count": 78,
   "id": "6fc86027-a996-4346-bbde-856eef204b86",
   "metadata": {},
   "outputs": [
    {
     "data": {
      "text/html": [
       "<div>\n",
       "<style scoped>\n",
       "    .dataframe tbody tr th:only-of-type {\n",
       "        vertical-align: middle;\n",
       "    }\n",
       "\n",
       "    .dataframe tbody tr th {\n",
       "        vertical-align: top;\n",
       "    }\n",
       "\n",
       "    .dataframe thead th {\n",
       "        text-align: right;\n",
       "    }\n",
       "</style>\n",
       "<table border=\"1\" class=\"dataframe\">\n",
       "  <thead>\n",
       "    <tr style=\"text-align: right;\">\n",
       "      <th></th>\n",
       "      <th>opponent</th>\n",
       "      <th>win_symbol</th>\n",
       "      <th>opponent_shape_score</th>\n",
       "      <th>win_score</th>\n",
       "    </tr>\n",
       "  </thead>\n",
       "  <tbody>\n",
       "    <tr>\n",
       "      <th>0</th>\n",
       "      <td>A</td>\n",
       "      <td>Y</td>\n",
       "      <td>1</td>\n",
       "      <td>3</td>\n",
       "    </tr>\n",
       "    <tr>\n",
       "      <th>1</th>\n",
       "      <td>B</td>\n",
       "      <td>Z</td>\n",
       "      <td>2</td>\n",
       "      <td>6</td>\n",
       "    </tr>\n",
       "    <tr>\n",
       "      <th>2</th>\n",
       "      <td>C</td>\n",
       "      <td>Y</td>\n",
       "      <td>3</td>\n",
       "      <td>3</td>\n",
       "    </tr>\n",
       "    <tr>\n",
       "      <th>3</th>\n",
       "      <td>B</td>\n",
       "      <td>Y</td>\n",
       "      <td>2</td>\n",
       "      <td>3</td>\n",
       "    </tr>\n",
       "    <tr>\n",
       "      <th>4</th>\n",
       "      <td>A</td>\n",
       "      <td>Y</td>\n",
       "      <td>1</td>\n",
       "      <td>3</td>\n",
       "    </tr>\n",
       "    <tr>\n",
       "      <th>...</th>\n",
       "      <td>...</td>\n",
       "      <td>...</td>\n",
       "      <td>...</td>\n",
       "      <td>...</td>\n",
       "    </tr>\n",
       "    <tr>\n",
       "      <th>2495</th>\n",
       "      <td>A</td>\n",
       "      <td>Y</td>\n",
       "      <td>1</td>\n",
       "      <td>3</td>\n",
       "    </tr>\n",
       "    <tr>\n",
       "      <th>2496</th>\n",
       "      <td>B</td>\n",
       "      <td>Y</td>\n",
       "      <td>2</td>\n",
       "      <td>3</td>\n",
       "    </tr>\n",
       "    <tr>\n",
       "      <th>2497</th>\n",
       "      <td>A</td>\n",
       "      <td>Z</td>\n",
       "      <td>1</td>\n",
       "      <td>6</td>\n",
       "    </tr>\n",
       "    <tr>\n",
       "      <th>2498</th>\n",
       "      <td>A</td>\n",
       "      <td>Y</td>\n",
       "      <td>1</td>\n",
       "      <td>3</td>\n",
       "    </tr>\n",
       "    <tr>\n",
       "      <th>2499</th>\n",
       "      <td>A</td>\n",
       "      <td>Y</td>\n",
       "      <td>1</td>\n",
       "      <td>3</td>\n",
       "    </tr>\n",
       "  </tbody>\n",
       "</table>\n",
       "<p>2500 rows × 4 columns</p>\n",
       "</div>"
      ],
      "text/plain": [
       "     opponent win_symbol opponent_shape_score win_score\n",
       "0           A          Y                    1         3\n",
       "1           B          Z                    2         6\n",
       "2           C          Y                    3         3\n",
       "3           B          Y                    2         3\n",
       "4           A          Y                    1         3\n",
       "...       ...        ...                  ...       ...\n",
       "2495        A          Y                    1         3\n",
       "2496        B          Y                    2         3\n",
       "2497        A          Z                    1         6\n",
       "2498        A          Y                    1         3\n",
       "2499        A          Y                    1         3\n",
       "\n",
       "[2500 rows x 4 columns]"
      ]
     },
     "execution_count": 78,
     "metadata": {},
     "output_type": "execute_result"
    }
   ],
   "source": [
    "rps_df2 = rps_df_win_score[['opponent', 'you', 'opponent_shape_score']].rename({'you': 'win_symbol'}, axis = 1)\n",
    "rps_df2['win_score'] = np.select(\n",
    "    [\n",
    "        rps_df2['win_symbol'] == 'X', \n",
    "        rps_df2['win_symbol'] == 'Y', \n",
    "        rps_df2['win_symbol'] == 'Z'\n",
    "    ], \n",
    "    [\n",
    "        0, \n",
    "        3, \n",
    "        6\n",
    "    ], \n",
    "    default='Unknown'\n",
    ")\n",
    "rps_df2"
   ]
  },
  {
   "cell_type": "code",
   "execution_count": 103,
   "id": "084cff5b-744e-4af8-b99c-196a44e3b771",
   "metadata": {},
   "outputs": [],
   "source": [
    "zipped = zip(rps_df2.opponent_shape_score.to_list(), rps_df2.win_symbol.to_list())\n",
    "you_shape_score = []\n",
    "for x, y in zipped: \n",
    "    if y == 'X': \n",
    "        new_score = int(x) - 1\n",
    "        if new_score == 0: \n",
    "            new_score = 3\n",
    "        you_shape_score.append(new_score)\n",
    "    elif y == 'Y':\n",
    "        you_shape_score.append(int(x))\n",
    "    elif y == 'Z': \n",
    "        new_score = int(x) + 1\n",
    "        if new_score == 4:\n",
    "            new_score = 1        \n",
    "        you_shape_score.append(new_score)"
   ]
  },
  {
   "cell_type": "code",
   "execution_count": 104,
   "id": "f211dd84-8475-4e0d-9cec-ace9b7a223e3",
   "metadata": {},
   "outputs": [
    {
     "data": {
      "text/html": [
       "<div>\n",
       "<style scoped>\n",
       "    .dataframe tbody tr th:only-of-type {\n",
       "        vertical-align: middle;\n",
       "    }\n",
       "\n",
       "    .dataframe tbody tr th {\n",
       "        vertical-align: top;\n",
       "    }\n",
       "\n",
       "    .dataframe thead th {\n",
       "        text-align: right;\n",
       "    }\n",
       "</style>\n",
       "<table border=\"1\" class=\"dataframe\">\n",
       "  <thead>\n",
       "    <tr style=\"text-align: right;\">\n",
       "      <th></th>\n",
       "      <th>opponent</th>\n",
       "      <th>win_symbol</th>\n",
       "      <th>opponent_shape_score</th>\n",
       "      <th>win_score</th>\n",
       "      <th>you_shape_score</th>\n",
       "      <th>total_score</th>\n",
       "    </tr>\n",
       "  </thead>\n",
       "  <tbody>\n",
       "    <tr>\n",
       "      <th>0</th>\n",
       "      <td>A</td>\n",
       "      <td>Y</td>\n",
       "      <td>1</td>\n",
       "      <td>3</td>\n",
       "      <td>1</td>\n",
       "      <td>4</td>\n",
       "    </tr>\n",
       "    <tr>\n",
       "      <th>1</th>\n",
       "      <td>B</td>\n",
       "      <td>Z</td>\n",
       "      <td>2</td>\n",
       "      <td>6</td>\n",
       "      <td>3</td>\n",
       "      <td>9</td>\n",
       "    </tr>\n",
       "    <tr>\n",
       "      <th>2</th>\n",
       "      <td>C</td>\n",
       "      <td>Y</td>\n",
       "      <td>3</td>\n",
       "      <td>3</td>\n",
       "      <td>3</td>\n",
       "      <td>6</td>\n",
       "    </tr>\n",
       "    <tr>\n",
       "      <th>3</th>\n",
       "      <td>B</td>\n",
       "      <td>Y</td>\n",
       "      <td>2</td>\n",
       "      <td>3</td>\n",
       "      <td>2</td>\n",
       "      <td>5</td>\n",
       "    </tr>\n",
       "    <tr>\n",
       "      <th>4</th>\n",
       "      <td>A</td>\n",
       "      <td>Y</td>\n",
       "      <td>1</td>\n",
       "      <td>3</td>\n",
       "      <td>1</td>\n",
       "      <td>4</td>\n",
       "    </tr>\n",
       "    <tr>\n",
       "      <th>...</th>\n",
       "      <td>...</td>\n",
       "      <td>...</td>\n",
       "      <td>...</td>\n",
       "      <td>...</td>\n",
       "      <td>...</td>\n",
       "      <td>...</td>\n",
       "    </tr>\n",
       "    <tr>\n",
       "      <th>2495</th>\n",
       "      <td>A</td>\n",
       "      <td>Y</td>\n",
       "      <td>1</td>\n",
       "      <td>3</td>\n",
       "      <td>1</td>\n",
       "      <td>4</td>\n",
       "    </tr>\n",
       "    <tr>\n",
       "      <th>2496</th>\n",
       "      <td>B</td>\n",
       "      <td>Y</td>\n",
       "      <td>2</td>\n",
       "      <td>3</td>\n",
       "      <td>2</td>\n",
       "      <td>5</td>\n",
       "    </tr>\n",
       "    <tr>\n",
       "      <th>2497</th>\n",
       "      <td>A</td>\n",
       "      <td>Z</td>\n",
       "      <td>1</td>\n",
       "      <td>6</td>\n",
       "      <td>2</td>\n",
       "      <td>8</td>\n",
       "    </tr>\n",
       "    <tr>\n",
       "      <th>2498</th>\n",
       "      <td>A</td>\n",
       "      <td>Y</td>\n",
       "      <td>1</td>\n",
       "      <td>3</td>\n",
       "      <td>1</td>\n",
       "      <td>4</td>\n",
       "    </tr>\n",
       "    <tr>\n",
       "      <th>2499</th>\n",
       "      <td>A</td>\n",
       "      <td>Y</td>\n",
       "      <td>1</td>\n",
       "      <td>3</td>\n",
       "      <td>1</td>\n",
       "      <td>4</td>\n",
       "    </tr>\n",
       "  </tbody>\n",
       "</table>\n",
       "<p>2500 rows × 6 columns</p>\n",
       "</div>"
      ],
      "text/plain": [
       "     opponent win_symbol opponent_shape_score win_score  you_shape_score  \\\n",
       "0           A          Y                    1         3                1   \n",
       "1           B          Z                    2         6                3   \n",
       "2           C          Y                    3         3                3   \n",
       "3           B          Y                    2         3                2   \n",
       "4           A          Y                    1         3                1   \n",
       "...       ...        ...                  ...       ...              ...   \n",
       "2495        A          Y                    1         3                1   \n",
       "2496        B          Y                    2         3                2   \n",
       "2497        A          Z                    1         6                2   \n",
       "2498        A          Y                    1         3                1   \n",
       "2499        A          Y                    1         3                1   \n",
       "\n",
       "      total_score  \n",
       "0               4  \n",
       "1               9  \n",
       "2               6  \n",
       "3               5  \n",
       "4               4  \n",
       "...           ...  \n",
       "2495            4  \n",
       "2496            5  \n",
       "2497            8  \n",
       "2498            4  \n",
       "2499            4  \n",
       "\n",
       "[2500 rows x 6 columns]"
      ]
     },
     "execution_count": 104,
     "metadata": {},
     "output_type": "execute_result"
    }
   ],
   "source": [
    "rps_df2['you_shape_score'] = pd.Series(you_shape_score, index = rps_df2.index)\n",
    "rps_df2['total_score'] = [int(x) + int(y) for x, y in zip(rps_df2.win_score, rps_df2.you_shape_score)]\n",
    "rps_df2"
   ]
  },
  {
   "cell_type": "code",
   "execution_count": 105,
   "id": "a2e29fda-b43f-47e2-8d00-be5bd5fb290f",
   "metadata": {},
   "outputs": [
    {
     "data": {
      "text/plain": [
       "14416"
      ]
     },
     "execution_count": 105,
     "metadata": {},
     "output_type": "execute_result"
    }
   ],
   "source": [
    "rps_df2.total_score.sum()"
   ]
  },
  {
   "cell_type": "markdown",
   "id": "832279d7-c142-4d2e-98a4-948befb8ccc8",
   "metadata": {},
   "source": [
    "# --- Day 3: Rucksack Reorganization ---"
   ]
  },
  {
   "cell_type": "code",
   "execution_count": 146,
   "id": "54c10307-cefc-4873-92ee-5427e136a56c",
   "metadata": {},
   "outputs": [
    {
     "data": {
      "text/plain": [
       "['q', 'F', 'W', 'J', 'B']"
      ]
     },
     "execution_count": 146,
     "metadata": {},
     "output_type": "execute_result"
    }
   ],
   "source": [
    "f = open('input3', 'r')\n",
    "\n",
    "items = []\n",
    "\n",
    "while True: \n",
    "    line = f.readline()\n",
    "    if not line:\n",
    "        break\n",
    "    if line == '\\n':\n",
    "        break\n",
    "    h = int((len(line) - 1) / 2)\n",
    "    l1 = set(line[:h])\n",
    "    l2 = set(line[h:-1])\n",
    "    item = l1 & l2\n",
    "    items.append(str(item)[2])\n",
    "\n",
    "items[:5]"
   ]
  },
  {
   "cell_type": "code",
   "execution_count": 167,
   "id": "c260fa38-c128-456f-ad83-8742ca9344ce",
   "metadata": {},
   "outputs": [],
   "source": [
    "item_values = []\n",
    "for item in items: \n",
    "    value = ord(item) - 96\n",
    "    if value < 0: \n",
    "        value = value + 58\n",
    "    item_values.append(value)"
   ]
  },
  {
   "cell_type": "code",
   "execution_count": 168,
   "id": "a56b7fa8-aebe-444f-a455-fdc4912223fa",
   "metadata": {},
   "outputs": [
    {
     "data": {
      "text/plain": [
       "8240"
      ]
     },
     "execution_count": 168,
     "metadata": {},
     "output_type": "execute_result"
    }
   ],
   "source": [
    "sum(item_values)"
   ]
  },
  {
   "cell_type": "markdown",
   "id": "2fd87731-7d2a-4d88-a003-282b47eceb01",
   "metadata": {},
   "source": [
    "## --- Part Two ---"
   ]
  },
  {
   "cell_type": "code",
   "execution_count": 182,
   "id": "97366ac9-c76c-4b3e-b2c1-bb46e8fb48f2",
   "metadata": {},
   "outputs": [],
   "source": [
    "f = open('input3', 'r')\n",
    "\n",
    "counter = 1\n",
    "group = {}\n",
    "items = []\n",
    "\n",
    "while True: \n",
    "    line = f.readline()\n",
    "    if not line:\n",
    "        break\n",
    "    if line == '\\n':\n",
    "        break\n",
    "    \n",
    "    group[counter] = set(line[:-1])\n",
    "    counter += 1\n",
    "\n",
    "    if counter > 3: \n",
    "        items.append(str(group[1] & group[2] & group[3])[2])  \n",
    "        counter = 1\n",
    "        group = {}\n",
    "    "
   ]
  },
  {
   "cell_type": "code",
   "execution_count": 184,
   "id": "d19ac0b2-225a-4e18-b5ba-6404adaea2dc",
   "metadata": {},
   "outputs": [],
   "source": [
    "item_values = []\n",
    "for item in items: \n",
    "    value = ord(item) - 96\n",
    "    if value < 0: \n",
    "        value = value + 58\n",
    "    item_values.append(value)"
   ]
  },
  {
   "cell_type": "code",
   "execution_count": 185,
   "id": "c4970442-957e-4236-a389-79dd2050c14e",
   "metadata": {},
   "outputs": [
    {
     "data": {
      "text/plain": [
       "2587"
      ]
     },
     "execution_count": 185,
     "metadata": {},
     "output_type": "execute_result"
    }
   ],
   "source": [
    "sum(item_values)"
   ]
  },
  {
   "cell_type": "markdown",
   "id": "76bc87a0-d7c7-4a09-8619-d47bfb95260d",
   "metadata": {},
   "source": [
    "# --- Day 4: Camp Cleanup ---"
   ]
  },
  {
   "cell_type": "code",
   "execution_count": 220,
   "id": "2519f71e-e406-4d4c-91fd-1cbe7ef9d66a",
   "metadata": {},
   "outputs": [
    {
     "name": "stdout",
     "output_type": "stream",
     "text": [
      "1000\n"
     ]
    }
   ],
   "source": [
    "f = open('input4', 'r')\n",
    "\n",
    "total_lines = 0\n",
    "containing_pairs = 0\n",
    "\n",
    "while True: \n",
    "    line = f.readline()\n",
    "    if not line:\n",
    "        break\n",
    "    if line == '\\n':\n",
    "        break\n",
    "    \n",
    "    tkns = [[int(y) for y in x.split('-')] for x in line[:-1].split(',')]\n",
    "    if tkns[0][0] >= tkns[1][0] and tkns[0][1] <= tkns[1][1]: \n",
    "        containing_pairs += 1\n",
    "    elif tkns[0][0] <= tkns[1][0] and tkns[0][1] >= tkns[1][1]: \n",
    "        containing_pairs += 1\n",
    "    else: \n",
    "        pass\n",
    "    total_lines += 1\n",
    "\n",
    "print(total_lines)"
   ]
  },
  {
   "cell_type": "code",
   "execution_count": 222,
   "id": "cd45a521-f2b8-4789-9f1d-e91dc26ed3af",
   "metadata": {},
   "outputs": [
    {
     "data": {
      "text/plain": [
       "466"
      ]
     },
     "execution_count": 222,
     "metadata": {},
     "output_type": "execute_result"
    }
   ],
   "source": [
    "containing_pairs"
   ]
  },
  {
   "cell_type": "markdown",
   "id": "002d7d53-883d-447b-8f8d-051379705891",
   "metadata": {},
   "source": [
    "## --- Part Two ---"
   ]
  },
  {
   "cell_type": "code",
   "execution_count": 266,
   "id": "d37da224-e0d0-4989-b21b-6b6cef5d3199",
   "metadata": {},
   "outputs": [
    {
     "name": "stdout",
     "output_type": "stream",
     "text": [
      "1000\n"
     ]
    }
   ],
   "source": [
    "f = open('input4', 'r')\n",
    "\n",
    "total_lines = 0\n",
    "\n",
    "n_overlap = 0\n",
    "overlapping_pairs = []\n",
    "\n",
    "n_nonoverlap = 0\n",
    "nonoverlapping_pairs = []\n",
    "\n",
    "while True: \n",
    "    line = f.readline()\n",
    "    if not line:\n",
    "        break\n",
    "    if line == '\\n':\n",
    "        break\n",
    "    \n",
    "    tkns = [[int(y) for y in x.split('-')] for x in line[:-1].split(',')]\n",
    "    \n",
    "    if tkns[0][0] >= tkns[1][0] and tkns[0][1] <= tkns[1][1]: \n",
    "            n_overlap += 1\n",
    "    elif tkns[0][0] <= tkns[1][0] and tkns[0][1] >= tkns[1][1]: \n",
    "            n_overlap += 1\n",
    "    elif tkns[0][0] >= tkns[1][0]: \n",
    "        if tkns[0][0] <= tkns[1][1]: \n",
    "            n_overlap += 1\n",
    "    elif tkns[0][1] <= tkns[1][1]: \n",
    "        if tkns[0][1] >= tkns[1][0]: \n",
    "            n_overlap += 1\n",
    "        \n",
    "    total_lines += 1\n",
    "\n",
    "print(total_lines)"
   ]
  },
  {
   "cell_type": "code",
   "execution_count": 267,
   "id": "f20c162e-0d80-4222-a612-9bd2eebe18fa",
   "metadata": {},
   "outputs": [
    {
     "data": {
      "text/plain": [
       "865"
      ]
     },
     "execution_count": 267,
     "metadata": {},
     "output_type": "execute_result"
    }
   ],
   "source": [
    "n_overlap"
   ]
  },
  {
   "cell_type": "code",
   "execution_count": null,
   "id": "0f63d49e-0d25-4077-84f4-15001dc97d51",
   "metadata": {},
   "outputs": [],
   "source": []
  }
 ],
 "metadata": {
  "kernelspec": {
   "display_name": "Python 3 (ipykernel)",
   "language": "python",
   "name": "python3"
  },
  "language_info": {
   "codemirror_mode": {
    "name": "ipython",
    "version": 3
   },
   "file_extension": ".py",
   "mimetype": "text/x-python",
   "name": "python",
   "nbconvert_exporter": "python",
   "pygments_lexer": "ipython3",
   "version": "3.10.4"
  }
 },
 "nbformat": 4,
 "nbformat_minor": 5
}
