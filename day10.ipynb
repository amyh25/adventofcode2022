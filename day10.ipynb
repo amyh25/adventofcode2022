{
 "cells": [
  {
   "cell_type": "markdown",
   "id": "1d174738-68b9-4f31-91ff-82f1f764c743",
   "metadata": {},
   "source": [
    "# Part 1"
   ]
  },
  {
   "cell_type": "code",
   "execution_count": 16,
   "id": "af49e3e3-00d6-4a72-9aa1-cf856dd20bff",
   "metadata": {},
   "outputs": [],
   "source": [
    "f = open('input10', 'r')\n",
    "\n",
    "clock_cycle = 0\n",
    "X = 1\n",
    "X_at_tbegin = {}\n",
    "X_at_tend = {}\n",
    "\n",
    "while True: \n",
    "    line = f.readline()\n",
    "    if not line:\n",
    "        break\n",
    "    if line == '\\n': \n",
    "        break\n",
    "    \n",
    "    X_at_tbegin[clock_cycle] = X\n",
    "    X_at_tend[clock_cycle] = X\n",
    "    \n",
    "    linesplit = line.split(' ')\n",
    "    cmd = linesplit[0]\n",
    "    if cmd == 'addx':\n",
    "        \n",
    "        clock_cycle += 1\n",
    "        X_at_tbegin[clock_cycle] = X\n",
    "        value = int(linesplit[1])\n",
    "        X += value\n",
    "        X_at_tend[clock_cycle] = X\n",
    "        clock_cycle += 1\n",
    "    elif cmd == 'noop\\n': \n",
    "        clock_cycle += 1\n"
   ]
  },
  {
   "cell_type": "code",
   "execution_count": 17,
   "id": "ca48b0c3-0aa6-43c3-b648-ef3e69114310",
   "metadata": {},
   "outputs": [
    {
     "data": {
      "text/plain": [
       "15120"
      ]
     },
     "execution_count": 17,
     "metadata": {},
     "output_type": "execute_result"
    }
   ],
   "source": [
    "X_at_tbegin[20]*20 + X_at_tbegin[60]*60 + X_at_tbegin[100]*100 + X_at_tbegin[140]*140 + X_at_tbegin[180]*180 + X_at_tbegin[220]*220"
   ]
  },
  {
   "cell_type": "markdown",
   "id": "64100fa4-bf3e-4c5b-9393-ea8cf4df5c90",
   "metadata": {},
   "source": [
    "# Part 2"
   ]
  },
  {
   "cell_type": "code",
   "execution_count": 18,
   "id": "9d1506a9-f8bb-46a1-973f-2a22b6660800",
   "metadata": {},
   "outputs": [
    {
     "name": "stdout",
     "output_type": "stream",
     "text": [
      "###..#..#.###....##.###..###..#.....##..\n",
      "#..#.#.#..#..#....#.#..#.#..#.#....#..#.\n",
      "#..#.##...#..#....#.###..#..#.#....#..#.\n",
      "###..#.#..###.....#.#..#.###..#....####.\n",
      "#.#..#.#..#....#..#.#..#.#....#....#..#.\n",
      "#..#.#..#.#.....##..###..#....####.#..#.\n"
     ]
    }
   ],
   "source": [
    "counter = 0\n",
    "for key, value in list(X_at_tbegin.items()): \n",
    "    mkey = key % 40\n",
    "    window = [mkey - 1, mkey, mkey + 1]\n",
    "    if value in window: \n",
    "        print('#', end = '')\n",
    "    else: \n",
    "        print('.', end = '')\n",
    "    counter += 1\n",
    "    if counter == 40: \n",
    "        print('\\n', end = '')\n",
    "        counter = 0"
   ]
  }
 ],
 "metadata": {
  "kernelspec": {
   "display_name": "Python 3",
   "language": "python",
   "name": "python3"
  },
  "language_info": {
   "codemirror_mode": {
    "name": "ipython",
    "version": 3
   },
   "file_extension": ".py",
   "mimetype": "text/x-python",
   "name": "python",
   "nbconvert_exporter": "python",
   "pygments_lexer": "ipython3",
   "version": "3.8.3"
  }
 },
 "nbformat": 4,
 "nbformat_minor": 5
}
